{
 "cells": [
  {
   "cell_type": "code",
   "execution_count": 1,
   "metadata": {
    "executionInfo": {
     "elapsed": 1561,
     "status": "ok",
     "timestamp": 1697343101816,
     "user": {
      "displayName": "viswa prakash",
      "userId": "10526577877653073872"
     },
     "user_tz": -330
    },
    "id": "yt589z_SYfOz"
   },
   "outputs": [],
   "source": [
    " # Importing Basic Libraries\n",
    "import pandas as pd\n",
    "import numpy as np\n",
    "import matplotlib.pyplot as plt\n",
    "%matplotlib inline\n",
    "import seaborn as sns\n",
    "from sklearn.feature_extraction.text import CountVectorizer\n",
    "import nltk\n",
    "from nltk.stem.porter import PorterStemmer\n",
    "from sklearn.metrics.pairwise import cosine_similarity\n",
    "import warnings\n",
    "warnings.filterwarnings('ignore')"
   ]
  },
  {
   "cell_type": "code",
   "execution_count": 2,
   "metadata": {
    "executionInfo": {
     "elapsed": 3311,
     "status": "ok",
     "timestamp": 1697343105124,
     "user": {
      "displayName": "viswa prakash",
      "userId": "10526577877653073872"
     },
     "user_tz": -330
    },
    "id": "yTMUpQqLY8jt"
   },
   "outputs": [],
   "source": [
    "# Importing the course dataset\n",
    "courses = pd.read_csv(\"Course_info.csv\")"
   ]
  },
  {
   "cell_type": "code",
   "execution_count": 3,
   "metadata": {
    "executionInfo": {
     "elapsed": 53729,
     "status": "ok",
     "timestamp": 1697343158848,
     "user": {
      "displayName": "viswa prakash",
      "userId": "10526577877653073872"
     },
     "user_tz": -330
    },
    "id": "dmTogIuxU3ex"
   },
   "outputs": [],
   "source": [
    "# Importing the comment dataset\n",
    "comments = pd.read_csv(\"Comments.csv\")"
   ]
  },
  {
   "cell_type": "code",
   "execution_count": 4,
   "metadata": {
    "colab": {
     "base_uri": "https://localhost:8080/",
     "height": 271
    },
    "executionInfo": {
     "elapsed": 52,
     "status": "ok",
     "timestamp": 1697343158848,
     "user": {
      "displayName": "viswa prakash",
      "userId": "10526577877653073872"
     },
     "user_tz": -330
    },
    "id": "QkFgSNoNUft1",
    "outputId": "b5a97654-bbb4-4632-b82c-161736e5c610"
   },
   "outputs": [
    {
     "data": {
      "text/html": [
       "<div>\n",
       "<style scoped>\n",
       "    .dataframe tbody tr th:only-of-type {\n",
       "        vertical-align: middle;\n",
       "    }\n",
       "\n",
       "    .dataframe tbody tr th {\n",
       "        vertical-align: top;\n",
       "    }\n",
       "\n",
       "    .dataframe thead th {\n",
       "        text-align: right;\n",
       "    }\n",
       "</style>\n",
       "<table border=\"1\" class=\"dataframe\">\n",
       "  <thead>\n",
       "    <tr style=\"text-align: right;\">\n",
       "      <th></th>\n",
       "      <th>id</th>\n",
       "      <th>title</th>\n",
       "      <th>is_paid</th>\n",
       "      <th>price</th>\n",
       "      <th>headline</th>\n",
       "      <th>num_subscribers</th>\n",
       "      <th>avg_rating</th>\n",
       "      <th>num_reviews</th>\n",
       "      <th>num_comments</th>\n",
       "      <th>num_lectures</th>\n",
       "      <th>content_length_min</th>\n",
       "      <th>published_time</th>\n",
       "      <th>last_update_date</th>\n",
       "      <th>category</th>\n",
       "      <th>subcategory</th>\n",
       "      <th>topic</th>\n",
       "      <th>language</th>\n",
       "      <th>course_url</th>\n",
       "      <th>instructor_name</th>\n",
       "      <th>instructor_url</th>\n",
       "    </tr>\n",
       "  </thead>\n",
       "  <tbody>\n",
       "    <tr>\n",
       "      <th>0</th>\n",
       "      <td>4715.0</td>\n",
       "      <td>Online Vegan Vegetarian Cooking School</td>\n",
       "      <td>True</td>\n",
       "      <td>24.99</td>\n",
       "      <td>Learn to cook delicious vegan recipes. Filmed ...</td>\n",
       "      <td>2231.0</td>\n",
       "      <td>3.75</td>\n",
       "      <td>134.0</td>\n",
       "      <td>42.0</td>\n",
       "      <td>37.0</td>\n",
       "      <td>1268.0</td>\n",
       "      <td>2010-08-05T22:06:13Z</td>\n",
       "      <td>2020-11-06</td>\n",
       "      <td>Lifestyle</td>\n",
       "      <td>Food &amp; Beverage</td>\n",
       "      <td>Vegan Cooking</td>\n",
       "      <td>English</td>\n",
       "      <td>/course/vegan-vegetarian-cooking-school/</td>\n",
       "      <td>Angela Poch</td>\n",
       "      <td>/user/angelapoch/</td>\n",
       "    </tr>\n",
       "    <tr>\n",
       "      <th>1</th>\n",
       "      <td>1769.0</td>\n",
       "      <td>The Lean Startup Talk at Stanford E-Corner</td>\n",
       "      <td>False</td>\n",
       "      <td>0.00</td>\n",
       "      <td>Debunking Myths of Entrepreneurship A startup ...</td>\n",
       "      <td>26474.0</td>\n",
       "      <td>4.50</td>\n",
       "      <td>709.0</td>\n",
       "      <td>112.0</td>\n",
       "      <td>9.0</td>\n",
       "      <td>88.0</td>\n",
       "      <td>2010-01-12T18:09:46Z</td>\n",
       "      <td>NaN</td>\n",
       "      <td>Business</td>\n",
       "      <td>Entrepreneurship</td>\n",
       "      <td>Lean Startup</td>\n",
       "      <td>English</td>\n",
       "      <td>/course/the-lean-startup-debunking-myths-of-en...</td>\n",
       "      <td>Eric Ries</td>\n",
       "      <td>/user/ericries/</td>\n",
       "    </tr>\n",
       "  </tbody>\n",
       "</table>\n",
       "</div>"
      ],
      "text/plain": [
       "       id                                       title  is_paid  price  \\\n",
       "0  4715.0      Online Vegan Vegetarian Cooking School     True  24.99   \n",
       "1  1769.0  The Lean Startup Talk at Stanford E-Corner    False   0.00   \n",
       "\n",
       "                                            headline  num_subscribers  \\\n",
       "0  Learn to cook delicious vegan recipes. Filmed ...           2231.0   \n",
       "1  Debunking Myths of Entrepreneurship A startup ...          26474.0   \n",
       "\n",
       "   avg_rating  num_reviews  num_comments  num_lectures  content_length_min  \\\n",
       "0        3.75        134.0          42.0          37.0              1268.0   \n",
       "1        4.50        709.0         112.0           9.0                88.0   \n",
       "\n",
       "         published_time last_update_date   category       subcategory  \\\n",
       "0  2010-08-05T22:06:13Z       2020-11-06  Lifestyle   Food & Beverage   \n",
       "1  2010-01-12T18:09:46Z              NaN   Business  Entrepreneurship   \n",
       "\n",
       "           topic language                                         course_url  \\\n",
       "0  Vegan Cooking  English           /course/vegan-vegetarian-cooking-school/   \n",
       "1   Lean Startup  English  /course/the-lean-startup-debunking-myths-of-en...   \n",
       "\n",
       "  instructor_name     instructor_url  \n",
       "0     Angela Poch  /user/angelapoch/  \n",
       "1       Eric Ries    /user/ericries/  "
      ]
     },
     "execution_count": 4,
     "metadata": {},
     "output_type": "execute_result"
    }
   ],
   "source": [
    "# Checking the rows and columns of the dataset\n",
    "courses.head(2)"
   ]
  },
  {
   "cell_type": "code",
   "execution_count": 5,
   "metadata": {
    "colab": {
     "base_uri": "https://localhost:8080/",
     "height": 112
    },
    "executionInfo": {
     "elapsed": 46,
     "status": "ok",
     "timestamp": 1697343158848,
     "user": {
      "displayName": "viswa prakash",
      "userId": "10526577877653073872"
     },
     "user_tz": -330
    },
    "id": "bwVWFv6MVdUp",
    "outputId": "e0d3d07c-04dc-4329-c68c-197ab503f326"
   },
   "outputs": [
    {
     "data": {
      "text/html": [
       "<div>\n",
       "<style scoped>\n",
       "    .dataframe tbody tr th:only-of-type {\n",
       "        vertical-align: middle;\n",
       "    }\n",
       "\n",
       "    .dataframe tbody tr th {\n",
       "        vertical-align: top;\n",
       "    }\n",
       "\n",
       "    .dataframe thead th {\n",
       "        text-align: right;\n",
       "    }\n",
       "</style>\n",
       "<table border=\"1\" class=\"dataframe\">\n",
       "  <thead>\n",
       "    <tr style=\"text-align: right;\">\n",
       "      <th></th>\n",
       "      <th>id</th>\n",
       "      <th>course_id</th>\n",
       "      <th>rate</th>\n",
       "      <th>date</th>\n",
       "      <th>display_name</th>\n",
       "      <th>comment</th>\n",
       "    </tr>\n",
       "  </thead>\n",
       "  <tbody>\n",
       "    <tr>\n",
       "      <th>0</th>\n",
       "      <td>88962892</td>\n",
       "      <td>3173036</td>\n",
       "      <td>1.0</td>\n",
       "      <td>2021-06-29T18:54:25-07:00</td>\n",
       "      <td>Rahul</td>\n",
       "      <td>I think a beginner needs more than you think.\\...</td>\n",
       "    </tr>\n",
       "    <tr>\n",
       "      <th>1</th>\n",
       "      <td>125535470</td>\n",
       "      <td>4913148</td>\n",
       "      <td>5.0</td>\n",
       "      <td>2022-10-07T11:17:41-07:00</td>\n",
       "      <td>Marlo</td>\n",
       "      <td>Aviva is such a natural teacher and healer/hea...</td>\n",
       "    </tr>\n",
       "  </tbody>\n",
       "</table>\n",
       "</div>"
      ],
      "text/plain": [
       "          id  course_id  rate                       date display_name  \\\n",
       "0   88962892    3173036   1.0  2021-06-29T18:54:25-07:00        Rahul   \n",
       "1  125535470    4913148   5.0  2022-10-07T11:17:41-07:00        Marlo   \n",
       "\n",
       "                                             comment  \n",
       "0  I think a beginner needs more than you think.\\...  \n",
       "1  Aviva is such a natural teacher and healer/hea...  "
      ]
     },
     "execution_count": 5,
     "metadata": {},
     "output_type": "execute_result"
    }
   ],
   "source": [
    "# Checking the rows and columns of the dataset\n",
    "comments.head(2)"
   ]
  },
  {
   "cell_type": "code",
   "execution_count": 6,
   "metadata": {
    "colab": {
     "base_uri": "https://localhost:8080/"
    },
    "executionInfo": {
     "elapsed": 781,
     "status": "ok",
     "timestamp": 1697343159586,
     "user": {
      "displayName": "viswa prakash",
      "userId": "10526577877653073872"
     },
     "user_tz": -330
    },
    "id": "pQ12U9leUm6b",
    "outputId": "6c7289fb-e10b-4147-fa6f-c806aa188b45"
   },
   "outputs": [
    {
     "name": "stdout",
     "output_type": "stream",
     "text": [
      "<class 'pandas.core.frame.DataFrame'>\n",
      "RangeIndex: 209734 entries, 0 to 209733\n",
      "Data columns (total 20 columns):\n",
      " #   Column              Non-Null Count   Dtype  \n",
      "---  ------              --------------   -----  \n",
      " 0   id                  209734 non-null  float64\n",
      " 1   title               209734 non-null  object \n",
      " 2   is_paid             209734 non-null  bool   \n",
      " 3   price               209734 non-null  float64\n",
      " 4   headline            209707 non-null  object \n",
      " 5   num_subscribers     209734 non-null  float64\n",
      " 6   avg_rating          209734 non-null  float64\n",
      " 7   num_reviews         209734 non-null  float64\n",
      " 8   num_comments        209734 non-null  float64\n",
      " 9   num_lectures        209734 non-null  float64\n",
      " 10  content_length_min  209734 non-null  float64\n",
      " 11  published_time      209734 non-null  object \n",
      " 12  last_update_date    209597 non-null  object \n",
      " 13  category            209734 non-null  object \n",
      " 14  subcategory         209734 non-null  object \n",
      " 15  topic               208776 non-null  object \n",
      " 16  language            209734 non-null  object \n",
      " 17  course_url          209734 non-null  object \n",
      " 18  instructor_name     209729 non-null  object \n",
      " 19  instructor_url      209307 non-null  object \n",
      "dtypes: bool(1), float64(8), object(11)\n",
      "memory usage: 30.6+ MB\n"
     ]
    }
   ],
   "source": [
    "# Checking the column types\n",
    "courses.info()"
   ]
  },
  {
   "cell_type": "code",
   "execution_count": 7,
   "metadata": {
    "colab": {
     "base_uri": "https://localhost:8080/",
     "height": 300
    },
    "executionInfo": {
     "elapsed": 30,
     "status": "ok",
     "timestamp": 1697343159586,
     "user": {
      "displayName": "viswa prakash",
      "userId": "10526577877653073872"
     },
     "user_tz": -330
    },
    "id": "d1FlM5vJcIiD",
    "outputId": "f7dfca4a-f701-435e-c36a-130addf6e071"
   },
   "outputs": [
    {
     "data": {
      "text/html": [
       "<div>\n",
       "<style scoped>\n",
       "    .dataframe tbody tr th:only-of-type {\n",
       "        vertical-align: middle;\n",
       "    }\n",
       "\n",
       "    .dataframe tbody tr th {\n",
       "        vertical-align: top;\n",
       "    }\n",
       "\n",
       "    .dataframe thead th {\n",
       "        text-align: right;\n",
       "    }\n",
       "</style>\n",
       "<table border=\"1\" class=\"dataframe\">\n",
       "  <thead>\n",
       "    <tr style=\"text-align: right;\">\n",
       "      <th></th>\n",
       "      <th>id</th>\n",
       "      <th>price</th>\n",
       "      <th>num_subscribers</th>\n",
       "      <th>avg_rating</th>\n",
       "      <th>num_reviews</th>\n",
       "      <th>num_comments</th>\n",
       "      <th>num_lectures</th>\n",
       "      <th>content_length_min</th>\n",
       "    </tr>\n",
       "  </thead>\n",
       "  <tbody>\n",
       "    <tr>\n",
       "      <th>count</th>\n",
       "      <td>2.097340e+05</td>\n",
       "      <td>209734.000000</td>\n",
       "      <td>2.097340e+05</td>\n",
       "      <td>209734.000000</td>\n",
       "      <td>209734.000000</td>\n",
       "      <td>209734.000000</td>\n",
       "      <td>209734.000000</td>\n",
       "      <td>209734.000000</td>\n",
       "    </tr>\n",
       "    <tr>\n",
       "      <th>mean</th>\n",
       "      <td>3.015403e+06</td>\n",
       "      <td>81.665529</td>\n",
       "      <td>3.096992e+03</td>\n",
       "      <td>3.747179</td>\n",
       "      <td>244.358812</td>\n",
       "      <td>44.874589</td>\n",
       "      <td>36.548395</td>\n",
       "      <td>265.558856</td>\n",
       "    </tr>\n",
       "    <tr>\n",
       "      <th>std</th>\n",
       "      <td>1.342558e+06</td>\n",
       "      <td>117.317846</td>\n",
       "      <td>1.558132e+04</td>\n",
       "      <td>1.533711</td>\n",
       "      <td>2458.098276</td>\n",
       "      <td>355.773107</td>\n",
       "      <td>51.871962</td>\n",
       "      <td>454.448676</td>\n",
       "    </tr>\n",
       "    <tr>\n",
       "      <th>min</th>\n",
       "      <td>1.769000e+03</td>\n",
       "      <td>0.000000</td>\n",
       "      <td>0.000000e+00</td>\n",
       "      <td>0.000000</td>\n",
       "      <td>0.000000</td>\n",
       "      <td>0.000000</td>\n",
       "      <td>0.000000</td>\n",
       "      <td>0.000000</td>\n",
       "    </tr>\n",
       "    <tr>\n",
       "      <th>25%</th>\n",
       "      <td>1.950734e+06</td>\n",
       "      <td>19.990000</td>\n",
       "      <td>2.600000e+01</td>\n",
       "      <td>3.800000</td>\n",
       "      <td>3.000000</td>\n",
       "      <td>1.000000</td>\n",
       "      <td>11.000000</td>\n",
       "      <td>69.000000</td>\n",
       "    </tr>\n",
       "    <tr>\n",
       "      <th>50%</th>\n",
       "      <td>3.292863e+06</td>\n",
       "      <td>34.990000</td>\n",
       "      <td>2.060000e+02</td>\n",
       "      <td>4.333334</td>\n",
       "      <td>17.000000</td>\n",
       "      <td>5.000000</td>\n",
       "      <td>22.000000</td>\n",
       "      <td>133.000000</td>\n",
       "    </tr>\n",
       "    <tr>\n",
       "      <th>75%</th>\n",
       "      <td>4.189458e+06</td>\n",
       "      <td>99.990000</td>\n",
       "      <td>1.435000e+03</td>\n",
       "      <td>4.625000</td>\n",
       "      <td>74.000000</td>\n",
       "      <td>18.000000</td>\n",
       "      <td>42.000000</td>\n",
       "      <td>289.000000</td>\n",
       "    </tr>\n",
       "    <tr>\n",
       "      <th>max</th>\n",
       "      <td>4.914146e+06</td>\n",
       "      <td>999.990000</td>\n",
       "      <td>1.752364e+06</td>\n",
       "      <td>5.000000</td>\n",
       "      <td>436457.000000</td>\n",
       "      <td>39040.000000</td>\n",
       "      <td>1095.000000</td>\n",
       "      <td>22570.000000</td>\n",
       "    </tr>\n",
       "  </tbody>\n",
       "</table>\n",
       "</div>"
      ],
      "text/plain": [
       "                 id          price  num_subscribers     avg_rating  \\\n",
       "count  2.097340e+05  209734.000000     2.097340e+05  209734.000000   \n",
       "mean   3.015403e+06      81.665529     3.096992e+03       3.747179   \n",
       "std    1.342558e+06     117.317846     1.558132e+04       1.533711   \n",
       "min    1.769000e+03       0.000000     0.000000e+00       0.000000   \n",
       "25%    1.950734e+06      19.990000     2.600000e+01       3.800000   \n",
       "50%    3.292863e+06      34.990000     2.060000e+02       4.333334   \n",
       "75%    4.189458e+06      99.990000     1.435000e+03       4.625000   \n",
       "max    4.914146e+06     999.990000     1.752364e+06       5.000000   \n",
       "\n",
       "         num_reviews   num_comments   num_lectures  content_length_min  \n",
       "count  209734.000000  209734.000000  209734.000000       209734.000000  \n",
       "mean      244.358812      44.874589      36.548395          265.558856  \n",
       "std      2458.098276     355.773107      51.871962          454.448676  \n",
       "min         0.000000       0.000000       0.000000            0.000000  \n",
       "25%         3.000000       1.000000      11.000000           69.000000  \n",
       "50%        17.000000       5.000000      22.000000          133.000000  \n",
       "75%        74.000000      18.000000      42.000000          289.000000  \n",
       "max    436457.000000   39040.000000    1095.000000        22570.000000  "
      ]
     },
     "execution_count": 7,
     "metadata": {},
     "output_type": "execute_result"
    }
   ],
   "source": [
    "# Checking the descriptive statistics of numerical columns\n",
    "courses.describe()"
   ]
  },
  {
   "cell_type": "code",
   "execution_count": 8,
   "metadata": {
    "colab": {
     "base_uri": "https://localhost:8080/",
     "height": 227
    },
    "executionInfo": {
     "elapsed": 437,
     "status": "ok",
     "timestamp": 1697343159997,
     "user": {
      "displayName": "viswa prakash",
      "userId": "10526577877653073872"
     },
     "user_tz": -330
    },
    "id": "NQKrRB4lcUc_",
    "outputId": "1e18c199-77fc-4586-8269-eddbc1f0c2ff"
   },
   "outputs": [
    {
     "data": {
      "text/html": [
       "<div>\n",
       "<style scoped>\n",
       "    .dataframe tbody tr th:only-of-type {\n",
       "        vertical-align: middle;\n",
       "    }\n",
       "\n",
       "    .dataframe tbody tr th {\n",
       "        vertical-align: top;\n",
       "    }\n",
       "\n",
       "    .dataframe thead th {\n",
       "        text-align: right;\n",
       "    }\n",
       "</style>\n",
       "<table border=\"1\" class=\"dataframe\">\n",
       "  <thead>\n",
       "    <tr style=\"text-align: right;\">\n",
       "      <th></th>\n",
       "      <th>title</th>\n",
       "      <th>headline</th>\n",
       "      <th>published_time</th>\n",
       "      <th>last_update_date</th>\n",
       "      <th>category</th>\n",
       "      <th>subcategory</th>\n",
       "      <th>topic</th>\n",
       "      <th>language</th>\n",
       "      <th>course_url</th>\n",
       "      <th>instructor_name</th>\n",
       "      <th>instructor_url</th>\n",
       "    </tr>\n",
       "  </thead>\n",
       "  <tbody>\n",
       "    <tr>\n",
       "      <th>count</th>\n",
       "      <td>209734</td>\n",
       "      <td>209707</td>\n",
       "      <td>209734</td>\n",
       "      <td>209597</td>\n",
       "      <td>209734</td>\n",
       "      <td>209734</td>\n",
       "      <td>208776</td>\n",
       "      <td>209734</td>\n",
       "      <td>209734</td>\n",
       "      <td>209729</td>\n",
       "      <td>209307</td>\n",
       "    </tr>\n",
       "    <tr>\n",
       "      <th>unique</th>\n",
       "      <td>208257</td>\n",
       "      <td>202744</td>\n",
       "      <td>209562</td>\n",
       "      <td>3532</td>\n",
       "      <td>13</td>\n",
       "      <td>130</td>\n",
       "      <td>3818</td>\n",
       "      <td>79</td>\n",
       "      <td>209734</td>\n",
       "      <td>72731</td>\n",
       "      <td>73514</td>\n",
       "    </tr>\n",
       "    <tr>\n",
       "      <th>top</th>\n",
       "      <td>Python for Beginners</td>\n",
       "      <td>Curso básico desde 0</td>\n",
       "      <td>2016-08-06T07:33:16Z</td>\n",
       "      <td>2022-10-03</td>\n",
       "      <td>Development</td>\n",
       "      <td>Other IT &amp; Software</td>\n",
       "      <td>Python</td>\n",
       "      <td>English</td>\n",
       "      <td>/course/vegan-vegetarian-cooking-school/</td>\n",
       "      <td>Packt Publishing</td>\n",
       "      <td>/user/packtpublishing/</td>\n",
       "    </tr>\n",
       "    <tr>\n",
       "      <th>freq</th>\n",
       "      <td>14</td>\n",
       "      <td>185</td>\n",
       "      <td>4</td>\n",
       "      <td>931</td>\n",
       "      <td>31643</td>\n",
       "      <td>11523</td>\n",
       "      <td>2553</td>\n",
       "      <td>123921</td>\n",
       "      <td>1</td>\n",
       "      <td>1254</td>\n",
       "      <td>1254</td>\n",
       "    </tr>\n",
       "  </tbody>\n",
       "</table>\n",
       "</div>"
      ],
      "text/plain": [
       "                       title              headline        published_time  \\\n",
       "count                 209734                209707                209734   \n",
       "unique                208257                202744                209562   \n",
       "top     Python for Beginners  Curso básico desde 0  2016-08-06T07:33:16Z   \n",
       "freq                      14                   185                     4   \n",
       "\n",
       "       last_update_date     category          subcategory   topic language  \\\n",
       "count            209597       209734               209734  208776   209734   \n",
       "unique             3532           13                  130    3818       79   \n",
       "top          2022-10-03  Development  Other IT & Software  Python  English   \n",
       "freq                931        31643                11523    2553   123921   \n",
       "\n",
       "                                      course_url   instructor_name  \\\n",
       "count                                     209734            209729   \n",
       "unique                                    209734             72731   \n",
       "top     /course/vegan-vegetarian-cooking-school/  Packt Publishing   \n",
       "freq                                           1              1254   \n",
       "\n",
       "                instructor_url  \n",
       "count                   209307  \n",
       "unique                   73514  \n",
       "top     /user/packtpublishing/  \n",
       "freq                      1254  "
      ]
     },
     "execution_count": 8,
     "metadata": {},
     "output_type": "execute_result"
    }
   ],
   "source": [
    "# Checking the descriptive statistics of categorical columns\n",
    "courses.describe(include='O')"
   ]
  },
  {
   "cell_type": "code",
   "execution_count": 9,
   "metadata": {
    "colab": {
     "base_uri": "https://localhost:8080/"
    },
    "executionInfo": {
     "elapsed": 32,
     "status": "ok",
     "timestamp": 1697343159997,
     "user": {
      "displayName": "viswa prakash",
      "userId": "10526577877653073872"
     },
     "user_tz": -330
    },
    "id": "eWk1FoEA1zsO",
    "outputId": "cd82cf78-ad16-48f3-9776-67c0ef222809"
   },
   "outputs": [
    {
     "name": "stdout",
     "output_type": "stream",
     "text": [
      "<class 'pandas.core.frame.DataFrame'>\n",
      "RangeIndex: 9411727 entries, 0 to 9411726\n",
      "Data columns (total 6 columns):\n",
      " #   Column        Dtype  \n",
      "---  ------        -----  \n",
      " 0   id            int64  \n",
      " 1   course_id     int64  \n",
      " 2   rate          float64\n",
      " 3   date          object \n",
      " 4   display_name  object \n",
      " 5   comment       object \n",
      "dtypes: float64(1), int64(2), object(3)\n",
      "memory usage: 430.8+ MB\n"
     ]
    }
   ],
   "source": [
    "# Checking the column types\n",
    "comments.info()"
   ]
  },
  {
   "cell_type": "code",
   "execution_count": 10,
   "metadata": {
    "colab": {
     "base_uri": "https://localhost:8080/"
    },
    "executionInfo": {
     "elapsed": 577,
     "status": "ok",
     "timestamp": 1697343160547,
     "user": {
      "displayName": "viswa prakash",
      "userId": "10526577877653073872"
     },
     "user_tz": -330
    },
    "id": "K4hnWVIz12Ih",
    "outputId": "ae899f70-a4ff-4cb6-9732-60cc98e27c80"
   },
   "outputs": [
    {
     "data": {
      "text/plain": [
       "id                      0\n",
       "title                   0\n",
       "is_paid                 0\n",
       "price                   0\n",
       "headline               27\n",
       "num_subscribers         0\n",
       "avg_rating              0\n",
       "num_reviews             0\n",
       "num_comments            0\n",
       "num_lectures            0\n",
       "content_length_min      0\n",
       "published_time          0\n",
       "last_update_date      137\n",
       "category                0\n",
       "subcategory             0\n",
       "topic                 958\n",
       "language                0\n",
       "course_url              0\n",
       "instructor_name         5\n",
       "instructor_url        427\n",
       "dtype: int64"
      ]
     },
     "execution_count": 10,
     "metadata": {},
     "output_type": "execute_result"
    }
   ],
   "source": [
    "# Checking the missing values in the dataset\n",
    "courses.isnull().sum()"
   ]
  },
  {
   "cell_type": "code",
   "execution_count": 11,
   "metadata": {
    "colab": {
     "base_uri": "https://localhost:8080/"
    },
    "executionInfo": {
     "elapsed": 3730,
     "status": "ok",
     "timestamp": 1697343164266,
     "user": {
      "displayName": "viswa prakash",
      "userId": "10526577877653073872"
     },
     "user_tz": -330
    },
    "id": "z5MrRX7h1946",
    "outputId": "e37ec167-eddb-44c0-da1c-8aab1e066c42"
   },
   "outputs": [
    {
     "data": {
      "text/plain": [
       "id                  0\n",
       "course_id           0\n",
       "rate                0\n",
       "date                0\n",
       "display_name    75362\n",
       "comment          6333\n",
       "dtype: int64"
      ]
     },
     "execution_count": 11,
     "metadata": {},
     "output_type": "execute_result"
    }
   ],
   "source": [
    "# Checking the missing values in the dataset\n",
    "comments.isnull().sum()"
   ]
  },
  {
   "cell_type": "code",
   "execution_count": 12,
   "metadata": {
    "colab": {
     "base_uri": "https://localhost:8080/"
    },
    "executionInfo": {
     "elapsed": 809,
     "status": "ok",
     "timestamp": 1697343165070,
     "user": {
      "displayName": "viswa prakash",
      "userId": "10526577877653073872"
     },
     "user_tz": -330
    },
    "id": "f7ZJFTIL2FMc",
    "outputId": "636c8503-9dcb-4fee-d15d-e9a17409c268"
   },
   "outputs": [
    {
     "data": {
      "text/plain": [
       "0"
      ]
     },
     "execution_count": 12,
     "metadata": {},
     "output_type": "execute_result"
    }
   ],
   "source": [
    "# Checking the duplicates values in the dataset\n",
    "courses.duplicated().sum()"
   ]
  },
  {
   "cell_type": "markdown",
   "metadata": {
    "id": "nJ_vJs653KeP"
   },
   "source": [
    "# EXPLORATORY DATA ANALYSIS"
   ]
  },
  {
   "cell_type": "code",
   "execution_count": 13,
   "metadata": {
    "executionInfo": {
     "elapsed": 42,
     "status": "ok",
     "timestamp": 1697343165071,
     "user": {
      "displayName": "viswa prakash",
      "userId": "10526577877653073872"
     },
     "user_tz": -330
    },
    "id": "AIKC8c5Y5nfm"
   },
   "outputs": [],
   "source": [
    "total_courses = len(courses)"
   ]
  },
  {
   "cell_type": "code",
   "execution_count": 14,
   "metadata": {
    "executionInfo": {
     "elapsed": 41,
     "status": "ok",
     "timestamp": 1697343165071,
     "user": {
      "displayName": "viswa prakash",
      "userId": "10526577877653073872"
     },
     "user_tz": -330
    },
    "id": "BoP_oRvU3QaW"
   },
   "outputs": [],
   "source": [
    "paid_courses = courses[courses['is_paid']==True]\n",
    "free_courses = courses[courses['is_paid']==False]"
   ]
  },
  {
   "cell_type": "code",
   "execution_count": 15,
   "metadata": {
    "executionInfo": {
     "elapsed": 41,
     "status": "ok",
     "timestamp": 1697343165072,
     "user": {
      "displayName": "viswa prakash",
      "userId": "10526577877653073872"
     },
     "user_tz": -330
    },
    "id": "Err8IjPO4op1"
   },
   "outputs": [],
   "source": [
    "total_enrollments = courses['num_subscribers'].sum()\n",
    "paid_enrollments = paid_courses['num_subscribers'].sum()\n",
    "free_enrollments = free_courses['num_subscribers'].sum()"
   ]
  },
  {
   "cell_type": "code",
   "execution_count": 16,
   "metadata": {
    "colab": {
     "base_uri": "https://localhost:8080/"
    },
    "executionInfo": {
     "elapsed": 41,
     "status": "ok",
     "timestamp": 1697343165073,
     "user": {
      "displayName": "viswa prakash",
      "userId": "10526577877653073872"
     },
     "user_tz": -330
    },
    "id": "OHJ2DPUW7CAe",
    "outputId": "024c5eec-ff28-48c0-8e88-69b77498cf06"
   },
   "outputs": [
    {
     "name": "stdout",
     "output_type": "stream",
     "text": [
      "Total Courses:  209734\n",
      "Total Enrollments:  649544497.0\n",
      "Total Paid Courses:  187996\n",
      "Total Free Courses:  21738\n",
      "Total Enrollments in Paid Courses:  495318479.0\n",
      "Total Enrollments in free Courses:  154226018.0\n"
     ]
    }
   ],
   "source": [
    "print('Total Courses: ', total_courses)\n",
    "print('Total Enrollments: ', total_enrollments)\n",
    "print('Total Paid Courses: ', len(paid_courses))\n",
    "print('Total Free Courses: ', len(free_courses))\n",
    "print('Total Enrollments in Paid Courses: ', paid_enrollments)\n",
    "print('Total Enrollments in free Courses: ', free_enrollments)"
   ]
  },
  {
   "cell_type": "code",
   "execution_count": 17,
   "metadata": {
    "colab": {
     "base_uri": "https://localhost:8080/",
     "height": 410
    },
    "executionInfo": {
     "elapsed": 36,
     "status": "ok",
     "timestamp": 1697343165074,
     "user": {
      "displayName": "viswa prakash",
      "userId": "10526577877653073872"
     },
     "user_tz": -330
    },
    "id": "QGlH-0rd8m2T",
    "outputId": "84affd2b-c4b7-457b-f93a-ecd19eb7233b"
   },
   "outputs": [
    {
     "data": {
      "image/png": "[encoded data removed]",
      "text/plain": [
       "<Figure size 360x288 with 1 Axes>"
      ]
     },
     "metadata": {
      "needs_background": "light"
     },
     "output_type": "display_data"
    }
   ],
   "source": [
    "# Distribution of free and paid courses\n",
    "plt.figure(figsize=(5,4))\n",
    "sns.countplot(x='is_paid', data=courses)\n",
    "\n",
    "#ax = sns.countplot(x='is_paid', data=courses)\n",
    "#for p in ax.patches: ax.annotate(f'{p.get_height()}', (p.get_x() + p.get_width()/2. + p.get_height()), ha='center', va='baselaine')\n",
    "\n",
    "plt.title('Distribution of Paid and Free Courses')\n",
    "plt.xlabel('Price (True: Paid, False: Free)')\n",
    "plt.ylabel('Number of Courses')\n",
    "plt.show()"
   ]
  },
  {
   "cell_type": "code",
   "execution_count": 18,
   "metadata": {
    "colab": {
     "base_uri": "https://localhost:8080/",
     "height": 410
    },
    "executionInfo": {
     "elapsed": 1857,
     "status": "ok",
     "timestamp": 1697343166898,
     "user": {
      "displayName": "viswa prakash",
      "userId": "10526577877653073872"
     },
     "user_tz": -330
    },
    "id": "vrzkQyT_AgwF",
    "outputId": "e4786439-788c-4fd3-9620-cee134161523"
   },
   "outputs": [
    {
     "data": {
      "image/png": "[encoded data removed]",
      "text/plain": [
       "<Figure size 864x288 with 1 Axes>"
      ]
     },
     "metadata": {
      "needs_background": "light"
     },
     "output_type": "display_data"
    }
   ],
   "source": [
    "# Price distribution for Paid Courses\n",
    "plt.figure(figsize=(12,4))\n",
    "sns.histplot(paid_courses['price'], bins=100, kde=True)\n",
    "plt.title('Distribution of Prices of Paid Courses')\n",
    "plt.xlabel('Price')\n",
    "plt.ylabel('Frequency')\n",
    "plt.show()"
   ]
  },
  {
   "cell_type": "code",
   "execution_count": 19,
   "metadata": {
    "colab": {
     "base_uri": "https://localhost:8080/",
     "height": 424
    },
    "executionInfo": {
     "elapsed": 51,
     "status": "ok",
     "timestamp": 1697343166899,
     "user": {
      "displayName": "viswa prakash",
      "userId": "10526577877653073872"
     },
     "user_tz": -330
    },
    "id": "hzlCtu5dSQA5",
    "outputId": "67179ea9-10ab-402d-bb3d-a7e47ef06e95"
   },
   "outputs": [
    {
     "data": {
      "text/html": [
       "<div>\n",
       "<style scoped>\n",
       "    .dataframe tbody tr th:only-of-type {\n",
       "        vertical-align: middle;\n",
       "    }\n",
       "\n",
       "    .dataframe tbody tr th {\n",
       "        vertical-align: top;\n",
       "    }\n",
       "\n",
       "    .dataframe thead th {\n",
       "        text-align: right;\n",
       "    }\n",
       "</style>\n",
       "<table border=\"1\" class=\"dataframe\">\n",
       "  <thead>\n",
       "    <tr style=\"text-align: right;\">\n",
       "      <th></th>\n",
       "      <th>title</th>\n",
       "      <th>price</th>\n",
       "      <th>instructor_name</th>\n",
       "      <th>language</th>\n",
       "    </tr>\n",
       "  </thead>\n",
       "  <tbody>\n",
       "    <tr>\n",
       "      <th>69</th>\n",
       "      <td>Oracle Veritabanı Programlama : SQL, PL/SQL, O...</td>\n",
       "      <td>999.99</td>\n",
       "      <td>Cihan Özhan</td>\n",
       "      <td>Turkish</td>\n",
       "    </tr>\n",
       "    <tr>\n",
       "      <th>26590</th>\n",
       "      <td>React Native ile iOS ve Android Uygulama Geliş...</td>\n",
       "      <td>999.99</td>\n",
       "      <td>Yasin Ugurlu</td>\n",
       "      <td>Turkish</td>\n",
       "    </tr>\n",
       "    <tr>\n",
       "      <th>26599</th>\n",
       "      <td>Sıfırdan Wordpress Tema Yapımı</td>\n",
       "      <td>999.99</td>\n",
       "      <td>Ali Çınaroğlu</td>\n",
       "      <td>Turkish</td>\n",
       "    </tr>\n",
       "    <tr>\n",
       "      <th>27917</th>\n",
       "      <td>Go Programlama Dili</td>\n",
       "      <td>999.99</td>\n",
       "      <td>Cihan Özhan</td>\n",
       "      <td>Turkish</td>\n",
       "    </tr>\n",
       "    <tr>\n",
       "      <th>28029</th>\n",
       "      <td>SQL Server Veritabanı Programlama: Temel, Orta...</td>\n",
       "      <td>999.99</td>\n",
       "      <td>Cihan Özhan</td>\n",
       "      <td>Turkish</td>\n",
       "    </tr>\n",
       "    <tr>\n",
       "      <th>...</th>\n",
       "      <td>...</td>\n",
       "      <td>...</td>\n",
       "      <td>...</td>\n",
       "      <td>...</td>\n",
       "    </tr>\n",
       "    <tr>\n",
       "      <th>196148</th>\n",
       "      <td>كورس معادلة هندسة</td>\n",
       "      <td>999.99</td>\n",
       "      <td>Eng: Tarek Hamed</td>\n",
       "      <td>Arabic</td>\n",
       "    </tr>\n",
       "    <tr>\n",
       "      <th>199006</th>\n",
       "      <td>كورس كيف تكتب رواية ـ ورشة كتابة الرواية ـ الم...</td>\n",
       "      <td>999.99</td>\n",
       "      <td>Amir Atef</td>\n",
       "      <td>Arabic</td>\n",
       "    </tr>\n",
       "    <tr>\n",
       "      <th>202947</th>\n",
       "      <td>Advance Your Pharmacy Career (Arabic)</td>\n",
       "      <td>999.99</td>\n",
       "      <td>Rosette Rafaat</td>\n",
       "      <td>Arabic</td>\n",
       "    </tr>\n",
       "    <tr>\n",
       "      <th>203920</th>\n",
       "      <td>Biostatistics For Healthcare Professionals</td>\n",
       "      <td>999.99</td>\n",
       "      <td>Alpha Research Organization</td>\n",
       "      <td>Arabic</td>\n",
       "    </tr>\n",
       "    <tr>\n",
       "      <th>207416</th>\n",
       "      <td>Fitness &amp; nutrition 101 تعلم أساسيات التغذية و...</td>\n",
       "      <td>999.99</td>\n",
       "      <td>Mohamed Ashraf</td>\n",
       "      <td>Arabic</td>\n",
       "    </tr>\n",
       "  </tbody>\n",
       "</table>\n",
       "<p>129 rows × 4 columns</p>\n",
       "</div>"
      ],
      "text/plain": [
       "                                                    title   price  \\\n",
       "69      Oracle Veritabanı Programlama : SQL, PL/SQL, O...  999.99   \n",
       "26590   React Native ile iOS ve Android Uygulama Geliş...  999.99   \n",
       "26599                      Sıfırdan Wordpress Tema Yapımı  999.99   \n",
       "27917                                 Go Programlama Dili  999.99   \n",
       "28029   SQL Server Veritabanı Programlama: Temel, Orta...  999.99   \n",
       "...                                                   ...     ...   \n",
       "196148                                  كورس معادلة هندسة  999.99   \n",
       "199006  كورس كيف تكتب رواية ـ ورشة كتابة الرواية ـ الم...  999.99   \n",
       "202947              Advance Your Pharmacy Career (Arabic)  999.99   \n",
       "203920         Biostatistics For Healthcare Professionals  999.99   \n",
       "207416  Fitness & nutrition 101 تعلم أساسيات التغذية و...  999.99   \n",
       "\n",
       "                    instructor_name language  \n",
       "69                      Cihan Özhan  Turkish  \n",
       "26590                  Yasin Ugurlu  Turkish  \n",
       "26599                 Ali Çınaroğlu  Turkish  \n",
       "27917                   Cihan Özhan  Turkish  \n",
       "28029                   Cihan Özhan  Turkish  \n",
       "...                             ...      ...  \n",
       "196148             Eng: Tarek Hamed   Arabic  \n",
       "199006                    Amir Atef   Arabic  \n",
       "202947               Rosette Rafaat   Arabic  \n",
       "203920  Alpha Research Organization   Arabic  \n",
       "207416               Mohamed Ashraf   Arabic  \n",
       "\n",
       "[129 rows x 4 columns]"
      ]
     },
     "execution_count": 19,
     "metadata": {},
     "output_type": "execute_result"
    }
   ],
   "source": [
    "# Courses with Hightest Price\n",
    "courses[courses['price'] == courses.price.max()][['title','price','instructor_name','language']]"
   ]
  },
  {
   "cell_type": "code",
   "execution_count": 20,
   "metadata": {
    "colab": {
     "base_uri": "https://localhost:8080/",
     "height": 425
    },
    "executionInfo": {
     "elapsed": 50,
     "status": "ok",
     "timestamp": 1697343166900,
     "user": {
      "displayName": "viswa prakash",
      "userId": "10526577877653073872"
     },
     "user_tz": -330
    },
    "id": "VTSqs6NoCXd0",
    "outputId": "1bd3ac40-91a6-4b01-a092-d197fa5a4254"
   },
   "outputs": [
    {
     "data": {
      "image/png": "[encoded data removed]",
      "text/plain": [
       "<Figure size 576x288 with 1 Axes>"
      ]
     },
     "metadata": {
      "needs_background": "light"
     },
     "output_type": "display_data"
    }
   ],
   "source": [
    "# Distribution of Number of Subscribers based on Paid and Free Courses\n",
    "plt.figure(figsize=(8,4))\n",
    "sns.barplot(x= 'is_paid', y='num_subscribers', data= courses, estimator='sum', errorbar=None)\n",
    "\n",
    "plt.title('Distribution of Number of Subscribers based on Paid and Free Courses')\n",
    "plt.xlabel('Price (True: Paid, False: Free)')\n",
    "plt.ylabel('Number of Subscribers')\n",
    "plt.show()"
   ]
  },
  {
   "cell_type": "code",
   "execution_count": 21,
   "metadata": {
    "colab": {
     "base_uri": "https://localhost:8080/",
     "height": 546
    },
    "executionInfo": {
     "elapsed": 1421,
     "status": "ok",
     "timestamp": 1697343168273,
     "user": {
      "displayName": "viswa prakash",
      "userId": "10526577877653073872"
     },
     "user_tz": -330
    },
    "id": "z7OdhVMYxI6y",
    "outputId": "576a0d4f-efa7-485b-fdaf-6a3c9a5b1da7"
   },
   "outputs": [
    {
     "data": {
      "text/plain": [
       "<Figure size 720x432 with 0 Axes>"
      ]
     },
     "metadata": {},
     "output_type": "display_data"
    },
    {
     "data": {
      "image/png": "[encoded data removed]",
      "text/plain": [
       "<Figure size 360x360 with 1 Axes>"
      ]
     },
     "metadata": {
      "needs_background": "light"
     },
     "output_type": "display_data"
    }
   ],
   "source": [
    "plt.figure(figsize=(10,6))\n",
    "sns.displot(courses['avg_rating'])\n",
    "plt.xlabel('Average Rating Distribution')\n",
    "plt.title('Distribution of Average Ratings')\n",
    "plt.show()"
   ]
  },
  {
   "cell_type": "code",
   "execution_count": 22,
   "metadata": {
    "colab": {
     "base_uri": "https://localhost:8080/",
     "height": 410
    },
    "executionInfo": {
     "elapsed": 58,
     "status": "ok",
     "timestamp": 1697343168274,
     "user": {
      "displayName": "viswa prakash",
      "userId": "10526577877653073872"
     },
     "user_tz": -330
    },
    "id": "youl4yWSDlX2",
    "outputId": "9fb3559a-1320-4213-9f43-d39835187996"
   },
   "outputs": [
    {
     "data": {
      "image/png": "[encoded data removed]",
      "text/plain": [
       "<Figure size 360x288 with 1 Axes>"
      ]
     },
     "metadata": {
      "needs_background": "light"
     },
     "output_type": "display_data"
    }
   ],
   "source": [
    "# Top Five Courses with Maximum Subscriber\n",
    "courses_sorted = courses.sort_values(by = 'num_subscribers', ascending = False)\n",
    "top_5_courses = courses_sorted.head()\n",
    "\n",
    "plt.figure(figsize=(5,4))\n",
    "plt.barh(top_5_courses['title'], top_5_courses['num_subscribers'])\n",
    "plt.xlabel('Number of Subscribers')\n",
    "plt.ylabel('Courses Title')\n",
    "plt.title('Top Five Courses with Maximum Subscriber')\n",
    "plt.gca().invert_yaxis()\n",
    "plt.show()"
   ]
  },
  {
   "cell_type": "code",
   "execution_count": 23,
   "metadata": {
    "colab": {
     "base_uri": "https://localhost:8080/",
     "height": 410
    },
    "executionInfo": {
     "elapsed": 55,
     "status": "ok",
     "timestamp": 1697343168274,
     "user": {
      "displayName": "viswa prakash",
      "userId": "10526577877653073872"
     },
     "user_tz": -330
    },
    "id": "w2LqHfXEHGJm",
    "outputId": "a70cc38e-05df-4951-c643-e60b12add4d0"
   },
   "outputs": [
    {
     "data": {
      "image/png": "[encoded data removed]",
      "text/plain": [
       "<Figure size 360x288 with 1 Axes>"
      ]
     },
     "metadata": {
      "needs_background": "light"
     },
     "output_type": "display_data"
    }
   ],
   "source": [
    "# Top Five Courses with Maximum Reviews\n",
    "courses_sorted = courses.sort_values(by = 'num_reviews', ascending = False)\n",
    "top_5_courses = courses_sorted.head()\n",
    "\n",
    "plt.figure(figsize=(5,4))\n",
    "plt.barh(top_5_courses['title'], top_5_courses['num_reviews'], color ='red')\n",
    "plt.xlabel('Number of Reviews')\n",
    "plt.ylabel('Courses Title')\n",
    "plt.title('Top Five Courses with Maximum Reviews')\n",
    "plt.gca().invert_yaxis()\n",
    "plt.show()"
   ]
  },
  {
   "cell_type": "code",
   "execution_count": 24,
   "metadata": {
    "colab": {
     "base_uri": "https://localhost:8080/",
     "height": 410
    },
    "executionInfo": {
     "elapsed": 1529,
     "status": "ok",
     "timestamp": 1697343169751,
     "user": {
      "displayName": "viswa prakash",
      "userId": "10526577877653073872"
     },
     "user_tz": -330
    },
    "id": "j282iOloIYbr",
    "outputId": "74cb8e69-21a4-42b7-92b6-6b16ce09e40b"
   },
   "outputs": [
    {
     "data": {
      "image/png": "[encoded data removed]",
      "text/plain": [
       "<Figure size 360x288 with 1 Axes>"
      ]
     },
     "metadata": {
      "needs_background": "light"
     },
     "output_type": "display_data"
    }
   ],
   "source": [
    "# Top Five Courses with Maximum Comments\n",
    "courses_sorted = courses.sort_values(by = 'num_comments', ascending = False)\n",
    "top_5_courses = courses_sorted.head()\n",
    "\n",
    "plt.figure(figsize=(5,4))\n",
    "plt.barh(top_5_courses['title'], top_5_courses['num_comments'], color = 'red')\n",
    "plt.xlabel('Number of Comments')\n",
    "plt.ylabel('Courses Title')\n",
    "plt.title('Top Five Courses with Maximum Comments')\n",
    "plt.gca().invert_yaxis()\n",
    "plt.show()"
   ]
  },
  {
   "cell_type": "code",
   "execution_count": 25,
   "metadata": {
    "colab": {
     "base_uri": "https://localhost:8080/",
     "height": 410
    },
    "executionInfo": {
     "elapsed": 61,
     "status": "ok",
     "timestamp": 1697343169753,
     "user": {
      "displayName": "viswa prakash",
      "userId": "10526577877653073872"
     },
     "user_tz": -330
    },
    "id": "Okg3dVX4OzdI",
    "outputId": "57ab1372-44c8-4a97-8768-d127599f42ad"
   },
   "outputs": [
    {
     "data": {
      "image/png": "[encoded data removed]",
      "text/plain": [
       "<Figure size 360x288 with 1 Axes>"
      ]
     },
     "metadata": {
      "needs_background": "light"
     },
     "output_type": "display_data"
    }
   ],
   "source": [
    "# Top Five Courses with Maximum Lectures\n",
    "courses_sorted = courses.sort_values(by = 'num_lectures', ascending = False)\n",
    "top_5_courses = courses_sorted.head()\n",
    "\n",
    "plt.figure(figsize=(5,4))\n",
    "plt.barh(top_5_courses['title'], top_5_courses['num_lectures'], color = 'red')\n",
    "plt.xlabel('Number of Lectures')\n",
    "plt.ylabel('Courses Title')\n",
    "plt.title('Top Five Courses with Maximum Lectures')\n",
    "plt.gca().invert_yaxis()\n",
    "plt.show()"
   ]
  },
  {
   "cell_type": "code",
   "execution_count": 26,
   "metadata": {
    "colab": {
     "base_uri": "https://localhost:8080/",
     "height": 410
    },
    "executionInfo": {
     "elapsed": 58,
     "status": "ok",
     "timestamp": 1697343169753,
     "user": {
      "displayName": "viswa prakash",
      "userId": "10526577877653073872"
     },
     "user_tz": -330
    },
    "id": "ACfnyj2DQxsr",
    "outputId": "364fffe6-3f67-4c49-e5f5-19687713b790"
   },
   "outputs": [
    {
     "data": {
      "image/png": "[encoded data removed]",
      "text/plain": [
       "<Figure size 360x288 with 1 Axes>"
      ]
     },
     "metadata": {
      "needs_background": "light"
     },
     "output_type": "display_data"
    }
   ],
   "source": [
    "# Top Five Courses with Highest Content Length\n",
    "courses_sorted = courses.sort_values(by = 'content_length_min', ascending = False)\n",
    "top_5_courses = courses_sorted.head()\n",
    "\n",
    "plt.figure(figsize=(5,4))\n",
    "plt.barh(top_5_courses['title'], top_5_courses['content_length_min'], color = 'orange')\n",
    "plt.xlabel('Content Length in Minutes')\n",
    "plt.ylabel('Courses Title')\n",
    "plt.title('Top Five Courses with Highest Content Length')\n",
    "plt.gca().invert_yaxis()\n",
    "plt.show()"
   ]
  },
  {
   "cell_type": "code",
   "execution_count": 27,
   "metadata": {
    "colab": {
     "base_uri": "https://localhost:8080/"
    },
    "executionInfo": {
     "elapsed": 55,
     "status": "ok",
     "timestamp": 1697343169754,
     "user": {
      "displayName": "viswa prakash",
      "userId": "10526577877653073872"
     },
     "user_tz": -330
    },
    "id": "Vkz4kaY_MP-l",
    "outputId": "fc9ae2de-137a-4987-c6c3-dccb73deaacf"
   },
   "outputs": [
    {
     "name": "stdout",
     "output_type": "stream",
     "text": [
      "count    209734.000000\n",
      "mean          3.747179\n",
      "std           1.533711\n",
      "min           0.000000\n",
      "25%           3.800000\n",
      "50%           4.333334\n",
      "75%           4.625000\n",
      "max           5.000000\n",
      "Name: avg_rating, dtype: float64\n"
     ]
    }
   ],
   "source": [
    "# Summary statistics for Average Rating\n",
    "rating_stats = courses['avg_rating'].describe()\n",
    "print(rating_stats)"
   ]
  },
  {
   "cell_type": "code",
   "execution_count": 28,
   "metadata": {
    "colab": {
     "base_uri": "https://localhost:8080/"
    },
    "executionInfo": {
     "elapsed": 49,
     "status": "ok",
     "timestamp": 1697343169754,
     "user": {
      "displayName": "viswa prakash",
      "userId": "10526577877653073872"
     },
     "user_tz": -330
    },
    "id": "-TMWINYWjvs-",
    "outputId": "f03bebb0-7a86-48fa-893b-ac7708de9f2e"
   },
   "outputs": [
    {
     "data": {
      "text/plain": [
       "5.0"
      ]
     },
     "execution_count": 28,
     "metadata": {},
     "output_type": "execute_result"
    }
   ],
   "source": [
    "courses['avg_rating'].max()"
   ]
  },
  {
   "cell_type": "code",
   "execution_count": 29,
   "metadata": {
    "colab": {
     "base_uri": "https://localhost:8080/",
     "height": 539
    },
    "executionInfo": {
     "elapsed": 46,
     "status": "ok",
     "timestamp": 1697343169754,
     "user": {
      "displayName": "viswa prakash",
      "userId": "10526577877653073872"
     },
     "user_tz": -330
    },
    "id": "aPSJMsebkIgT",
    "outputId": "4f929541-5351-495d-89c7-c33311453789"
   },
   "outputs": [
    {
     "data": {
      "text/html": [
       "<div>\n",
       "<style scoped>\n",
       "    .dataframe tbody tr th:only-of-type {\n",
       "        vertical-align: middle;\n",
       "    }\n",
       "\n",
       "    .dataframe tbody tr th {\n",
       "        vertical-align: top;\n",
       "    }\n",
       "\n",
       "    .dataframe thead th {\n",
       "        text-align: right;\n",
       "    }\n",
       "</style>\n",
       "<table border=\"1\" class=\"dataframe\">\n",
       "  <thead>\n",
       "    <tr style=\"text-align: right;\">\n",
       "      <th></th>\n",
       "      <th>id</th>\n",
       "      <th>title</th>\n",
       "      <th>is_paid</th>\n",
       "      <th>price</th>\n",
       "      <th>headline</th>\n",
       "      <th>num_subscribers</th>\n",
       "      <th>avg_rating</th>\n",
       "      <th>num_reviews</th>\n",
       "      <th>num_comments</th>\n",
       "      <th>num_lectures</th>\n",
       "      <th>content_length_min</th>\n",
       "      <th>published_time</th>\n",
       "      <th>last_update_date</th>\n",
       "      <th>category</th>\n",
       "      <th>subcategory</th>\n",
       "      <th>topic</th>\n",
       "      <th>language</th>\n",
       "      <th>course_url</th>\n",
       "      <th>instructor_name</th>\n",
       "      <th>instructor_url</th>\n",
       "    </tr>\n",
       "  </thead>\n",
       "  <tbody>\n",
       "    <tr>\n",
       "      <th>131526</th>\n",
       "      <td>3788606.0</td>\n",
       "      <td>Cerámica Didáctica Educacional Empresarial y d...</td>\n",
       "      <td>True</td>\n",
       "      <td>1.00</td>\n",
       "      <td>Cerámica didáctica, diseño creativo y funciona...</td>\n",
       "      <td>20.0</td>\n",
       "      <td>5.0</td>\n",
       "      <td>3.0</td>\n",
       "      <td>3.0</td>\n",
       "      <td>27.0</td>\n",
       "      <td>112.0</td>\n",
       "      <td>2021-02-02T00:18:00Z</td>\n",
       "      <td>2022-01-21</td>\n",
       "      <td>Teaching &amp; Academics</td>\n",
       "      <td>Other Teaching &amp; Academics</td>\n",
       "      <td>Teacher Training</td>\n",
       "      <td>Spanish</td>\n",
       "      <td>/course/ceramica-didactica-educacional-empresa...</td>\n",
       "      <td>Arturo Juárez Muñoz</td>\n",
       "      <td>/user/arturojurezmuoz/</td>\n",
       "    </tr>\n",
       "    <tr>\n",
       "      <th>84264</th>\n",
       "      <td>2781084.0</td>\n",
       "      <td>Все технологии БЕЗ ВЫКРОЙКИ одним пакетом.</td>\n",
       "      <td>True</td>\n",
       "      <td>0.11</td>\n",
       "      <td>Быстро и просто. Никакой теории, только практи...</td>\n",
       "      <td>182.0</td>\n",
       "      <td>5.0</td>\n",
       "      <td>71.0</td>\n",
       "      <td>19.0</td>\n",
       "      <td>129.0</td>\n",
       "      <td>536.0</td>\n",
       "      <td>2020-01-28T19:35:55Z</td>\n",
       "      <td>2022-07-26</td>\n",
       "      <td>Design</td>\n",
       "      <td>Fashion Design</td>\n",
       "      <td>Sewing</td>\n",
       "      <td>Russian</td>\n",
       "      <td>/course/bolshoibezvikroiki/</td>\n",
       "      <td>Милослава Краснопольская</td>\n",
       "      <td>/user/miloslsvava/</td>\n",
       "    </tr>\n",
       "    <tr>\n",
       "      <th>136464</th>\n",
       "      <td>3863636.0</td>\n",
       "      <td>Sıfırdan İleri Seviye Jquery</td>\n",
       "      <td>True</td>\n",
       "      <td>379.99</td>\n",
       "      <td>Jquery</td>\n",
       "      <td>649.0</td>\n",
       "      <td>5.0</td>\n",
       "      <td>6.0</td>\n",
       "      <td>0.0</td>\n",
       "      <td>63.0</td>\n",
       "      <td>684.0</td>\n",
       "      <td>2021-02-24T07:13:50Z</td>\n",
       "      <td>2021-04-04</td>\n",
       "      <td>Development</td>\n",
       "      <td>Web Development</td>\n",
       "      <td>jQuery</td>\n",
       "      <td>Turkish</td>\n",
       "      <td>/course/sifirdan-ileri-seviye-jquery/</td>\n",
       "      <td>Hamit Mızrak</td>\n",
       "      <td>/user/hamit-mizrak/</td>\n",
       "    </tr>\n",
       "    <tr>\n",
       "      <th>208781</th>\n",
       "      <td>4891266.0</td>\n",
       "      <td>Le parole che non ti ho detto - edizione BASIC</td>\n",
       "      <td>True</td>\n",
       "      <td>49.99</td>\n",
       "      <td>come comunicare meglio utilizzando le parole g...</td>\n",
       "      <td>14.0</td>\n",
       "      <td>5.0</td>\n",
       "      <td>11.0</td>\n",
       "      <td>11.0</td>\n",
       "      <td>22.0</td>\n",
       "      <td>139.0</td>\n",
       "      <td>2022-09-22T20:13:41Z</td>\n",
       "      <td>2022-09-26</td>\n",
       "      <td>Business</td>\n",
       "      <td>Communication</td>\n",
       "      <td>Real Time Communication</td>\n",
       "      <td>Italian</td>\n",
       "      <td>/course/le-parole-che-non-ti-ho-detto-edizione...</td>\n",
       "      <td>Michele Bresciani</td>\n",
       "      <td>/user/michele-bresciani/</td>\n",
       "    </tr>\n",
       "    <tr>\n",
       "      <th>183045</th>\n",
       "      <td>4532580.0</td>\n",
       "      <td>Virtual Real Estate Investing For Beginners</td>\n",
       "      <td>True</td>\n",
       "      <td>64.99</td>\n",
       "      <td>Real Estate Investing Strategies That Can Be U...</td>\n",
       "      <td>2.0</td>\n",
       "      <td>5.0</td>\n",
       "      <td>1.0</td>\n",
       "      <td>1.0</td>\n",
       "      <td>6.0</td>\n",
       "      <td>89.0</td>\n",
       "      <td>2022-02-13T08:18:22Z</td>\n",
       "      <td>2022-02-10</td>\n",
       "      <td>Business</td>\n",
       "      <td>Real Estate</td>\n",
       "      <td>Real Estate Investing</td>\n",
       "      <td>English</td>\n",
       "      <td>/course/fliptowealth-virtualwholesaling/</td>\n",
       "      <td>Chanel Stough</td>\n",
       "      <td>/user/chanel-stough/</td>\n",
       "    </tr>\n",
       "  </tbody>\n",
       "</table>\n",
       "</div>"
      ],
      "text/plain": [
       "               id                                              title  is_paid  \\\n",
       "131526  3788606.0  Cerámica Didáctica Educacional Empresarial y d...     True   \n",
       "84264   2781084.0         Все технологии БЕЗ ВЫКРОЙКИ одним пакетом.     True   \n",
       "136464  3863636.0                       Sıfırdan İleri Seviye Jquery     True   \n",
       "208781  4891266.0     Le parole che non ti ho detto - edizione BASIC     True   \n",
       "183045  4532580.0        Virtual Real Estate Investing For Beginners     True   \n",
       "\n",
       "         price                                           headline  \\\n",
       "131526    1.00  Cerámica didáctica, diseño creativo y funciona...   \n",
       "84264     0.11  Быстро и просто. Никакой теории, только практи...   \n",
       "136464  379.99                                             Jquery   \n",
       "208781   49.99  come comunicare meglio utilizzando le parole g...   \n",
       "183045   64.99  Real Estate Investing Strategies That Can Be U...   \n",
       "\n",
       "        num_subscribers  avg_rating  num_reviews  num_comments  num_lectures  \\\n",
       "131526             20.0         5.0          3.0           3.0          27.0   \n",
       "84264             182.0         5.0         71.0          19.0         129.0   \n",
       "136464            649.0         5.0          6.0           0.0          63.0   \n",
       "208781             14.0         5.0         11.0          11.0          22.0   \n",
       "183045              2.0         5.0          1.0           1.0           6.0   \n",
       "\n",
       "        content_length_min        published_time last_update_date  \\\n",
       "131526               112.0  2021-02-02T00:18:00Z       2022-01-21   \n",
       "84264                536.0  2020-01-28T19:35:55Z       2022-07-26   \n",
       "136464               684.0  2021-02-24T07:13:50Z       2021-04-04   \n",
       "208781               139.0  2022-09-22T20:13:41Z       2022-09-26   \n",
       "183045                89.0  2022-02-13T08:18:22Z       2022-02-10   \n",
       "\n",
       "                    category                 subcategory  \\\n",
       "131526  Teaching & Academics  Other Teaching & Academics   \n",
       "84264                 Design              Fashion Design   \n",
       "136464           Development             Web Development   \n",
       "208781              Business               Communication   \n",
       "183045              Business                 Real Estate   \n",
       "\n",
       "                          topic language  \\\n",
       "131526         Teacher Training  Spanish   \n",
       "84264                    Sewing  Russian   \n",
       "136464                   jQuery  Turkish   \n",
       "208781  Real Time Communication  Italian   \n",
       "183045    Real Estate Investing  English   \n",
       "\n",
       "                                               course_url  \\\n",
       "131526  /course/ceramica-didactica-educacional-empresa...   \n",
       "84264                         /course/bolshoibezvikroiki/   \n",
       "136464              /course/sifirdan-ileri-seviye-jquery/   \n",
       "208781  /course/le-parole-che-non-ti-ho-detto-edizione...   \n",
       "183045           /course/fliptowealth-virtualwholesaling/   \n",
       "\n",
       "                 instructor_name            instructor_url  \n",
       "131526       Arturo Juárez Muñoz    /user/arturojurezmuoz/  \n",
       "84264   Милослава Краснопольская        /user/miloslsvava/  \n",
       "136464              Hamit Mızrak       /user/hamit-mizrak/  \n",
       "208781         Michele Bresciani  /user/michele-bresciani/  \n",
       "183045             Chanel Stough      /user/chanel-stough/  "
      ]
     },
     "execution_count": 29,
     "metadata": {},
     "output_type": "execute_result"
    }
   ],
   "source": [
    "courses_with_5_rating = courses[courses['avg_rating'] == 5]\n",
    "courses_with_5_rating.sample(5)"
   ]
  },
  {
   "cell_type": "code",
   "execution_count": 30,
   "metadata": {
    "colab": {
     "base_uri": "https://localhost:8080/"
    },
    "executionInfo": {
     "elapsed": 45,
     "status": "ok",
     "timestamp": 1697343169755,
     "user": {
      "displayName": "viswa prakash",
      "userId": "10526577877653073872"
     },
     "user_tz": -330
    },
    "id": "yYWd-otElcx9",
    "outputId": "3a8fefba-9be4-4199-9fdf-5fcd61dc6fff"
   },
   "outputs": [
    {
     "name": "stdout",
     "output_type": "stream",
     "text": [
      "(14392, 20)\n"
     ]
    }
   ],
   "source": [
    "print(courses_with_5_rating.shape)"
   ]
  },
  {
   "cell_type": "code",
   "execution_count": 31,
   "metadata": {
    "colab": {
     "base_uri": "https://localhost:8080/",
     "height": 424
    },
    "executionInfo": {
     "elapsed": 479,
     "status": "ok",
     "timestamp": 1697343170192,
     "user": {
      "displayName": "viswa prakash",
      "userId": "10526577877653073872"
     },
     "user_tz": -330
    },
    "id": "m8GfEgitLoOu",
    "outputId": "53158a33-0420-49de-ee67-2f66fb71f609"
   },
   "outputs": [
    {
     "data": {
      "text/html": [
       "<div>\n",
       "<style scoped>\n",
       "    .dataframe tbody tr th:only-of-type {\n",
       "        vertical-align: middle;\n",
       "    }\n",
       "\n",
       "    .dataframe tbody tr th {\n",
       "        vertical-align: top;\n",
       "    }\n",
       "\n",
       "    .dataframe thead th {\n",
       "        text-align: right;\n",
       "    }\n",
       "</style>\n",
       "<table border=\"1\" class=\"dataframe\">\n",
       "  <thead>\n",
       "    <tr style=\"text-align: right;\">\n",
       "      <th></th>\n",
       "      <th>title</th>\n",
       "      <th>instructor_name</th>\n",
       "      <th>language</th>\n",
       "    </tr>\n",
       "  </thead>\n",
       "  <tbody>\n",
       "    <tr>\n",
       "      <th>118</th>\n",
       "      <td>From Startup to Millions Before 30: Part 2</td>\n",
       "      <td>TeleTime Productions</td>\n",
       "      <td>English</td>\n",
       "    </tr>\n",
       "    <tr>\n",
       "      <th>128</th>\n",
       "      <td>Two-layered online form validation with jQuery...</td>\n",
       "      <td>Sebastian Sulinski</td>\n",
       "      <td>English</td>\n",
       "    </tr>\n",
       "    <tr>\n",
       "      <th>277</th>\n",
       "      <td>Win Them Over with Web Video Part 2</td>\n",
       "      <td>Kamala Appel</td>\n",
       "      <td>English</td>\n",
       "    </tr>\n",
       "    <tr>\n",
       "      <th>329</th>\n",
       "      <td>American Accent Training for IT Professionals</td>\n",
       "      <td>Susan Ryan</td>\n",
       "      <td>English</td>\n",
       "    </tr>\n",
       "    <tr>\n",
       "      <th>521</th>\n",
       "      <td>Personal SEO : Become a Creative Brand Advocate</td>\n",
       "      <td>Philip Campbell</td>\n",
       "      <td>English</td>\n",
       "    </tr>\n",
       "    <tr>\n",
       "      <th>...</th>\n",
       "      <td>...</td>\n",
       "      <td>...</td>\n",
       "      <td>...</td>\n",
       "    </tr>\n",
       "    <tr>\n",
       "      <th>209692</th>\n",
       "      <td>Blender to Unreal Engine Become a Dungeon Prop...</td>\n",
       "      <td>3D Tudor</td>\n",
       "      <td>English</td>\n",
       "    </tr>\n",
       "    <tr>\n",
       "      <th>209693</th>\n",
       "      <td>AWS Certified Solutions Architect Professional...</td>\n",
       "      <td>ازموس ابراهيم</td>\n",
       "      <td>English</td>\n",
       "    </tr>\n",
       "    <tr>\n",
       "      <th>209706</th>\n",
       "      <td>Spiritual Mindfulness</td>\n",
       "      <td>Akshay Yewale</td>\n",
       "      <td>English</td>\n",
       "    </tr>\n",
       "    <tr>\n",
       "      <th>209723</th>\n",
       "      <td>Trauma Informed Care for Leadership Crash Course</td>\n",
       "      <td>Best Skills</td>\n",
       "      <td>English</td>\n",
       "    </tr>\n",
       "    <tr>\n",
       "      <th>209725</th>\n",
       "      <td>Osteo eCourses - Working With The Electromagne...</td>\n",
       "      <td>Aviva Cohen</td>\n",
       "      <td>English</td>\n",
       "    </tr>\n",
       "  </tbody>\n",
       "</table>\n",
       "<p>14392 rows × 3 columns</p>\n",
       "</div>"
      ],
      "text/plain": [
       "                                                    title  \\\n",
       "118            From Startup to Millions Before 30: Part 2   \n",
       "128     Two-layered online form validation with jQuery...   \n",
       "277                   Win Them Over with Web Video Part 2   \n",
       "329         American Accent Training for IT Professionals   \n",
       "521      Personal SEO : Become a Creative Brand Advocate    \n",
       "...                                                   ...   \n",
       "209692  Blender to Unreal Engine Become a Dungeon Prop...   \n",
       "209693  AWS Certified Solutions Architect Professional...   \n",
       "209706                              Spiritual Mindfulness   \n",
       "209723   Trauma Informed Care for Leadership Crash Course   \n",
       "209725  Osteo eCourses - Working With The Electromagne...   \n",
       "\n",
       "             instructor_name language  \n",
       "118     TeleTime Productions  English  \n",
       "128       Sebastian Sulinski  English  \n",
       "277             Kamala Appel  English  \n",
       "329               Susan Ryan  English  \n",
       "521          Philip Campbell  English  \n",
       "...                      ...      ...  \n",
       "209692              3D Tudor  English  \n",
       "209693         ازموس ابراهيم  English  \n",
       "209706         Akshay Yewale  English  \n",
       "209723           Best Skills  English  \n",
       "209725           Aviva Cohen  English  \n",
       "\n",
       "[14392 rows x 3 columns]"
      ]
     },
     "execution_count": 31,
     "metadata": {},
     "output_type": "execute_result"
    }
   ],
   "source": [
    "courses[courses['avg_rating'] == courses.avg_rating.max()][['title','instructor_name','language']]"
   ]
  },
  {
   "cell_type": "code",
   "execution_count": 32,
   "metadata": {
    "colab": {
     "base_uri": "https://localhost:8080/"
    },
    "executionInfo": {
     "elapsed": 48,
     "status": "ok",
     "timestamp": 1697343170192,
     "user": {
      "displayName": "viswa prakash",
      "userId": "10526577877653073872"
     },
     "user_tz": -330
    },
    "id": "ds3bnOioT6A8",
    "outputId": "f308d333-9e32-4d5c-8d2e-2977a9c9eb44"
   },
   "outputs": [
    {
     "data": {
      "text/plain": [
       "array(['Lifestyle', 'Business', 'Design', 'Health & Fitness',\n",
       "       'Finance & Accounting', 'Development', 'Marketing',\n",
       "       'Teaching & Academics', 'IT & Software', 'Office Productivity',\n",
       "       'Music', 'Personal Development', 'Photography & Video'],\n",
       "      dtype=object)"
      ]
     },
     "execution_count": 32,
     "metadata": {},
     "output_type": "execute_result"
    }
   ],
   "source": [
    "courses['category'].unique()"
   ]
  },
  {
   "cell_type": "code",
   "execution_count": 33,
   "metadata": {
    "colab": {
     "base_uri": "https://localhost:8080/"
    },
    "executionInfo": {
     "elapsed": 43,
     "status": "ok",
     "timestamp": 1697343170193,
     "user": {
      "displayName": "viswa prakash",
      "userId": "10526577877653073872"
     },
     "user_tz": -330
    },
    "id": "uBM0A3Vahhya",
    "outputId": "bbc08ed4-dfd4-4812-90a1-09cf0972dd6c"
   },
   "outputs": [
    {
     "data": {
      "text/plain": [
       "array(['Food & Beverage', 'Entrepreneurship', 'Other Lifestyle',\n",
       "       'Pet Care & Training', 'Web Design', 'Yoga', 'Investing & Trading',\n",
       "       'Programming Languages', 'Media', 'Search Engine Optimization',\n",
       "       'Teacher Training', 'Mobile Development', 'IT Certifications',\n",
       "       'Web Development', 'Software Development Tools', 'Design Tools',\n",
       "       'Science', 'General Health', 'Communication', 'Microsoft',\n",
       "       'Digital Marketing', 'Language Learning', 'Dance', 'Hardware',\n",
       "       'Marketing Fundamentals', 'Database Design & Development', 'Sales',\n",
       "       'Business Analytics & Intelligence', 'Game Development', 'Google',\n",
       "       'Industry', 'Humanities', 'Oracle', 'Content Marketing',\n",
       "       'Social Media Marketing', 'Other Teaching & Academics',\n",
       "       'Social Science', 'Operations', 'Instruments', 'Business Strategy',\n",
       "       'Career Development', 'Arts & Crafts', 'Parenting & Relationships',\n",
       "       'Other Business', 'Management', 'Home Improvement & Gardening',\n",
       "       'Personal Brand Building', 'Photography',\n",
       "       'Graphic Design & Illustration', 'Online Education',\n",
       "       'Affiliate Marketing', 'Math', 'Esoteric Practices',\n",
       "       'Marketing Analytics & Automation', 'User Experience Design',\n",
       "       'Branding', 'Personal Transformation', 'Game Design', 'Meditation',\n",
       "       'Network & Security', 'Music Software', 'Digital Photography',\n",
       "       'Music Production', 'Influence', '3D & Animation', 'SAP',\n",
       "       'Fitness', 'Commercial Photography', 'Religion & Spirituality',\n",
       "       'Human Resources', 'Video & Mobile Marketing', 'Interior Design',\n",
       "       'Other Photography & Video', 'Apple', 'Sports',\n",
       "       'Project Management', 'Video Design', 'Other Health & Fitness',\n",
       "       'Portrait Photography', 'Beauty & Makeup',\n",
       "       'Other Office Productivity', 'Other Design', 'Test Prep',\n",
       "       'Happiness', 'Operating Systems & Servers', 'Real Estate',\n",
       "       'Motivation', 'Public Relations', 'Nutrition & Diet',\n",
       "       'Software Testing', 'Finance', 'Accounting & Bookkeeping',\n",
       "       'Other Marketing', 'Mental Health', 'Stress Management',\n",
       "       'Memory & Study Skills', 'Self Esteem & Confidence', 'Creativity',\n",
       "       'Other IT & Software', 'Business Law', 'Personal Productivity',\n",
       "       'Software Engineering', 'Other Personal Development',\n",
       "       'Product Marketing', 'Photography Tools', 'E-Commerce',\n",
       "       'Engineering', 'Paid Advertising', 'Martial Arts & Self Defense',\n",
       "       'Music Fundamentals', 'Leadership',\n",
       "       'Financial Modeling & Analysis', 'Other Finance & Accounting',\n",
       "       'Cryptocurrency & Blockchain', 'Travel', 'Data Science',\n",
       "       'Fashion Design', 'Finance Cert & Exam Prep', 'Vocal',\n",
       "       'Growth Hacking', 'No-Code Development', 'Gaming',\n",
       "       'Architectural Design', 'Money Management Tools',\n",
       "       'Safety & First Aid', 'Music Techniques', 'Other Music',\n",
       "       'Economics', 'Compliance', 'Taxes'], dtype=object)"
      ]
     },
     "execution_count": 33,
     "metadata": {},
     "output_type": "execute_result"
    }
   ],
   "source": [
    "courses['subcategory'].unique()"
   ]
  },
  {
   "cell_type": "code",
   "execution_count": 34,
   "metadata": {
    "colab": {
     "base_uri": "https://localhost:8080/"
    },
    "executionInfo": {
     "elapsed": 38,
     "status": "ok",
     "timestamp": 1697343170193,
     "user": {
      "displayName": "viswa prakash",
      "userId": "10526577877653073872"
     },
     "user_tz": -330
    },
    "id": "sHmbfl7NiTxs",
    "outputId": "f73323ac-876b-4c42-e960-873a4d4063e6"
   },
   "outputs": [
    {
     "name": "stdout",
     "output_type": "stream",
     "text": [
      "Course Categories Distribution:  Development             31643\n",
      "IT & Software           30479\n",
      "Teaching & Academics    26293\n",
      "Business                24670\n",
      "Personal Development    21239\n",
      "Design                  15256\n",
      "Health & Fitness        11568\n",
      "Marketing               11221\n",
      "Lifestyle               10653\n",
      "Finance & Accounting    10572\n",
      "Office Productivity      6297\n",
      "Music                    5977\n",
      "Photography & Video      3866\n",
      "Name: category, dtype: int64\n"
     ]
    }
   ],
   "source": [
    "categories_counts = courses['category'].value_counts()\n",
    "print(\"Course Categories Distribution: \", categories_counts)\n",
    "\n",
    "# Add a pie plot"
   ]
  },
  {
   "cell_type": "code",
   "execution_count": 35,
   "metadata": {
    "colab": {
     "base_uri": "https://localhost:8080/"
    },
    "executionInfo": {
     "elapsed": 35,
     "status": "ok",
     "timestamp": 1697343170193,
     "user": {
      "displayName": "viswa prakash",
      "userId": "10526577877653073872"
     },
     "user_tz": -330
    },
    "id": "y0yeidI0jY7w",
    "outputId": "3f6fe453-d16a-4381-e1ae-52f2e3304147"
   },
   "outputs": [
    {
     "data": {
      "text/plain": [
       "category              subcategory                      \n",
       "Business              Business Analytics & Intelligence    1760\n",
       "                      Business Law                          365\n",
       "                      Business Strategy                    1588\n",
       "                      Communication                        1970\n",
       "                      E-Commerce                           2172\n",
       "                                                           ... \n",
       "Teaching & Academics  Other Teaching & Academics           2164\n",
       "                      Science                              2096\n",
       "                      Social Science                        979\n",
       "                      Teacher Training                     1532\n",
       "                      Test Prep                            2345\n",
       "Length: 130, dtype: int64"
      ]
     },
     "execution_count": 35,
     "metadata": {},
     "output_type": "execute_result"
    }
   ],
   "source": [
    "subcategories_counts = courses.groupby(['category','subcategory']).size()\n",
    "subcategories_counts\n",
    "\n",
    "# Add a pie plot"
   ]
  },
  {
   "cell_type": "code",
   "execution_count": 36,
   "metadata": {
    "colab": {
     "base_uri": "https://localhost:8080/",
     "height": 663
    },
    "executionInfo": {
     "elapsed": 1479,
     "status": "ok",
     "timestamp": 1697343171640,
     "user": {
      "displayName": "viswa prakash",
      "userId": "10526577877653073872"
     },
     "user_tz": -330
    },
    "id": "V2kOqXPEyVLE",
    "outputId": "a040b69f-a3a1-43bb-860c-32d48667dfdb"
   },
   "outputs": [
    {
     "data": {
      "image/png": "[encoded data removed]",
      "text/plain": [
       "<Figure size 1008x432 with 1 Axes>"
      ]
     },
     "metadata": {
      "needs_background": "light"
     },
     "output_type": "display_data"
    }
   ],
   "source": [
    "# Count plot for the number of courses in different langauges\n",
    "plt.figure(figsize=(14, 6))\n",
    "sns.countplot(data=courses, x='language', order=courses['language'].value_counts().index)\n",
    "plt.xlabel(\"\")\n",
    "plt.ylabel(\"Number of courses in every language\")\n",
    "plt.title(\"Udemy Courses offered in different languages\")\n",
    "plt.xticks(rotation=90);"
   ]
  },
  {
   "cell_type": "code",
   "execution_count": 37,
   "metadata": {
    "colab": {
     "base_uri": "https://localhost:8080/"
    },
    "executionInfo": {
     "elapsed": 21,
     "status": "ok",
     "timestamp": 1697343171640,
     "user": {
      "displayName": "viswa prakash",
      "userId": "10526577877653073872"
     },
     "user_tz": -330
    },
    "id": "XfixSRbGMs-3",
    "outputId": "4d0aab08-a076-4bd2-d512-d90f31a999e3"
   },
   "outputs": [
    {
     "data": {
      "text/plain": [
       "English       123921\n",
       "Portuguese     18471\n",
       "Spanish        17428\n",
       "Turkish         8100\n",
       "Japanese        7006\n",
       "               ...  \n",
       "Welsh              1\n",
       "Frisian            1\n",
       "Zulu               1\n",
       "Tatar              1\n",
       "Faroese            1\n",
       "Name: language, Length: 79, dtype: int64"
      ]
     },
     "execution_count": 37,
     "metadata": {},
     "output_type": "execute_result"
    }
   ],
   "source": [
    "courses.language.value_counts()"
   ]
  },
  {
   "cell_type": "code",
   "execution_count": 38,
   "metadata": {
    "colab": {
     "base_uri": "https://localhost:8080/",
     "height": 1000
    },
    "executionInfo": {
     "elapsed": 1941,
     "status": "ok",
     "timestamp": 1697343173564,
     "user": {
      "displayName": "viswa prakash",
      "userId": "10526577877653073872"
     },
     "user_tz": -330
    },
    "id": "iCbZWt0dyVZk",
    "outputId": "86675e17-9112-4178-fa5a-6e062e44eed4"
   },
   "outputs": [
    {
     "data": {
      "text/html": [
       "<style type=\"text/css\">\n",
       "#T_1d7d8_row0_col0 {\n",
       "  background-color: #ffc203;\n",
       "  color: #000000;\n",
       "}\n",
       "#T_1d7d8_row0_col1, #T_1d7d8_row0_col2, #T_1d7d8_row4_col1, #T_1d7d8_row6_col2, #T_1d7d8_row21_col1, #T_1d7d8_row57_col2, #T_1d7d8_row60_col2, #T_1d7d8_row63_col2, #T_1d7d8_row78_col2 {\n",
       "  background-color: #e5fe77;\n",
       "  color: #000000;\n",
       "}\n",
       "#T_1d7d8_row1_col0 {\n",
       "  background-color: #fd8a00;\n",
       "  color: #f1f1f1;\n",
       "}\n",
       "#T_1d7d8_row1_col1, #T_1d7d8_row7_col2, #T_1d7d8_row19_col2, #T_1d7d8_row31_col1, #T_1d7d8_row36_col1, #T_1d7d8_row58_col1 {\n",
       "  background-color: #eff653;\n",
       "  color: #000000;\n",
       "}\n",
       "#T_1d7d8_row1_col2, #T_1d7d8_row30_col1, #T_1d7d8_row36_col2, #T_1d7d8_row44_col1, #T_1d7d8_row45_col1, #T_1d7d8_row45_col2, #T_1d7d8_row58_col2, #T_1d7d8_row67_col1 {\n",
       "  background-color: #e9fb69;\n",
       "  color: #000000;\n",
       "}\n",
       "#T_1d7d8_row2_col0 {\n",
       "  background-color: #ff9c00;\n",
       "  color: #000000;\n",
       "}\n",
       "#T_1d7d8_row2_col1 {\n",
       "  background-color: #faec2c;\n",
       "  color: #000000;\n",
       "}\n",
       "#T_1d7d8_row2_col2, #T_1d7d8_row43_col1, #T_1d7d8_row47_col1 {\n",
       "  background-color: #eef656;\n",
       "  color: #000000;\n",
       "}\n",
       "#T_1d7d8_row3_col0, #T_1d7d8_row3_col1, #T_1d7d8_row3_col2, #T_1d7d8_row4_col2, #T_1d7d8_row17_col0, #T_1d7d8_row17_col1, #T_1d7d8_row17_col2, #T_1d7d8_row25_col0, #T_1d7d8_row25_col1, #T_1d7d8_row25_col2, #T_1d7d8_row26_col2, #T_1d7d8_row37_col1, #T_1d7d8_row37_col2, #T_1d7d8_row39_col1, #T_1d7d8_row42_col2, #T_1d7d8_row59_col2, #T_1d7d8_row63_col1, #T_1d7d8_row74_col2, #T_1d7d8_row76_col0, #T_1d7d8_row76_col1, #T_1d7d8_row76_col2 {\n",
       "  background-color: #e4ff7a;\n",
       "  color: #000000;\n",
       "}\n",
       "#T_1d7d8_row4_col0 {\n",
       "  background-color: #fe9100;\n",
       "  color: #000000;\n",
       "}\n",
       "#T_1d7d8_row5_col0, #T_1d7d8_row34_col0, #T_1d7d8_row51_col0 {\n",
       "  background-color: #fe9500;\n",
       "  color: #000000;\n",
       "}\n",
       "#T_1d7d8_row5_col1, #T_1d7d8_row29_col1 {\n",
       "  background-color: #edf75a;\n",
       "  color: #000000;\n",
       "}\n",
       "#T_1d7d8_row5_col2, #T_1d7d8_row64_col2, #T_1d7d8_row65_col1, #T_1d7d8_row66_col2, #T_1d7d8_row72_col1 {\n",
       "  background-color: #e8fb6b;\n",
       "  color: #000000;\n",
       "}\n",
       "#T_1d7d8_row6_col0 {\n",
       "  background-color: #fc8300;\n",
       "  color: #f1f1f1;\n",
       "}\n",
       "#T_1d7d8_row6_col1, #T_1d7d8_row12_col2, #T_1d7d8_row26_col1, #T_1d7d8_row35_col1, #T_1d7d8_row35_col2, #T_1d7d8_row39_col2, #T_1d7d8_row42_col1, #T_1d7d8_row49_col2, #T_1d7d8_row59_col1, #T_1d7d8_row74_col1, #T_1d7d8_row78_col1 {\n",
       "  background-color: #e4ff78;\n",
       "  color: #000000;\n",
       "}\n",
       "#T_1d7d8_row7_col0 {\n",
       "  background-color: #ffb100;\n",
       "  color: #000000;\n",
       "}\n",
       "#T_1d7d8_row7_col1, #T_1d7d8_row22_col1 {\n",
       "  background-color: #eff551;\n",
       "  color: #000000;\n",
       "}\n",
       "#T_1d7d8_row8_col0 {\n",
       "  background-color: #ffc102;\n",
       "  color: #000000;\n",
       "}\n",
       "#T_1d7d8_row8_col1 {\n",
       "  background-color: #eafa63;\n",
       "  color: #000000;\n",
       "}\n",
       "#T_1d7d8_row8_col2, #T_1d7d8_row9_col2, #T_1d7d8_row12_col1, #T_1d7d8_row13_col2, #T_1d7d8_row30_col2, #T_1d7d8_row49_col1, #T_1d7d8_row53_col1 {\n",
       "  background-color: #e5fe75;\n",
       "  color: #000000;\n",
       "}\n",
       "#T_1d7d8_row9_col0 {\n",
       "  background-color: #ffa300;\n",
       "  color: #000000;\n",
       "}\n",
       "#T_1d7d8_row9_col1, #T_1d7d8_row16_col2, #T_1d7d8_row22_col2, #T_1d7d8_row41_col1, #T_1d7d8_row54_col1, #T_1d7d8_row61_col1, #T_1d7d8_row77_col1 {\n",
       "  background-color: #e7fd71;\n",
       "  color: #000000;\n",
       "}\n",
       "#T_1d7d8_row10_col0, #T_1d7d8_row30_col0 {\n",
       "  background-color: #fe9700;\n",
       "  color: #000000;\n",
       "}\n",
       "#T_1d7d8_row10_col1, #T_1d7d8_row10_col2, #T_1d7d8_row29_col2, #T_1d7d8_row47_col2, #T_1d7d8_row73_col2 {\n",
       "  background-color: #eafa65;\n",
       "  color: #000000;\n",
       "}\n",
       "#T_1d7d8_row11_col0, #T_1d7d8_row66_col0 {\n",
       "  background-color: #ffa100;\n",
       "  color: #000000;\n",
       "}\n",
       "#T_1d7d8_row11_col1, #T_1d7d8_row16_col1, #T_1d7d8_row38_col2 {\n",
       "  background-color: #e9fb68;\n",
       "  color: #000000;\n",
       "}\n",
       "#T_1d7d8_row11_col2, #T_1d7d8_row28_col1, #T_1d7d8_row32_col1, #T_1d7d8_row40_col2, #T_1d7d8_row46_col1, #T_1d7d8_row48_col1, #T_1d7d8_row50_col1, #T_1d7d8_row50_col2, #T_1d7d8_row53_col2, #T_1d7d8_row57_col1, #T_1d7d8_row68_col2 {\n",
       "  background-color: #e6fd72;\n",
       "  color: #000000;\n",
       "}\n",
       "#T_1d7d8_row12_col0 {\n",
       "  background-color: #ffb400;\n",
       "  color: #000000;\n",
       "}\n",
       "#T_1d7d8_row13_col0, #T_1d7d8_row73_col0 {\n",
       "  background-color: #ffa900;\n",
       "  color: #000000;\n",
       "}\n",
       "#T_1d7d8_row13_col1, #T_1d7d8_row18_col1, #T_1d7d8_row21_col2, #T_1d7d8_row24_col2, #T_1d7d8_row28_col2, #T_1d7d8_row32_col2, #T_1d7d8_row46_col2, #T_1d7d8_row48_col2, #T_1d7d8_row67_col2, #T_1d7d8_row77_col2 {\n",
       "  background-color: #e6fe74;\n",
       "  color: #000000;\n",
       "}\n",
       "#T_1d7d8_row14_col0 {\n",
       "  background-color: #ffa400;\n",
       "  color: #000000;\n",
       "}\n",
       "#T_1d7d8_row14_col1, #T_1d7d8_row31_col2, #T_1d7d8_row37_col0 {\n",
       "  background-color: #ecf95f;\n",
       "  color: #000000;\n",
       "}\n",
       "#T_1d7d8_row14_col2, #T_1d7d8_row55_col2 {\n",
       "  background-color: #eafa66;\n",
       "  color: #000000;\n",
       "}\n",
       "#T_1d7d8_row15_col0, #T_1d7d8_row31_col0 {\n",
       "  background-color: #fe9900;\n",
       "  color: #000000;\n",
       "}\n",
       "#T_1d7d8_row15_col1, #T_1d7d8_row27_col0, #T_1d7d8_row27_col2, #T_1d7d8_row65_col0 {\n",
       "  background-color: #fc7f00;\n",
       "  color: #f1f1f1;\n",
       "}\n",
       "#T_1d7d8_row15_col2, #T_1d7d8_row60_col0 {\n",
       "  background-color: #ffb900;\n",
       "  color: #000000;\n",
       "}\n",
       "#T_1d7d8_row16_col0 {\n",
       "  background-color: #fc8000;\n",
       "  color: #f1f1f1;\n",
       "}\n",
       "#T_1d7d8_row18_col0, #T_1d7d8_row26_col0 {\n",
       "  background-color: #ffbe01;\n",
       "  color: #000000;\n",
       "}\n",
       "#T_1d7d8_row18_col2, #T_1d7d8_row68_col1, #T_1d7d8_row72_col2 {\n",
       "  background-color: #e7fc6f;\n",
       "  color: #000000;\n",
       "}\n",
       "#T_1d7d8_row19_col0 {\n",
       "  background-color: #ffa500;\n",
       "  color: #000000;\n",
       "}\n",
       "#T_1d7d8_row19_col1 {\n",
       "  background-color: #f7ef36;\n",
       "  color: #000000;\n",
       "}\n",
       "#T_1d7d8_row20_col0 {\n",
       "  background-color: #fe9a00;\n",
       "  color: #000000;\n",
       "}\n",
       "#T_1d7d8_row20_col1 {\n",
       "  background-color: #ffe81a;\n",
       "  color: #000000;\n",
       "}\n",
       "#T_1d7d8_row20_col2 {\n",
       "  background-color: #f9ed30;\n",
       "  color: #000000;\n",
       "}\n",
       "#T_1d7d8_row21_col0 {\n",
       "  background-color: #ffbd00;\n",
       "  color: #000000;\n",
       "}\n",
       "#T_1d7d8_row22_col0 {\n",
       "  background-color: #ffce0a;\n",
       "  color: #000000;\n",
       "}\n",
       "#T_1d7d8_row23_col0, #T_1d7d8_row62_col0 {\n",
       "  background-color: #fe9600;\n",
       "  color: #000000;\n",
       "}\n",
       "#T_1d7d8_row23_col1 {\n",
       "  background-color: #ffe619;\n",
       "  color: #000000;\n",
       "}\n",
       "#T_1d7d8_row23_col2 {\n",
       "  background-color: #f6f03b;\n",
       "  color: #000000;\n",
       "}\n",
       "#T_1d7d8_row24_col0, #T_1d7d8_row70_col0 {\n",
       "  background-color: #ff9e00;\n",
       "  color: #000000;\n",
       "}\n",
       "#T_1d7d8_row24_col1, #T_1d7d8_row41_col2, #T_1d7d8_row44_col2, #T_1d7d8_row60_col1, #T_1d7d8_row61_col2, #T_1d7d8_row75_col2 {\n",
       "  background-color: #e7fc6e;\n",
       "  color: #000000;\n",
       "}\n",
       "#T_1d7d8_row27_col1 {\n",
       "  background-color: #fc8400;\n",
       "  color: #f1f1f1;\n",
       "}\n",
       "#T_1d7d8_row28_col0, #T_1d7d8_row45_col0, #T_1d7d8_row61_col0 {\n",
       "  background-color: #ffb000;\n",
       "  color: #000000;\n",
       "}\n",
       "#T_1d7d8_row29_col0, #T_1d7d8_row38_col0 {\n",
       "  background-color: #ffaf00;\n",
       "  color: #000000;\n",
       "}\n",
       "#T_1d7d8_row32_col0 {\n",
       "  background-color: #fe9300;\n",
       "  color: #000000;\n",
       "}\n",
       "#T_1d7d8_row33_col0, #T_1d7d8_row41_col0, #T_1d7d8_row55_col0, #T_1d7d8_row67_col0 {\n",
       "  background-color: #fe9800;\n",
       "  color: #000000;\n",
       "}\n",
       "#T_1d7d8_row33_col1, #T_1d7d8_row71_col2 {\n",
       "  background-color: #ffe116;\n",
       "  color: #000000;\n",
       "}\n",
       "#T_1d7d8_row33_col2 {\n",
       "  background-color: #fdea21;\n",
       "  color: #000000;\n",
       "}\n",
       "#T_1d7d8_row34_col1, #T_1d7d8_row57_col0 {\n",
       "  background-color: #ffb800;\n",
       "  color: #000000;\n",
       "}\n",
       "#T_1d7d8_row34_col2 {\n",
       "  background-color: #faed2d;\n",
       "  color: #000000;\n",
       "}\n",
       "#T_1d7d8_row35_col0 {\n",
       "  background-color: #ffc002;\n",
       "  color: #000000;\n",
       "}\n",
       "#T_1d7d8_row36_col0 {\n",
       "  background-color: #ffa200;\n",
       "  color: #000000;\n",
       "}\n",
       "#T_1d7d8_row38_col1 {\n",
       "  background-color: #ecf85c;\n",
       "  color: #000000;\n",
       "}\n",
       "#T_1d7d8_row39_col0 {\n",
       "  background-color: #ffc404;\n",
       "  color: #000000;\n",
       "}\n",
       "#T_1d7d8_row40_col0, #T_1d7d8_row42_col0, #T_1d7d8_row77_col0 {\n",
       "  background-color: #fc8100;\n",
       "  color: #f1f1f1;\n",
       "}\n",
       "#T_1d7d8_row40_col1, #T_1d7d8_row54_col2, #T_1d7d8_row65_col2, #T_1d7d8_row69_col2 {\n",
       "  background-color: #e8fc6c;\n",
       "  color: #000000;\n",
       "}\n",
       "#T_1d7d8_row43_col0 {\n",
       "  background-color: #ffd911;\n",
       "  color: #000000;\n",
       "}\n",
       "#T_1d7d8_row43_col2, #T_1d7d8_row69_col1, #T_1d7d8_row70_col2 {\n",
       "  background-color: #eff654;\n",
       "  color: #000000;\n",
       "}\n",
       "#T_1d7d8_row44_col0, #T_1d7d8_row50_col0 {\n",
       "  background-color: #ffb300;\n",
       "  color: #000000;\n",
       "}\n",
       "#T_1d7d8_row46_col0 {\n",
       "  background-color: #ffe81b;\n",
       "  color: #000000;\n",
       "}\n",
       "#T_1d7d8_row47_col0 {\n",
       "  background-color: #fd8e00;\n",
       "  color: #f1f1f1;\n",
       "}\n",
       "#T_1d7d8_row48_col0, #T_1d7d8_row71_col1 {\n",
       "  background-color: #ffad00;\n",
       "  color: #000000;\n",
       "}\n",
       "#T_1d7d8_row49_col0, #T_1d7d8_row75_col0 {\n",
       "  background-color: #ffba00;\n",
       "  color: #000000;\n",
       "}\n",
       "#T_1d7d8_row51_col1 {\n",
       "  background-color: #ffdc13;\n",
       "  color: #000000;\n",
       "}\n",
       "#T_1d7d8_row51_col2, #T_1d7d8_row70_col1 {\n",
       "  background-color: #f6ef39;\n",
       "  color: #000000;\n",
       "}\n",
       "#T_1d7d8_row52_col0 {\n",
       "  background-color: #fe9200;\n",
       "  color: #000000;\n",
       "}\n",
       "#T_1d7d8_row52_col1, #T_1d7d8_row69_col0 {\n",
       "  background-color: #ffa000;\n",
       "  color: #000000;\n",
       "}\n",
       "#T_1d7d8_row52_col2 {\n",
       "  background-color: #ffc505;\n",
       "  color: #000000;\n",
       "}\n",
       "#T_1d7d8_row53_col0, #T_1d7d8_row68_col0, #T_1d7d8_row72_col0 {\n",
       "  background-color: #ffaa00;\n",
       "  color: #000000;\n",
       "}\n",
       "#T_1d7d8_row54_col0, #T_1d7d8_row58_col0 {\n",
       "  background-color: #ffa800;\n",
       "  color: #000000;\n",
       "}\n",
       "#T_1d7d8_row55_col1 {\n",
       "  background-color: #f0f550;\n",
       "  color: #000000;\n",
       "}\n",
       "#T_1d7d8_row56_col0 {\n",
       "  background-color: #ff9d00;\n",
       "  color: #000000;\n",
       "}\n",
       "#T_1d7d8_row56_col1 {\n",
       "  background-color: #fee91d;\n",
       "  color: #000000;\n",
       "}\n",
       "#T_1d7d8_row56_col2 {\n",
       "  background-color: #f2f34a;\n",
       "  color: #000000;\n",
       "}\n",
       "#T_1d7d8_row59_col0 {\n",
       "  background-color: #ffcd0a;\n",
       "  color: #000000;\n",
       "}\n",
       "#T_1d7d8_row62_col1 {\n",
       "  background-color: #ffb200;\n",
       "  color: #000000;\n",
       "}\n",
       "#T_1d7d8_row62_col2 {\n",
       "  background-color: #ffbc00;\n",
       "  color: #000000;\n",
       "}\n",
       "#T_1d7d8_row63_col0 {\n",
       "  background-color: #ffd60f;\n",
       "  color: #000000;\n",
       "}\n",
       "#T_1d7d8_row64_col0 {\n",
       "  background-color: #ffa700;\n",
       "  color: #000000;\n",
       "}\n",
       "#T_1d7d8_row64_col1, #T_1d7d8_row73_col1 {\n",
       "  background-color: #ebf960;\n",
       "  color: #000000;\n",
       "}\n",
       "#T_1d7d8_row66_col1 {\n",
       "  background-color: #ebf962;\n",
       "  color: #000000;\n",
       "}\n",
       "#T_1d7d8_row71_col0 {\n",
       "  background-color: #fe9000;\n",
       "  color: #000000;\n",
       "}\n",
       "#T_1d7d8_row74_col0 {\n",
       "  background-color: #ffda11;\n",
       "  color: #000000;\n",
       "}\n",
       "#T_1d7d8_row75_col1 {\n",
       "  background-color: #ecf85d;\n",
       "  color: #000000;\n",
       "}\n",
       "#T_1d7d8_row78_col0 {\n",
       "  background-color: #ffac00;\n",
       "  color: #000000;\n",
       "}\n",
       "</style>\n",
       "<table id=\"T_1d7d8\">\n",
       "  <thead>\n",
       "    <tr>\n",
       "      <th class=\"blank level0\" >&nbsp;</th>\n",
       "      <th id=\"T_1d7d8_level0_col0\" class=\"col_heading level0 col0\" >avg_rating</th>\n",
       "      <th id=\"T_1d7d8_level0_col1\" class=\"col_heading level0 col1\" >num_reviews</th>\n",
       "      <th id=\"T_1d7d8_level0_col2\" class=\"col_heading level0 col2\" >num_comments</th>\n",
       "    </tr>\n",
       "    <tr>\n",
       "      <th class=\"index_name level0\" >language</th>\n",
       "      <th class=\"blank col0\" >&nbsp;</th>\n",
       "      <th class=\"blank col1\" >&nbsp;</th>\n",
       "      <th class=\"blank col2\" >&nbsp;</th>\n",
       "    </tr>\n",
       "  </thead>\n",
       "  <tbody>\n",
       "    <tr>\n",
       "      <th id=\"T_1d7d8_level0_row0\" class=\"row_heading level0 row0\" >Afrikaans</th>\n",
       "      <td id=\"T_1d7d8_row0_col0\" class=\"data row0 col0\" >2.186806</td>\n",
       "      <td id=\"T_1d7d8_row0_col1\" class=\"data row0 col1\" >2.638889</td>\n",
       "      <td id=\"T_1d7d8_row0_col2\" class=\"data row0 col2\" >1.138889</td>\n",
       "    </tr>\n",
       "    <tr>\n",
       "      <th id=\"T_1d7d8_level0_row1\" class=\"row_heading level0 row1\" >Albanian</th>\n",
       "      <td id=\"T_1d7d8_row1_col0\" class=\"data row1 col0\" >4.244444</td>\n",
       "      <td id=\"T_1d7d8_row1_col1\" class=\"data row1 col1\" >32.222222</td>\n",
       "      <td id=\"T_1d7d8_row1_col2\" class=\"data row1 col2\" >4.444444</td>\n",
       "    </tr>\n",
       "    <tr>\n",
       "      <th id=\"T_1d7d8_level0_row2\" class=\"row_heading level0 row2\" >Arabic</th>\n",
       "      <td id=\"T_1d7d8_row2_col0\" class=\"data row2 col0\" >3.627930</td>\n",
       "      <td id=\"T_1d7d8_row2_col1\" class=\"data row2 col1\" >64.325957</td>\n",
       "      <td id=\"T_1d7d8_row2_col2\" class=\"data row2 col2\" >9.801039</td>\n",
       "    </tr>\n",
       "    <tr>\n",
       "      <th id=\"T_1d7d8_level0_row3\" class=\"row_heading level0 row3\" >Armenian</th>\n",
       "      <td id=\"T_1d7d8_row3_col0\" class=\"data row3 col0\" >0.000000</td>\n",
       "      <td id=\"T_1d7d8_row3_col1\" class=\"data row3 col1\" >0.000000</td>\n",
       "      <td id=\"T_1d7d8_row3_col2\" class=\"data row3 col2\" >0.000000</td>\n",
       "    </tr>\n",
       "    <tr>\n",
       "      <th id=\"T_1d7d8_level0_row4\" class=\"row_heading level0 row4\" >Aymara</th>\n",
       "      <td id=\"T_1d7d8_row4_col0\" class=\"data row4 col0\" >4.000000</td>\n",
       "      <td id=\"T_1d7d8_row4_col1\" class=\"data row4 col1\" >3.000000</td>\n",
       "      <td id=\"T_1d7d8_row4_col2\" class=\"data row4 col2\" >0.000000</td>\n",
       "    </tr>\n",
       "    <tr>\n",
       "      <th id=\"T_1d7d8_level0_row5\" class=\"row_heading level0 row5\" >Azeri</th>\n",
       "      <td id=\"T_1d7d8_row5_col0\" class=\"data row5 col0\" >3.876813</td>\n",
       "      <td id=\"T_1d7d8_row5_col1\" class=\"data row5 col1\" >26.585366</td>\n",
       "      <td id=\"T_1d7d8_row5_col2\" class=\"data row5 col2\" >4.341463</td>\n",
       "    </tr>\n",
       "    <tr>\n",
       "      <th id=\"T_1d7d8_level0_row6\" class=\"row_heading level0 row6\" >Basque</th>\n",
       "      <td id=\"T_1d7d8_row6_col0\" class=\"data row6 col0\" >4.500000</td>\n",
       "      <td id=\"T_1d7d8_row6_col1\" class=\"data row6 col1\" >2.000000</td>\n",
       "      <td id=\"T_1d7d8_row6_col2\" class=\"data row6 col2\" >1.000000</td>\n",
       "    </tr>\n",
       "    <tr>\n",
       "      <th id=\"T_1d7d8_level0_row7\" class=\"row_heading level0 row7\" >Bengali</th>\n",
       "      <td id=\"T_1d7d8_row7_col0\" class=\"data row7 col0\" >2.795198</td>\n",
       "      <td id=\"T_1d7d8_row7_col1\" class=\"data row7 col1\" >33.364706</td>\n",
       "      <td id=\"T_1d7d8_row7_col2\" class=\"data row7 col2\" >10.517647</td>\n",
       "    </tr>\n",
       "    <tr>\n",
       "      <th id=\"T_1d7d8_level0_row8\" class=\"row_heading level0 row8\" >Bulgarian</th>\n",
       "      <td id=\"T_1d7d8_row8_col0\" class=\"data row8 col0\" >2.224735</td>\n",
       "      <td id=\"T_1d7d8_row8_col1\" class=\"data row8 col1\" >18.481481</td>\n",
       "      <td id=\"T_1d7d8_row8_col2\" class=\"data row8 col2\" >1.370370</td>\n",
       "    </tr>\n",
       "    <tr>\n",
       "      <th id=\"T_1d7d8_level0_row9\" class=\"row_heading level0 row9\" >Burmese</th>\n",
       "      <td id=\"T_1d7d8_row9_col0\" class=\"data row9 col0\" >3.361316</td>\n",
       "      <td id=\"T_1d7d8_row9_col1\" class=\"data row9 col1\" >8.064516</td>\n",
       "      <td id=\"T_1d7d8_row9_col2\" class=\"data row9 col2\" >1.354839</td>\n",
       "    </tr>\n",
       "    <tr>\n",
       "      <th id=\"T_1d7d8_level0_row10\" class=\"row_heading level0 row10\" >Catalan</th>\n",
       "      <td id=\"T_1d7d8_row10_col0\" class=\"data row10 col0\" >3.793708</td>\n",
       "      <td id=\"T_1d7d8_row10_col1\" class=\"data row10 col1\" >17.285714</td>\n",
       "      <td id=\"T_1d7d8_row10_col2\" class=\"data row10 col2\" >6.000000</td>\n",
       "    </tr>\n",
       "    <tr>\n",
       "      <th id=\"T_1d7d8_level0_row11\" class=\"row_heading level0 row11\" >Croatian</th>\n",
       "      <td id=\"T_1d7d8_row11_col0\" class=\"data row11 col0\" >3.453317</td>\n",
       "      <td id=\"T_1d7d8_row11_col1\" class=\"data row11 col1\" >14.636364</td>\n",
       "      <td id=\"T_1d7d8_row11_col2\" class=\"data row11 col2\" >2.181818</td>\n",
       "    </tr>\n",
       "    <tr>\n",
       "      <th id=\"T_1d7d8_level0_row12\" class=\"row_heading level0 row12\" >Czech</th>\n",
       "      <td id=\"T_1d7d8_row12_col0\" class=\"data row12 col0\" >2.698684</td>\n",
       "      <td id=\"T_1d7d8_row12_col1\" class=\"data row12 col1\" >3.736842</td>\n",
       "      <td id=\"T_1d7d8_row12_col2\" class=\"data row12 col2\" >0.526316</td>\n",
       "    </tr>\n",
       "    <tr>\n",
       "      <th id=\"T_1d7d8_level0_row13\" class=\"row_heading level0 row13\" >Danish</th>\n",
       "      <td id=\"T_1d7d8_row13_col0\" class=\"data row13 col0\" >3.115000</td>\n",
       "      <td id=\"T_1d7d8_row13_col1\" class=\"data row13 col1\" >5.900000</td>\n",
       "      <td id=\"T_1d7d8_row13_col2\" class=\"data row13 col2\" >1.600000</td>\n",
       "    </tr>\n",
       "    <tr>\n",
       "      <th id=\"T_1d7d8_level0_row14\" class=\"row_heading level0 row14\" >Dutch</th>\n",
       "      <td id=\"T_1d7d8_row14_col0\" class=\"data row14 col0\" >3.339721</td>\n",
       "      <td id=\"T_1d7d8_row14_col1\" class=\"data row14 col1\" >23.057269</td>\n",
       "      <td id=\"T_1d7d8_row14_col2\" class=\"data row14 col2\" >5.555066</td>\n",
       "    </tr>\n",
       "    <tr>\n",
       "      <th id=\"T_1d7d8_level0_row15\" class=\"row_heading level0 row15\" >English</th>\n",
       "      <td id=\"T_1d7d8_row15_col0\" class=\"data row15 col0\" >3.723735</td>\n",
       "      <td id=\"T_1d7d8_row15_col1\" class=\"data row15 col1\" >312.029898</td>\n",
       "      <td id=\"T_1d7d8_row15_col2\" class=\"data row15 col2\" >54.752278</td>\n",
       "    </tr>\n",
       "    <tr>\n",
       "      <th id=\"T_1d7d8_level0_row16\" class=\"row_heading level0 row16\" >Estonian</th>\n",
       "      <td id=\"T_1d7d8_row16_col0\" class=\"data row16 col0\" >4.606905</td>\n",
       "      <td id=\"T_1d7d8_row16_col1\" class=\"data row16 col1\" >15.800000</td>\n",
       "      <td id=\"T_1d7d8_row16_col2\" class=\"data row16 col2\" >2.800000</td>\n",
       "    </tr>\n",
       "    <tr>\n",
       "      <th id=\"T_1d7d8_level0_row17\" class=\"row_heading level0 row17\" >Faroese</th>\n",
       "      <td id=\"T_1d7d8_row17_col0\" class=\"data row17 col0\" >0.000000</td>\n",
       "      <td id=\"T_1d7d8_row17_col1\" class=\"data row17 col1\" >0.000000</td>\n",
       "      <td id=\"T_1d7d8_row17_col2\" class=\"data row17 col2\" >0.000000</td>\n",
       "    </tr>\n",
       "    <tr>\n",
       "      <th id=\"T_1d7d8_level0_row18\" class=\"row_heading level0 row18\" >Filipino</th>\n",
       "      <td id=\"T_1d7d8_row18_col0\" class=\"data row18 col0\" >2.303125</td>\n",
       "      <td id=\"T_1d7d8_row18_col1\" class=\"data row18 col1\" >5.250000</td>\n",
       "      <td id=\"T_1d7d8_row18_col2\" class=\"data row18 col2\" >2.812500</td>\n",
       "    </tr>\n",
       "    <tr>\n",
       "      <th id=\"T_1d7d8_level0_row19\" class=\"row_heading level0 row19\" >Finnish</th>\n",
       "      <td id=\"T_1d7d8_row19_col0\" class=\"data row19 col0\" >3.303526</td>\n",
       "      <td id=\"T_1d7d8_row19_col1\" class=\"data row19 col1\" >55.153846</td>\n",
       "      <td id=\"T_1d7d8_row19_col2\" class=\"data row19 col2\" >10.538462</td>\n",
       "    </tr>\n",
       "    <tr>\n",
       "      <th id=\"T_1d7d8_level0_row20\" class=\"row_heading level0 row20\" >French</th>\n",
       "      <td id=\"T_1d7d8_row20_col0\" class=\"data row20 col0\" >3.679066</td>\n",
       "      <td id=\"T_1d7d8_row20_col1\" class=\"data row20 col1\" >79.140165</td>\n",
       "      <td id=\"T_1d7d8_row20_col2\" class=\"data row20 col2\" >19.790302</td>\n",
       "    </tr>\n",
       "    <tr>\n",
       "      <th id=\"T_1d7d8_level0_row21\" class=\"row_heading level0 row21\" >Frisian</th>\n",
       "      <td id=\"T_1d7d8_row21_col0\" class=\"data row21 col0\" >2.333333</td>\n",
       "      <td id=\"T_1d7d8_row21_col1\" class=\"data row21 col1\" >3.000000</td>\n",
       "      <td id=\"T_1d7d8_row21_col2\" class=\"data row21 col2\" >2.000000</td>\n",
       "    </tr>\n",
       "    <tr>\n",
       "      <th id=\"T_1d7d8_level0_row22\" class=\"row_heading level0 row22\" >Georgian</th>\n",
       "      <td id=\"T_1d7d8_row22_col0\" class=\"data row22 col0\" >1.876965</td>\n",
       "      <td id=\"T_1d7d8_row22_col1\" class=\"data row22 col1\" >33.333333</td>\n",
       "      <td id=\"T_1d7d8_row22_col2\" class=\"data row22 col2\" >2.777778</td>\n",
       "    </tr>\n",
       "    <tr>\n",
       "      <th id=\"T_1d7d8_level0_row23\" class=\"row_heading level0 row23\" >German</th>\n",
       "      <td id=\"T_1d7d8_row23_col0\" class=\"data row23 col0\" >3.819982</td>\n",
       "      <td id=\"T_1d7d8_row23_col1\" class=\"data row23 col1\" >81.088182</td>\n",
       "      <td id=\"T_1d7d8_row23_col2\" class=\"data row23 col2\" >16.985904</td>\n",
       "    </tr>\n",
       "    <tr>\n",
       "      <th id=\"T_1d7d8_level0_row24\" class=\"row_heading level0 row24\" >Greek</th>\n",
       "      <td id=\"T_1d7d8_row24_col0\" class=\"data row24 col0\" >3.543675</td>\n",
       "      <td id=\"T_1d7d8_row24_col1\" class=\"data row24 col1\" >10.866667</td>\n",
       "      <td id=\"T_1d7d8_row24_col2\" class=\"data row24 col2\" >1.704762</td>\n",
       "    </tr>\n",
       "    <tr>\n",
       "      <th id=\"T_1d7d8_level0_row25\" class=\"row_heading level0 row25\" >Guaraní</th>\n",
       "      <td id=\"T_1d7d8_row25_col0\" class=\"data row25 col0\" >0.000000</td>\n",
       "      <td id=\"T_1d7d8_row25_col1\" class=\"data row25 col1\" >0.000000</td>\n",
       "      <td id=\"T_1d7d8_row25_col2\" class=\"data row25 col2\" >0.000000</td>\n",
       "    </tr>\n",
       "    <tr>\n",
       "      <th id=\"T_1d7d8_level0_row26\" class=\"row_heading level0 row26\" >Gujarati</th>\n",
       "      <td id=\"T_1d7d8_row26_col0\" class=\"data row26 col0\" >2.305928</td>\n",
       "      <td id=\"T_1d7d8_row26_col1\" class=\"data row26 col1\" >1.791667</td>\n",
       "      <td id=\"T_1d7d8_row26_col2\" class=\"data row26 col2\" >0.208333</td>\n",
       "    </tr>\n",
       "    <tr>\n",
       "      <th id=\"T_1d7d8_level0_row27\" class=\"row_heading level0 row27\" >Haitian</th>\n",
       "      <td id=\"T_1d7d8_row27_col0\" class=\"data row27 col0\" >4.650000</td>\n",
       "      <td id=\"T_1d7d8_row27_col1\" class=\"data row27 col1\" >299.500000</td>\n",
       "      <td id=\"T_1d7d8_row27_col2\" class=\"data row27 col2\" >102.500000</td>\n",
       "    </tr>\n",
       "    <tr>\n",
       "      <th id=\"T_1d7d8_level0_row28\" class=\"row_heading level0 row28\" >Hebrew</th>\n",
       "      <td id=\"T_1d7d8_row28_col0\" class=\"data row28 col0\" >2.816073</td>\n",
       "      <td id=\"T_1d7d8_row28_col1\" class=\"data row28 col1\" >6.778325</td>\n",
       "      <td id=\"T_1d7d8_row28_col2\" class=\"data row28 col2\" >1.709360</td>\n",
       "    </tr>\n",
       "    <tr>\n",
       "      <th id=\"T_1d7d8_level0_row29\" class=\"row_heading level0 row29\" >Hindi</th>\n",
       "      <td id=\"T_1d7d8_row29_col0\" class=\"data row29 col0\" >2.880043</td>\n",
       "      <td id=\"T_1d7d8_row29_col1\" class=\"data row29 col1\" >26.163254</td>\n",
       "      <td id=\"T_1d7d8_row29_col2\" class=\"data row29 col2\" >5.678043</td>\n",
       "    </tr>\n",
       "    <tr>\n",
       "      <th id=\"T_1d7d8_level0_row30\" class=\"row_heading level0 row30\" >Hungarian</th>\n",
       "      <td id=\"T_1d7d8_row30_col0\" class=\"data row30 col0\" >3.796311</td>\n",
       "      <td id=\"T_1d7d8_row30_col1\" class=\"data row30 col1\" >13.887931</td>\n",
       "      <td id=\"T_1d7d8_row30_col2\" class=\"data row30 col2\" >1.258621</td>\n",
       "    </tr>\n",
       "    <tr>\n",
       "      <th id=\"T_1d7d8_level0_row31\" class=\"row_heading level0 row31\" >Indonesian</th>\n",
       "      <td id=\"T_1d7d8_row31_col0\" class=\"data row31 col0\" >3.719899</td>\n",
       "      <td id=\"T_1d7d8_row31_col1\" class=\"data row31 col1\" >32.760127</td>\n",
       "      <td id=\"T_1d7d8_row31_col2\" class=\"data row31 col2\" >7.517722</td>\n",
       "    </tr>\n",
       "    <tr>\n",
       "      <th id=\"T_1d7d8_level0_row32\" class=\"row_heading level0 row32\" >Irish</th>\n",
       "      <td id=\"T_1d7d8_row32_col0\" class=\"data row32 col0\" >3.931151</td>\n",
       "      <td id=\"T_1d7d8_row32_col1\" class=\"data row32 col1\" >6.333333</td>\n",
       "      <td id=\"T_1d7d8_row32_col2\" class=\"data row32 col2\" >1.833333</td>\n",
       "    </tr>\n",
       "    <tr>\n",
       "      <th id=\"T_1d7d8_level0_row33\" class=\"row_heading level0 row33\" >Italian</th>\n",
       "      <td id=\"T_1d7d8_row33_col0\" class=\"data row33 col0\" >3.773114</td>\n",
       "      <td id=\"T_1d7d8_row33_col1\" class=\"data row33 col1\" >90.691229</td>\n",
       "      <td id=\"T_1d7d8_row33_col2\" class=\"data row33 col2\" >23.682980</td>\n",
       "    </tr>\n",
       "    <tr>\n",
       "      <th id=\"T_1d7d8_level0_row34\" class=\"row_heading level0 row34\" >Japanese</th>\n",
       "      <td id=\"T_1d7d8_row34_col0\" class=\"data row34 col0\" >3.858825</td>\n",
       "      <td id=\"T_1d7d8_row34_col1\" class=\"data row34 col1\" >170.463317</td>\n",
       "      <td id=\"T_1d7d8_row34_col2\" class=\"data row34 col2\" >20.523979</td>\n",
       "    </tr>\n",
       "    <tr>\n",
       "      <th id=\"T_1d7d8_level0_row35\" class=\"row_heading level0 row35\" >Kannada</th>\n",
       "      <td id=\"T_1d7d8_row35_col0\" class=\"data row35 col0\" >2.234375</td>\n",
       "      <td id=\"T_1d7d8_row35_col1\" class=\"data row35 col1\" >1.875000</td>\n",
       "      <td id=\"T_1d7d8_row35_col2\" class=\"data row35 col2\" >0.625000</td>\n",
       "    </tr>\n",
       "    <tr>\n",
       "      <th id=\"T_1d7d8_level0_row36\" class=\"row_heading level0 row36\" >Kazakh</th>\n",
       "      <td id=\"T_1d7d8_row36_col0\" class=\"data row36 col0\" >3.392857</td>\n",
       "      <td id=\"T_1d7d8_row36_col1\" class=\"data row36 col1\" >32.428571</td>\n",
       "      <td id=\"T_1d7d8_row36_col2\" class=\"data row36 col2\" >4.571429</td>\n",
       "    </tr>\n",
       "    <tr>\n",
       "      <th id=\"T_1d7d8_level0_row37\" class=\"row_heading level0 row37\" >Khmer</th>\n",
       "      <td id=\"T_1d7d8_row37_col0\" class=\"data row37 col0\" >0.333333</td>\n",
       "      <td id=\"T_1d7d8_row37_col1\" class=\"data row37 col1\" >0.333333</td>\n",
       "      <td id=\"T_1d7d8_row37_col2\" class=\"data row37 col2\" >0.333333</td>\n",
       "    </tr>\n",
       "    <tr>\n",
       "      <th id=\"T_1d7d8_level0_row38\" class=\"row_heading level0 row38\" >Korean</th>\n",
       "      <td id=\"T_1d7d8_row38_col0\" class=\"data row38 col0\" >2.874073</td>\n",
       "      <td id=\"T_1d7d8_row38_col1\" class=\"data row38 col1\" >24.689759</td>\n",
       "      <td id=\"T_1d7d8_row38_col2\" class=\"data row38 col2\" >5.190964</td>\n",
       "    </tr>\n",
       "    <tr>\n",
       "      <th id=\"T_1d7d8_level0_row39\" class=\"row_heading level0 row39\" >Kurdish</th>\n",
       "      <td id=\"T_1d7d8_row39_col0\" class=\"data row39 col0\" >2.142857</td>\n",
       "      <td id=\"T_1d7d8_row39_col1\" class=\"data row39 col1\" >1.000000</td>\n",
       "      <td id=\"T_1d7d8_row39_col2\" class=\"data row39 col2\" >0.428571</td>\n",
       "    </tr>\n",
       "    <tr>\n",
       "      <th id=\"T_1d7d8_level0_row40\" class=\"row_heading level0 row40\" >Latvian</th>\n",
       "      <td id=\"T_1d7d8_row40_col0\" class=\"data row40 col0\" >4.588889</td>\n",
       "      <td id=\"T_1d7d8_row40_col1\" class=\"data row40 col1\" >12.000000</td>\n",
       "      <td id=\"T_1d7d8_row40_col2\" class=\"data row40 col2\" >2.333333</td>\n",
       "    </tr>\n",
       "    <tr>\n",
       "      <th id=\"T_1d7d8_level0_row41\" class=\"row_heading level0 row41\" >Lithuanian</th>\n",
       "      <td id=\"T_1d7d8_row41_col0\" class=\"data row41 col0\" >3.775397</td>\n",
       "      <td id=\"T_1d7d8_row41_col1\" class=\"data row41 col1\" >8.000000</td>\n",
       "      <td id=\"T_1d7d8_row41_col2\" class=\"data row41 col2\" >3.571429</td>\n",
       "    </tr>\n",
       "    <tr>\n",
       "      <th id=\"T_1d7d8_level0_row42\" class=\"row_heading level0 row42\" >Macedonian</th>\n",
       "      <td id=\"T_1d7d8_row42_col0\" class=\"data row42 col0\" >4.583333</td>\n",
       "      <td id=\"T_1d7d8_row42_col1\" class=\"data row42 col1\" >1.333333</td>\n",
       "      <td id=\"T_1d7d8_row42_col2\" class=\"data row42 col2\" >0.000000</td>\n",
       "    </tr>\n",
       "    <tr>\n",
       "      <th id=\"T_1d7d8_level0_row43\" class=\"row_heading level0 row43\" >Malay</th>\n",
       "      <td id=\"T_1d7d8_row43_col0\" class=\"data row43 col0\" >1.570000</td>\n",
       "      <td id=\"T_1d7d8_row43_col1\" class=\"data row43 col1\" >30.200000</td>\n",
       "      <td id=\"T_1d7d8_row43_col2\" class=\"data row43 col2\" >10.200000</td>\n",
       "    </tr>\n",
       "    <tr>\n",
       "      <th id=\"T_1d7d8_level0_row44\" class=\"row_heading level0 row44\" >Malayalam</th>\n",
       "      <td id=\"T_1d7d8_row44_col0\" class=\"data row44 col0\" >2.715761</td>\n",
       "      <td id=\"T_1d7d8_row44_col1\" class=\"data row44 col1\" >14.566667</td>\n",
       "      <td id=\"T_1d7d8_row44_col2\" class=\"data row44 col2\" >3.450000</td>\n",
       "    </tr>\n",
       "    <tr>\n",
       "      <th id=\"T_1d7d8_level0_row45\" class=\"row_heading level0 row45\" >Marathi</th>\n",
       "      <td id=\"T_1d7d8_row45_col0\" class=\"data row45 col0\" >2.847123</td>\n",
       "      <td id=\"T_1d7d8_row45_col1\" class=\"data row45 col1\" >14.542857</td>\n",
       "      <td id=\"T_1d7d8_row45_col2\" class=\"data row45 col2\" >4.500000</td>\n",
       "    </tr>\n",
       "    <tr>\n",
       "      <th id=\"T_1d7d8_level0_row46\" class=\"row_heading level0 row46\" >Mongolian</th>\n",
       "      <td id=\"T_1d7d8_row46_col0\" class=\"data row46 col0\" >1.150000</td>\n",
       "      <td id=\"T_1d7d8_row46_col1\" class=\"data row46 col1\" >7.250000</td>\n",
       "      <td id=\"T_1d7d8_row46_col2\" class=\"data row46 col2\" >1.750000</td>\n",
       "    </tr>\n",
       "    <tr>\n",
       "      <th id=\"T_1d7d8_level0_row47\" class=\"row_heading level0 row47\" >Nepali</th>\n",
       "      <td id=\"T_1d7d8_row47_col0\" class=\"data row47 col0\" >4.107692</td>\n",
       "      <td id=\"T_1d7d8_row47_col1\" class=\"data row47 col1\" >30.461538</td>\n",
       "      <td id=\"T_1d7d8_row47_col2\" class=\"data row47 col2\" >6.000000</td>\n",
       "    </tr>\n",
       "    <tr>\n",
       "      <th id=\"T_1d7d8_level0_row48\" class=\"row_heading level0 row48\" >Norwegian</th>\n",
       "      <td id=\"T_1d7d8_row48_col0\" class=\"data row48 col0\" >2.963175</td>\n",
       "      <td id=\"T_1d7d8_row48_col1\" class=\"data row48 col1\" >6.650000</td>\n",
       "      <td id=\"T_1d7d8_row48_col2\" class=\"data row48 col2\" >1.700000</td>\n",
       "    </tr>\n",
       "    <tr>\n",
       "      <th id=\"T_1d7d8_level0_row49\" class=\"row_heading level0 row49\" >Pashto</th>\n",
       "      <td id=\"T_1d7d8_row49_col0\" class=\"data row49 col0\" >2.465000</td>\n",
       "      <td id=\"T_1d7d8_row49_col1\" class=\"data row49 col1\" >3.700000</td>\n",
       "      <td id=\"T_1d7d8_row49_col2\" class=\"data row49 col2\" >0.700000</td>\n",
       "    </tr>\n",
       "    <tr>\n",
       "      <th id=\"T_1d7d8_level0_row50\" class=\"row_heading level0 row50\" >Persian</th>\n",
       "      <td id=\"T_1d7d8_row50_col0\" class=\"data row50 col0\" >2.712957</td>\n",
       "      <td id=\"T_1d7d8_row50_col1\" class=\"data row50 col1\" >7.000000</td>\n",
       "      <td id=\"T_1d7d8_row50_col2\" class=\"data row50 col2\" >2.348837</td>\n",
       "    </tr>\n",
       "    <tr>\n",
       "      <th id=\"T_1d7d8_level0_row51\" class=\"row_heading level0 row51\" >Polish</th>\n",
       "      <td id=\"T_1d7d8_row51_col0\" class=\"data row51 col0\" >3.859818</td>\n",
       "      <td id=\"T_1d7d8_row51_col1\" class=\"data row51 col1\" >100.036601</td>\n",
       "      <td id=\"T_1d7d8_row51_col2\" class=\"data row51 col2\" >17.256209</td>\n",
       "    </tr>\n",
       "    <tr>\n",
       "      <th id=\"T_1d7d8_level0_row52\" class=\"row_heading level0 row52\" >Portuguese</th>\n",
       "      <td id=\"T_1d7d8_row52_col0\" class=\"data row52 col0\" >3.975745</td>\n",
       "      <td id=\"T_1d7d8_row52_col1\" class=\"data row52 col1\" >233.197120</td>\n",
       "      <td id=\"T_1d7d8_row52_col2\" class=\"data row52 col2\" >46.432678</td>\n",
       "    </tr>\n",
       "    <tr>\n",
       "      <th id=\"T_1d7d8_level0_row53\" class=\"row_heading level0 row53\" >Punjabi</th>\n",
       "      <td id=\"T_1d7d8_row53_col0\" class=\"data row53 col0\" >3.073611</td>\n",
       "      <td id=\"T_1d7d8_row53_col1\" class=\"data row53 col1\" >4.000000</td>\n",
       "      <td id=\"T_1d7d8_row53_col2\" class=\"data row53 col2\" >2.166667</td>\n",
       "    </tr>\n",
       "    <tr>\n",
       "      <th id=\"T_1d7d8_level0_row54\" class=\"row_heading level0 row54\" >Quechua</th>\n",
       "      <td id=\"T_1d7d8_row54_col0\" class=\"data row54 col0\" >3.166667</td>\n",
       "      <td id=\"T_1d7d8_row54_col1\" class=\"data row54 col1\" >8.333333</td>\n",
       "      <td id=\"T_1d7d8_row54_col2\" class=\"data row54 col2\" >3.666667</td>\n",
       "    </tr>\n",
       "    <tr>\n",
       "      <th id=\"T_1d7d8_level0_row55\" class=\"row_heading level0 row55\" >Romanian</th>\n",
       "      <td id=\"T_1d7d8_row55_col0\" class=\"data row55 col0\" >3.763546</td>\n",
       "      <td id=\"T_1d7d8_row55_col1\" class=\"data row55 col1\" >34.956376</td>\n",
       "      <td id=\"T_1d7d8_row55_col2\" class=\"data row55 col2\" >5.503356</td>\n",
       "    </tr>\n",
       "    <tr>\n",
       "      <th id=\"T_1d7d8_level0_row56\" class=\"row_heading level0 row56\" >Russian</th>\n",
       "      <td id=\"T_1d7d8_row56_col0\" class=\"data row56 col0\" >3.612550</td>\n",
       "      <td id=\"T_1d7d8_row56_col1\" class=\"data row56 col1\" >75.870067</td>\n",
       "      <td id=\"T_1d7d8_row56_col2\" class=\"data row56 col2\" >13.180194</td>\n",
       "    </tr>\n",
       "    <tr>\n",
       "      <th id=\"T_1d7d8_level0_row57\" class=\"row_heading level0 row57\" >Serbian</th>\n",
       "      <td id=\"T_1d7d8_row57_col0\" class=\"data row57 col0\" >2.508696</td>\n",
       "      <td id=\"T_1d7d8_row57_col1\" class=\"data row57 col1\" >6.608696</td>\n",
       "      <td id=\"T_1d7d8_row57_col2\" class=\"data row57 col2\" >1.000000</td>\n",
       "    </tr>\n",
       "    <tr>\n",
       "      <th id=\"T_1d7d8_level0_row58\" class=\"row_heading level0 row58\" >Simplified Chinese</th>\n",
       "      <td id=\"T_1d7d8_row58_col0\" class=\"data row58 col0\" >3.144473</td>\n",
       "      <td id=\"T_1d7d8_row58_col1\" class=\"data row58 col1\" >32.135678</td>\n",
       "      <td id=\"T_1d7d8_row58_col2\" class=\"data row58 col2\" >4.703518</td>\n",
       "    </tr>\n",
       "    <tr>\n",
       "      <th id=\"T_1d7d8_level0_row59\" class=\"row_heading level0 row59\" >Slovak</th>\n",
       "      <td id=\"T_1d7d8_row59_col0\" class=\"data row59 col0\" >1.892857</td>\n",
       "      <td id=\"T_1d7d8_row59_col1\" class=\"data row59 col1\" >1.857143</td>\n",
       "      <td id=\"T_1d7d8_row59_col2\" class=\"data row59 col2\" >0.142857</td>\n",
       "    </tr>\n",
       "    <tr>\n",
       "      <th id=\"T_1d7d8_level0_row60\" class=\"row_heading level0 row60\" >Slovenian</th>\n",
       "      <td id=\"T_1d7d8_row60_col0\" class=\"data row60 col0\" >2.500000</td>\n",
       "      <td id=\"T_1d7d8_row60_col1\" class=\"data row60 col1\" >10.000000</td>\n",
       "      <td id=\"T_1d7d8_row60_col2\" class=\"data row60 col2\" >1.000000</td>\n",
       "    </tr>\n",
       "    <tr>\n",
       "      <th id=\"T_1d7d8_level0_row61\" class=\"row_heading level0 row61\" >Somali</th>\n",
       "      <td id=\"T_1d7d8_row61_col0\" class=\"data row61 col0\" >2.844093</td>\n",
       "      <td id=\"T_1d7d8_row61_col1\" class=\"data row61 col1\" >7.642857</td>\n",
       "      <td id=\"T_1d7d8_row61_col2\" class=\"data row61 col2\" >3.357143</td>\n",
       "    </tr>\n",
       "    <tr>\n",
       "      <th id=\"T_1d7d8_level0_row62\" class=\"row_heading level0 row62\" >Spanish</th>\n",
       "      <td id=\"T_1d7d8_row62_col0\" class=\"data row62 col0\" >3.848843</td>\n",
       "      <td id=\"T_1d7d8_row62_col1\" class=\"data row62 col1\" >185.013312</td>\n",
       "      <td id=\"T_1d7d8_row62_col2\" class=\"data row62 col2\" >52.423342</td>\n",
       "    </tr>\n",
       "    <tr>\n",
       "      <th id=\"T_1d7d8_level0_row63\" class=\"row_heading level0 row63\" >Swahili</th>\n",
       "      <td id=\"T_1d7d8_row63_col0\" class=\"data row63 col0\" >1.666667</td>\n",
       "      <td id=\"T_1d7d8_row63_col1\" class=\"data row63 col1\" >1.000000</td>\n",
       "      <td id=\"T_1d7d8_row63_col2\" class=\"data row63 col2\" >0.833333</td>\n",
       "    </tr>\n",
       "    <tr>\n",
       "      <th id=\"T_1d7d8_level0_row64\" class=\"row_heading level0 row64\" >Swedish</th>\n",
       "      <td id=\"T_1d7d8_row64_col0\" class=\"data row64 col0\" >3.207083</td>\n",
       "      <td id=\"T_1d7d8_row64_col1\" class=\"data row64 col1\" >21.250000</td>\n",
       "      <td id=\"T_1d7d8_row64_col2\" class=\"data row64 col2\" >4.250000</td>\n",
       "    </tr>\n",
       "    <tr>\n",
       "      <th id=\"T_1d7d8_level0_row65\" class=\"row_heading level0 row65\" >Tajik</th>\n",
       "      <td id=\"T_1d7d8_row65_col0\" class=\"data row65 col0\" >4.650000</td>\n",
       "      <td id=\"T_1d7d8_row65_col1\" class=\"data row65 col1\" >13.000000</td>\n",
       "      <td id=\"T_1d7d8_row65_col2\" class=\"data row65 col2\" >4.000000</td>\n",
       "    </tr>\n",
       "    <tr>\n",
       "      <th id=\"T_1d7d8_level0_row66\" class=\"row_heading level0 row66\" >Tamil</th>\n",
       "      <td id=\"T_1d7d8_row66_col0\" class=\"data row66 col0\" >3.425051</td>\n",
       "      <td id=\"T_1d7d8_row66_col1\" class=\"data row66 col1\" >19.875486</td>\n",
       "      <td id=\"T_1d7d8_row66_col2\" class=\"data row66 col2\" >4.396887</td>\n",
       "    </tr>\n",
       "    <tr>\n",
       "      <th id=\"T_1d7d8_level0_row67\" class=\"row_heading level0 row67\" >Tatar</th>\n",
       "      <td id=\"T_1d7d8_row67_col0\" class=\"data row67 col0\" >3.750000</td>\n",
       "      <td id=\"T_1d7d8_row67_col1\" class=\"data row67 col1\" >14.000000</td>\n",
       "      <td id=\"T_1d7d8_row67_col2\" class=\"data row67 col2\" >2.000000</td>\n",
       "    </tr>\n",
       "    <tr>\n",
       "      <th id=\"T_1d7d8_level0_row68\" class=\"row_heading level0 row68\" >Telugu</th>\n",
       "      <td id=\"T_1d7d8_row68_col0\" class=\"data row68 col0\" >3.071429</td>\n",
       "      <td id=\"T_1d7d8_row68_col1\" class=\"data row68 col1\" >8.800000</td>\n",
       "      <td id=\"T_1d7d8_row68_col2\" class=\"data row68 col2\" >2.176471</td>\n",
       "    </tr>\n",
       "    <tr>\n",
       "      <th id=\"T_1d7d8_level0_row69\" class=\"row_heading level0 row69\" >Thai</th>\n",
       "      <td id=\"T_1d7d8_row69_col0\" class=\"data row69 col0\" >3.476582</td>\n",
       "      <td id=\"T_1d7d8_row69_col1\" class=\"data row69 col1\" >31.245562</td>\n",
       "      <td id=\"T_1d7d8_row69_col2\" class=\"data row69 col2\" >3.834320</td>\n",
       "    </tr>\n",
       "    <tr>\n",
       "      <th id=\"T_1d7d8_level0_row70\" class=\"row_heading level0 row70\" >Traditional Chinese</th>\n",
       "      <td id=\"T_1d7d8_row70_col0\" class=\"data row70 col0\" >3.572135</td>\n",
       "      <td id=\"T_1d7d8_row70_col1\" class=\"data row70 col1\" >52.548323</td>\n",
       "      <td id=\"T_1d7d8_row70_col2\" class=\"data row70 col2\" >10.113412</td>\n",
       "    </tr>\n",
       "    <tr>\n",
       "      <th id=\"T_1d7d8_level0_row71\" class=\"row_heading level0 row71\" >Turkish</th>\n",
       "      <td id=\"T_1d7d8_row71_col0\" class=\"data row71 col0\" >4.039352</td>\n",
       "      <td id=\"T_1d7d8_row71_col1\" class=\"data row71 col1\" >199.880988</td>\n",
       "      <td id=\"T_1d7d8_row71_col2\" class=\"data row71 col2\" >29.931975</td>\n",
       "    </tr>\n",
       "    <tr>\n",
       "      <th id=\"T_1d7d8_level0_row72\" class=\"row_heading level0 row72\" >Ukrainian</th>\n",
       "      <td id=\"T_1d7d8_row72_col0\" class=\"data row72 col0\" >3.095855</td>\n",
       "      <td id=\"T_1d7d8_row72_col1\" class=\"data row72 col1\" >13.368421</td>\n",
       "      <td id=\"T_1d7d8_row72_col2\" class=\"data row72 col2\" >2.894737</td>\n",
       "    </tr>\n",
       "    <tr>\n",
       "      <th id=\"T_1d7d8_level0_row73\" class=\"row_heading level0 row73\" >Urdu</th>\n",
       "      <td id=\"T_1d7d8_row73_col0\" class=\"data row73 col0\" >3.125003</td>\n",
       "      <td id=\"T_1d7d8_row73_col1\" class=\"data row73 col1\" >21.933962</td>\n",
       "      <td id=\"T_1d7d8_row73_col2\" class=\"data row73 col2\" >5.743396</td>\n",
       "    </tr>\n",
       "    <tr>\n",
       "      <th id=\"T_1d7d8_level0_row74\" class=\"row_heading level0 row74\" >Uzbek</th>\n",
       "      <td id=\"T_1d7d8_row74_col0\" class=\"data row74 col0\" >1.560606</td>\n",
       "      <td id=\"T_1d7d8_row74_col1\" class=\"data row74 col1\" >1.363636</td>\n",
       "      <td id=\"T_1d7d8_row74_col2\" class=\"data row74 col2\" >0.272727</td>\n",
       "    </tr>\n",
       "    <tr>\n",
       "      <th id=\"T_1d7d8_level0_row75\" class=\"row_heading level0 row75\" >Vietnamese</th>\n",
       "      <td id=\"T_1d7d8_row75_col0\" class=\"data row75 col0\" >2.446145</td>\n",
       "      <td id=\"T_1d7d8_row75_col1\" class=\"data row75 col1\" >24.250000</td>\n",
       "      <td id=\"T_1d7d8_row75_col2\" class=\"data row75 col2\" >3.516667</td>\n",
       "    </tr>\n",
       "    <tr>\n",
       "      <th id=\"T_1d7d8_level0_row76\" class=\"row_heading level0 row76\" >Welsh</th>\n",
       "      <td id=\"T_1d7d8_row76_col0\" class=\"data row76 col0\" >0.000000</td>\n",
       "      <td id=\"T_1d7d8_row76_col1\" class=\"data row76 col1\" >0.000000</td>\n",
       "      <td id=\"T_1d7d8_row76_col2\" class=\"data row76 col2\" >0.000000</td>\n",
       "    </tr>\n",
       "    <tr>\n",
       "      <th id=\"T_1d7d8_level0_row77\" class=\"row_heading level0 row77\" >Xhosa</th>\n",
       "      <td id=\"T_1d7d8_row77_col0\" class=\"data row77 col0\" >4.562500</td>\n",
       "      <td id=\"T_1d7d8_row77_col1\" class=\"data row77 col1\" >8.000000</td>\n",
       "      <td id=\"T_1d7d8_row77_col2\" class=\"data row77 col2\" >2.000000</td>\n",
       "    </tr>\n",
       "    <tr>\n",
       "      <th id=\"T_1d7d8_level0_row78\" class=\"row_heading level0 row78\" >Zulu</th>\n",
       "      <td id=\"T_1d7d8_row78_col0\" class=\"data row78 col0\" >3.000000</td>\n",
       "      <td id=\"T_1d7d8_row78_col1\" class=\"data row78 col1\" >2.000000</td>\n",
       "      <td id=\"T_1d7d8_row78_col2\" class=\"data row78 col2\" >1.000000</td>\n",
       "    </tr>\n",
       "  </tbody>\n",
       "</table>\n"
      ],
      "text/plain": [
       "<pandas.io.formats.style.Styler at 0x20709d05460>"
      ]
     },
     "execution_count": 38,
     "metadata": {},
     "output_type": "execute_result"
    }
   ],
   "source": [
    "courses.groupby(['language'])[['avg_rating', 'num_reviews', 'num_comments']].agg('mean').style.background_gradient(cmap='Wistia')"
   ]
  },
  {
   "cell_type": "code",
   "execution_count": 39,
   "metadata": {
    "colab": {
     "base_uri": "https://localhost:8080/",
     "height": 697
    },
    "executionInfo": {
     "elapsed": 43,
     "status": "ok",
     "timestamp": 1697343173564,
     "user": {
      "displayName": "viswa prakash",
      "userId": "10526577877653073872"
     },
     "user_tz": -330
    },
    "id": "SOV1mSEs0L_5",
    "outputId": "67d8e142-609e-42cd-fe85-cb8b548637ea"
   },
   "outputs": [
    {
     "data": {
      "image/png": "[encoded data removed]",
      "text/plain": [
       "<Figure size 1008x432 with 1 Axes>"
      ]
     },
     "metadata": {
      "needs_background": "light"
     },
     "output_type": "display_data"
    }
   ],
   "source": [
    "plt.figure(figsize = (14,6))\n",
    "sns.countplot(x='instructor_name', data = courses,\n",
    "              order = courses['instructor_name'].value_counts().iloc[:10].index)\n",
    "plt.title('Top 10 Instructor with maximum Courses')\n",
    "plt.xlabel('Instructor Name')\n",
    "plt.ylabel('Number of Courses')\n",
    "plt.xticks(rotation = 45)\n",
    "plt.show()"
   ]
  },
  {
   "cell_type": "code",
   "execution_count": 40,
   "metadata": {
    "executionInfo": {
     "elapsed": 40,
     "status": "ok",
     "timestamp": 1697343173565,
     "user": {
      "displayName": "viswa prakash",
      "userId": "10526577877653073872"
     },
     "user_tz": -330
    },
    "id": "FUU1SRCFOC1u"
   },
   "outputs": [],
   "source": [
    "courses['published_time'] = pd.to_datetime(courses['published_time'].str[0:10])\n",
    "courses['published_year'] = courses['published_time'].dt.year"
   ]
  },
  {
   "cell_type": "code",
   "execution_count": 41,
   "metadata": {
    "colab": {
     "base_uri": "https://localhost:8080/",
     "height": 523
    },
    "executionInfo": {
     "elapsed": 38,
     "status": "ok",
     "timestamp": 1697343173565,
     "user": {
      "displayName": "viswa prakash",
      "userId": "10526577877653073872"
     },
     "user_tz": -330
    },
    "id": "X489I-yPT4xM",
    "outputId": "7bad64e7-3348-44c4-a571-feafac9b9992"
   },
   "outputs": [
    {
     "name": "stdout",
     "output_type": "stream",
     "text": [
      "Year-wise count and sum values for different features: \n",
      "\n"
     ]
    },
    {
     "data": {
      "text/html": [
       "<div>\n",
       "<style scoped>\n",
       "    .dataframe tbody tr th:only-of-type {\n",
       "        vertical-align: middle;\n",
       "    }\n",
       "\n",
       "    .dataframe tbody tr th {\n",
       "        vertical-align: top;\n",
       "    }\n",
       "\n",
       "    .dataframe thead th {\n",
       "        text-align: right;\n",
       "    }\n",
       "</style>\n",
       "<table border=\"1\" class=\"dataframe\">\n",
       "  <thead>\n",
       "    <tr style=\"text-align: right;\">\n",
       "      <th></th>\n",
       "      <th>id</th>\n",
       "      <th>num_comments</th>\n",
       "      <th>num_lectures</th>\n",
       "      <th>num_reviews</th>\n",
       "      <th>num_subscribers</th>\n",
       "    </tr>\n",
       "    <tr>\n",
       "      <th>published_year</th>\n",
       "      <th></th>\n",
       "      <th></th>\n",
       "      <th></th>\n",
       "      <th></th>\n",
       "      <th></th>\n",
       "    </tr>\n",
       "  </thead>\n",
       "  <tbody>\n",
       "    <tr>\n",
       "      <th>2010</th>\n",
       "      <td>4</td>\n",
       "      <td>408.0</td>\n",
       "      <td>68.0</td>\n",
       "      <td>1842.0</td>\n",
       "      <td>33727.0</td>\n",
       "    </tr>\n",
       "    <tr>\n",
       "      <th>2011</th>\n",
       "      <td>57</td>\n",
       "      <td>13170.0</td>\n",
       "      <td>4555.0</td>\n",
       "      <td>60041.0</td>\n",
       "      <td>1328159.0</td>\n",
       "    </tr>\n",
       "    <tr>\n",
       "      <th>2012</th>\n",
       "      <td>464</td>\n",
       "      <td>71397.0</td>\n",
       "      <td>25592.0</td>\n",
       "      <td>358467.0</td>\n",
       "      <td>7230026.0</td>\n",
       "    </tr>\n",
       "    <tr>\n",
       "      <th>2013</th>\n",
       "      <td>1778</td>\n",
       "      <td>233046.0</td>\n",
       "      <td>76847.0</td>\n",
       "      <td>1123207.0</td>\n",
       "      <td>14813615.0</td>\n",
       "    </tr>\n",
       "    <tr>\n",
       "      <th>2014</th>\n",
       "      <td>3404</td>\n",
       "      <td>461284.0</td>\n",
       "      <td>140262.0</td>\n",
       "      <td>2192152.0</td>\n",
       "      <td>27642396.0</td>\n",
       "    </tr>\n",
       "    <tr>\n",
       "      <th>2015</th>\n",
       "      <td>7102</td>\n",
       "      <td>1113930.0</td>\n",
       "      <td>298958.0</td>\n",
       "      <td>6042455.0</td>\n",
       "      <td>56527397.0</td>\n",
       "    </tr>\n",
       "    <tr>\n",
       "      <th>2016</th>\n",
       "      <td>7975</td>\n",
       "      <td>1470159.0</td>\n",
       "      <td>367520.0</td>\n",
       "      <td>7909710.0</td>\n",
       "      <td>68028864.0</td>\n",
       "    </tr>\n",
       "    <tr>\n",
       "      <th>2017</th>\n",
       "      <td>12258</td>\n",
       "      <td>1712435.0</td>\n",
       "      <td>561191.0</td>\n",
       "      <td>9486975.0</td>\n",
       "      <td>81376285.0</td>\n",
       "    </tr>\n",
       "    <tr>\n",
       "      <th>2018</th>\n",
       "      <td>20653</td>\n",
       "      <td>1568422.0</td>\n",
       "      <td>941243.0</td>\n",
       "      <td>8878711.0</td>\n",
       "      <td>92373156.0</td>\n",
       "    </tr>\n",
       "    <tr>\n",
       "      <th>2019</th>\n",
       "      <td>23529</td>\n",
       "      <td>1125888.0</td>\n",
       "      <td>974791.0</td>\n",
       "      <td>6498012.0</td>\n",
       "      <td>88915383.0</td>\n",
       "    </tr>\n",
       "    <tr>\n",
       "      <th>2020</th>\n",
       "      <td>44929</td>\n",
       "      <td>986528.0</td>\n",
       "      <td>1573159.0</td>\n",
       "      <td>5567350.0</td>\n",
       "      <td>120730813.0</td>\n",
       "    </tr>\n",
       "    <tr>\n",
       "      <th>2021</th>\n",
       "      <td>51457</td>\n",
       "      <td>504342.0</td>\n",
       "      <td>1618306.0</td>\n",
       "      <td>2587190.0</td>\n",
       "      <td>72812641.0</td>\n",
       "    </tr>\n",
       "    <tr>\n",
       "      <th>2022</th>\n",
       "      <td>36124</td>\n",
       "      <td>150718.0</td>\n",
       "      <td>1082949.0</td>\n",
       "      <td>544239.0</td>\n",
       "      <td>17732035.0</td>\n",
       "    </tr>\n",
       "  </tbody>\n",
       "</table>\n",
       "</div>"
      ],
      "text/plain": [
       "                   id  num_comments  num_lectures  num_reviews  \\\n",
       "published_year                                                   \n",
       "2010                4         408.0          68.0       1842.0   \n",
       "2011               57       13170.0        4555.0      60041.0   \n",
       "2012              464       71397.0       25592.0     358467.0   \n",
       "2013             1778      233046.0       76847.0    1123207.0   \n",
       "2014             3404      461284.0      140262.0    2192152.0   \n",
       "2015             7102     1113930.0      298958.0    6042455.0   \n",
       "2016             7975     1470159.0      367520.0    7909710.0   \n",
       "2017            12258     1712435.0      561191.0    9486975.0   \n",
       "2018            20653     1568422.0      941243.0    8878711.0   \n",
       "2019            23529     1125888.0      974791.0    6498012.0   \n",
       "2020            44929      986528.0     1573159.0    5567350.0   \n",
       "2021            51457      504342.0     1618306.0    2587190.0   \n",
       "2022            36124      150718.0     1082949.0     544239.0   \n",
       "\n",
       "                num_subscribers  \n",
       "published_year                   \n",
       "2010                    33727.0  \n",
       "2011                  1328159.0  \n",
       "2012                  7230026.0  \n",
       "2013                 14813615.0  \n",
       "2014                 27642396.0  \n",
       "2015                 56527397.0  \n",
       "2016                 68028864.0  \n",
       "2017                 81376285.0  \n",
       "2018                 92373156.0  \n",
       "2019                 88915383.0  \n",
       "2020                120730813.0  \n",
       "2021                 72812641.0  \n",
       "2022                 17732035.0  "
      ]
     },
     "execution_count": 41,
     "metadata": {},
     "output_type": "execute_result"
    }
   ],
   "source": [
    "# Group the year column and perform operations for data visualization\n",
    "courses_year_count = courses['published_year'].value_counts()\n",
    "\n",
    "courses_num_subs = courses.groupby('published_year')['num_subscribers'].sum()\n",
    "\n",
    "courses_num_reviews = courses.groupby('published_year')['num_reviews'].sum()\n",
    "\n",
    "courses_num_comments = courses.groupby('published_year')['num_comments'].sum()\n",
    "\n",
    "courses_num_lectures = courses.groupby('published_year')['num_lectures'].sum()\n",
    "\n",
    "group_courses_year = pd.pivot_table(courses, index='published_year',\n",
    "                               values=['id', 'num_subscribers', 'num_reviews', 'num_comments', 'num_lectures'],\n",
    "                               aggfunc={'id': len, 'num_subscribers': np.sum, 'num_reviews':np.sum,\n",
    "                                        'num_comments':np.sum, 'num_lectures':np.sum})\n",
    "\n",
    "print('Year-wise count and sum values for different features: \\n')\n",
    "group_courses_year"
   ]
  },
  {
   "cell_type": "code",
   "execution_count": 42,
   "metadata": {
    "colab": {
     "base_uri": "https://localhost:8080/",
     "height": 1000
    },
    "executionInfo": {
     "elapsed": 1127,
     "status": "ok",
     "timestamp": 1697343174658,
     "user": {
      "displayName": "viswa prakash",
      "userId": "10526577877653073872"
     },
     "user_tz": -330
    },
    "id": "xNhlDwM6UUrc",
    "outputId": "d791088c-8c77-4719-84a7-0a17a2712f98"
   },
   "outputs": [
    {
     "data": {
      "image/png": "[encoded data removed]",
      "text/plain": [
       "<Figure size 720x288 with 1 Axes>"
      ]
     },
     "metadata": {
      "needs_background": "light"
     },
     "output_type": "display_data"
    },
    {
     "data": {
      "image/png": "[encoded data removed]",
      "text/plain": [
       "<Figure size 720x288 with 1 Axes>"
      ]
     },
     "metadata": {
      "needs_background": "light"
     },
     "output_type": "display_data"
    },
    {
     "data": {
      "image/png": "[encoded data removed]",
      "text/plain": [
       "<Figure size 720x288 with 1 Axes>"
      ]
     },
     "metadata": {
      "needs_background": "light"
     },
     "output_type": "display_data"
    },
    {
     "data": {
      "image/png": "[encoded data removed]",
      "text/plain": [
       "<Figure size 720x288 with 1 Axes>"
      ]
     },
     "metadata": {
      "needs_background": "light"
     },
     "output_type": "display_data"
    },
    {
     "data": {
      "image/png": "[encoded data removed]",
      "text/plain": [
       "<Figure size 720x288 with 1 Axes>"
      ]
     },
     "metadata": {
      "needs_background": "light"
     },
     "output_type": "display_data"
    }
   ],
   "source": [
    "# Visualization of year-wise feature data\n",
    "dict_cols = dict({'id': 'Number of courses published', 'num_subscribers': 'Total subscribers',\n",
    "                  'num_comments': 'Total comments', 'num_reviews': 'Total reviews',\n",
    "                 'num_lectures': 'Total lectures'})\n",
    "\n",
    "for key, val in dict_cols.items():\n",
    "    df = group_courses_year\n",
    "    fig, ax = plt.subplots(figsize=(10,4))\n",
    "    sns.barplot(data=df, x=df.index, y=df[key], palette='hls')\n",
    "    ax.set_xlabel(\"Year\")\n",
    "    ax.set_ylabel(val)\n",
    "    ax.set_title(f'{val} per year')\n",
    "    plt.show()"
   ]
  },
  {
   "cell_type": "code",
   "execution_count": 43,
   "metadata": {
    "executionInfo": {
     "elapsed": 4315,
     "status": "ok",
     "timestamp": 1697343178966,
     "user": {
      "displayName": "viswa prakash",
      "userId": "10526577877653073872"
     },
     "user_tz": -330
    },
    "id": "SXsAaXroVknf"
   },
   "outputs": [],
   "source": [
    "# Dropping rows with any column having NaN.\n",
    "comments = comments.dropna(axis=0).reset_index(drop=True)"
   ]
  },
  {
   "cell_type": "code",
   "execution_count": 44,
   "metadata": {
    "executionInfo": {
     "elapsed": 676,
     "status": "ok",
     "timestamp": 1697343179605,
     "user": {
      "displayName": "viswa prakash",
      "userId": "10526577877653073872"
     },
     "user_tz": -330
    },
    "id": "WnqUHmUrXcHP"
   },
   "outputs": [],
   "source": [
    "# Mapping the course title from the courses dataframe to comments dataframe\n",
    "dict_id = dict(zip(courses['id'], courses['title']))\n",
    "comments['title'] = comments['course_id'].map(dict_id)"
   ]
  },
  {
   "cell_type": "code",
   "execution_count": 45,
   "metadata": {
    "colab": {
     "base_uri": "https://localhost:8080/",
     "height": 293
    },
    "executionInfo": {
     "elapsed": 2195,
     "status": "ok",
     "timestamp": 1697343181788,
     "user": {
      "displayName": "viswa prakash",
      "userId": "10526577877653073872"
     },
     "user_tz": -330
    },
    "id": "MVsNn-ieXgX6",
    "outputId": "07510595-6166-44dd-af06-06e0885fb790"
   },
   "outputs": [
    {
     "data": {
      "text/html": [
       "<div>\n",
       "<style scoped>\n",
       "    .dataframe tbody tr th:only-of-type {\n",
       "        vertical-align: middle;\n",
       "    }\n",
       "\n",
       "    .dataframe tbody tr th {\n",
       "        vertical-align: top;\n",
       "    }\n",
       "\n",
       "    .dataframe thead th {\n",
       "        text-align: right;\n",
       "    }\n",
       "</style>\n",
       "<table border=\"1\" class=\"dataframe\">\n",
       "  <thead>\n",
       "    <tr style=\"text-align: right;\">\n",
       "      <th></th>\n",
       "      <th>id</th>\n",
       "      <th>course_id</th>\n",
       "      <th>rate</th>\n",
       "      <th>date</th>\n",
       "      <th>display_name</th>\n",
       "      <th>comment</th>\n",
       "      <th>title</th>\n",
       "      <th>review</th>\n",
       "    </tr>\n",
       "  </thead>\n",
       "  <tbody>\n",
       "    <tr>\n",
       "      <th>3936729</th>\n",
       "      <td>4552356</td>\n",
       "      <td>460570</td>\n",
       "      <td>5.0</td>\n",
       "      <td>2016-12-20T01:13:58-08:00</td>\n",
       "      <td>Abdalmajid</td>\n",
       "      <td>I loved this course, very useful and help me a...</td>\n",
       "      <td>Android Material Design Slidenerd Style</td>\n",
       "      <td>Positive</td>\n",
       "    </tr>\n",
       "    <tr>\n",
       "      <th>6745254</th>\n",
       "      <td>110559268</td>\n",
       "      <td>1265410</td>\n",
       "      <td>5.0</td>\n",
       "      <td>2022-03-27T22:37:09-07:00</td>\n",
       "      <td>Shashikumar S</td>\n",
       "      <td>good</td>\n",
       "      <td>Postman: The Complete Guide - REST API Testing</td>\n",
       "      <td>Positive</td>\n",
       "    </tr>\n",
       "    <tr>\n",
       "      <th>899168</th>\n",
       "      <td>117177336</td>\n",
       "      <td>3170526</td>\n",
       "      <td>4.0</td>\n",
       "      <td>2022-06-24T09:49:48-07:00</td>\n",
       "      <td>Matthew</td>\n",
       "      <td>very informative</td>\n",
       "      <td>Candlesticks Trading Masterclass with TRREE Tr...</td>\n",
       "      <td>Positive</td>\n",
       "    </tr>\n",
       "    <tr>\n",
       "      <th>3026049</th>\n",
       "      <td>101189772</td>\n",
       "      <td>4386168</td>\n",
       "      <td>5.0</td>\n",
       "      <td>2021-11-27T03:46:28-08:00</td>\n",
       "      <td>Aslı</td>\n",
       "      <td>güzel hazırlanmış ve öğretici bir kurs. progra...</td>\n",
       "      <td>Python ile Sıfırdan Programlamaya Giriş</td>\n",
       "      <td>Positive</td>\n",
       "    </tr>\n",
       "    <tr>\n",
       "      <th>2065381</th>\n",
       "      <td>47277984</td>\n",
       "      <td>631764</td>\n",
       "      <td>5.0</td>\n",
       "      <td>2020-03-14T04:05:32-07:00</td>\n",
       "      <td>Lashel</td>\n",
       "      <td>So far so good. Definitely, exceeding my expec...</td>\n",
       "      <td>Motivation Coaching Certification GRCMC Motiva...</td>\n",
       "      <td>Positive</td>\n",
       "    </tr>\n",
       "  </tbody>\n",
       "</table>\n",
       "</div>"
      ],
      "text/plain": [
       "                id  course_id  rate                       date   display_name  \\\n",
       "3936729    4552356     460570   5.0  2016-12-20T01:13:58-08:00     Abdalmajid   \n",
       "6745254  110559268    1265410   5.0  2022-03-27T22:37:09-07:00  Shashikumar S   \n",
       "899168   117177336    3170526   4.0  2022-06-24T09:49:48-07:00        Matthew   \n",
       "3026049  101189772    4386168   5.0  2021-11-27T03:46:28-08:00           Aslı   \n",
       "2065381   47277984     631764   5.0  2020-03-14T04:05:32-07:00         Lashel   \n",
       "\n",
       "                                                   comment  \\\n",
       "3936729  I loved this course, very useful and help me a...   \n",
       "6745254                                               good   \n",
       "899168                                    very informative   \n",
       "3026049  güzel hazırlanmış ve öğretici bir kurs. progra...   \n",
       "2065381  So far so good. Definitely, exceeding my expec...   \n",
       "\n",
       "                                                     title    review  \n",
       "3936729            Android Material Design Slidenerd Style  Positive  \n",
       "6745254     Postman: The Complete Guide - REST API Testing  Positive  \n",
       "899168   Candlesticks Trading Masterclass with TRREE Tr...  Positive  \n",
       "3026049            Python ile Sıfırdan Programlamaya Giriş  Positive  \n",
       "2065381  Motivation Coaching Certification GRCMC Motiva...  Positive  "
      ]
     },
     "execution_count": 45,
     "metadata": {},
     "output_type": "execute_result"
    }
   ],
   "source": [
    "# New column 'review' based on 'rate' column.\n",
    "comments['review'] = pd.cut(comments['rate'], bins=[0, 2.5, 3.0, 5.0], labels=['Negative', 'Neutral', 'Positive'])\n",
    "comments.sample(5)"
   ]
  },
  {
   "cell_type": "code",
   "execution_count": 46,
   "metadata": {
    "colab": {
     "base_uri": "https://localhost:8080/",
     "height": 510
    },
    "executionInfo": {
     "elapsed": 40,
     "status": "ok",
     "timestamp": 1697343181790,
     "user": {
      "displayName": "viswa prakash",
      "userId": "10526577877653073872"
     },
     "user_tz": -330
    },
    "id": "TO-v9gkLXlBK",
    "outputId": "d1a63492-fe22-44b7-ee36-6022d130f202"
   },
   "outputs": [
    {
     "data": {
      "image/png": "[encoded data removed]",
      "text/plain": [
       "<Figure size 432x288 with 1 Axes>"
      ]
     },
     "metadata": {},
     "output_type": "display_data"
    },
    {
     "name": "stdout",
     "output_type": "stream",
     "text": [
      "\n",
      "Number of Positive, Negative and Neutral Reviews:\n",
      "Positive    8485901\n",
      "Negative     467323\n",
      "Neutral      377619\n",
      "Name: review, dtype: int64\n"
     ]
    }
   ],
   "source": [
    "# Share of positive and negative reviews\n",
    "def autopct_format(values):\n",
    "        def my_format(pct):\n",
    "            total = sum(values)\n",
    "            val = int(round(pct*total/100.0))\n",
    "            return '{:.0f}%'.format(pct, v=val)\n",
    "        return my_format\n",
    "\n",
    "reviews_counts = comments['review'].value_counts()\n",
    "explode= [0,0.1,0.1]\n",
    "plt.pie(reviews_counts,labels = reviews_counts.index, explode=explode, autopct=autopct_format(reviews_counts))\n",
    "plt.show()\n",
    "print(f\"\\nNumber of Positive, Negative and Neutral Reviews:\\n{reviews_counts}\")"
   ]
  },
  {
   "cell_type": "markdown",
   "metadata": {
    "id": "rEK-5xvEM29c"
   },
   "source": [
    "## POPULARITY BASED COURSE RECOMMENDER SYSTEM"
   ]
  },
  {
   "cell_type": "code",
   "execution_count": 47,
   "metadata": {
    "executionInfo": {
     "elapsed": 846,
     "status": "ok",
     "timestamp": 1697343182604,
     "user": {
      "displayName": "viswa prakash",
      "userId": "10526577877653073872"
     },
     "user_tz": -330
    },
    "id": "O3bxz6ClPS8g"
   },
   "outputs": [],
   "source": [
    "# Dropping rows with any columns having Nan\n",
    "courses = courses.dropna(axis=0).reset_index(drop=True)"
   ]
  },
  {
   "cell_type": "code",
   "execution_count": 48,
   "metadata": {
    "executionInfo": {
     "elapsed": 51,
     "status": "ok",
     "timestamp": 1697343182604,
     "user": {
      "displayName": "viswa prakash",
      "userId": "10526577877653073872"
     },
     "user_tz": -330
    },
    "id": "dQX727l-qKdb"
   },
   "outputs": [],
   "source": [
    "# Filering courses for 4.5 and above ratings\n",
    "popular_courses = courses.loc[courses['avg_rating']>=4.5]"
   ]
  },
  {
   "cell_type": "code",
   "execution_count": 49,
   "metadata": {
    "executionInfo": {
     "elapsed": 48,
     "status": "ok",
     "timestamp": 1697343182605,
     "user": {
      "displayName": "viswa prakash",
      "userId": "10526577877653073872"
     },
     "user_tz": -330
    },
    "id": "V4KVf0FhnQgV"
   },
   "outputs": [],
   "source": [
    "# Filtering with english language courses\n",
    "languages_to_keep = ['English']\n",
    "popular_courses = popular_courses.loc[popular_courses['language'].isin(languages_to_keep)].reset_index()"
   ]
  },
  {
   "cell_type": "code",
   "execution_count": 50,
   "metadata": {
    "executionInfo": {
     "elapsed": 48,
     "status": "ok",
     "timestamp": 1697343182605,
     "user": {
      "displayName": "viswa prakash",
      "userId": "10526577877653073872"
     },
     "user_tz": -330
    },
    "id": "1cC5F7utLRQY"
   },
   "outputs": [],
   "source": [
    "popular_50_courses = popular_courses.sort_values('num_subscribers', ascending=False).head(50)"
   ]
  },
  {
   "cell_type": "code",
   "execution_count": 51,
   "metadata": {
    "executionInfo": {
     "elapsed": 47,
     "status": "ok",
     "timestamp": 1697343182606,
     "user": {
      "displayName": "viswa prakash",
      "userId": "10526577877653073872"
     },
     "user_tz": -330
    },
    "id": "rSZTsjimUGJU"
   },
   "outputs": [],
   "source": [
    "popular_50_courses = popular_50_courses[['id', 'title', 'price', 'headline', 'num_subscribers', 'avg_rating', 'content_length_min', 'published_time']]"
   ]
  },
  {
   "cell_type": "markdown",
   "metadata": {
    "id": "nr2bzeHhVl1N"
   },
   "source": [
    "## CONTENT BASED COURSE RECOMMENDER SYSTEM"
   ]
  },
  {
   "cell_type": "code",
   "execution_count": 52,
   "metadata": {
    "colab": {
     "base_uri": "https://localhost:8080/",
     "height": 318
    },
    "executionInfo": {
     "elapsed": 47,
     "status": "ok",
     "timestamp": 1697343182607,
     "user": {
      "displayName": "viswa prakash",
      "userId": "10526577877653073872"
     },
     "user_tz": -330
    },
    "id": "eFOaLf50mWB8",
    "outputId": "68a8c150-f35b-4f0f-d5e5-6c1bde991f8e"
   },
   "outputs": [
    {
     "data": {
      "text/plain": [
       "0                                 How to Train a Puppy\n",
       "1             14-Day Yoga Detox and Empowerment Course\n",
       "2    CCNP SWITCH 300-115 Video Boot Camp With Chris...\n",
       "3    CCNP ROUTE 2018 Free Video Boot Camp:  BGP Suc...\n",
       "4                     Speak Up! Stand Out and be HAPPY\n",
       "5              Microsoft Excel 2010: Advanced Training\n",
       "6    Programming Java for Beginners - The Ultimate ...\n",
       "7    Practical Transformation Using XSLT and XPath ...\n",
       "8                            Learn to Program with C++\n",
       "9                      Adobe Flash CS5.5 for Beginners\n",
       "Name: title, dtype: object"
      ]
     },
     "execution_count": 52,
     "metadata": {},
     "output_type": "execute_result"
    }
   ],
   "source": [
    "popular_courses['title'].head(10)"
   ]
  },
  {
   "cell_type": "code",
   "execution_count": 53,
   "metadata": {
    "executionInfo": {
     "elapsed": 45,
     "status": "ok",
     "timestamp": 1697343182607,
     "user": {
      "displayName": "viswa prakash",
      "userId": "10526577877653073872"
     },
     "user_tz": -330
    },
    "id": "MKIvoLS7J67l"
   },
   "outputs": [],
   "source": [
    "popular_courses['tags'] = popular_courses['title'] + ' ' + popular_courses['headline'] + ' ' + popular_courses['instructor_name'] + ' ' + popular_courses['topic']"
   ]
  },
  {
   "cell_type": "code",
   "execution_count": 54,
   "metadata": {
    "colab": {
     "base_uri": "https://localhost:8080/",
     "height": 318
    },
    "executionInfo": {
     "elapsed": 45,
     "status": "ok",
     "timestamp": 1697343182608,
     "user": {
      "displayName": "viswa prakash",
      "userId": "10526577877653073872"
     },
     "user_tz": -330
    },
    "id": "nt6LmGlXKtPk",
    "outputId": "75b55157-ea04-4a9c-840a-fae1296a77a0"
   },
   "outputs": [],
   "source": [
    "popular_courses = popular_courses.head(30000)"
   ]
  },
  {
   "cell_type": "code",
   "execution_count": 55,
   "metadata": {
    "colab": {
     "base_uri": "https://localhost:8080/",
     "height": 206
    },
    "executionInfo": {
     "elapsed": 43,
     "status": "ok",
     "timestamp": 1697343182608,
     "user": {
      "displayName": "viswa prakash",
      "userId": "10526577877653073872"
     },
     "user_tz": -330
    },
    "id": "RIVpa5WHKvk6",
    "outputId": "9d8ea237-232e-4bb5-98db-e77ace4e476b"
   },
   "outputs": [
    {
     "data": {
      "text/html": [
       "<div>\n",
       "<style scoped>\n",
       "    .dataframe tbody tr th:only-of-type {\n",
       "        vertical-align: middle;\n",
       "    }\n",
       "\n",
       "    .dataframe tbody tr th {\n",
       "        vertical-align: top;\n",
       "    }\n",
       "\n",
       "    .dataframe thead th {\n",
       "        text-align: right;\n",
       "    }\n",
       "</style>\n",
       "<table border=\"1\" class=\"dataframe\">\n",
       "  <thead>\n",
       "    <tr style=\"text-align: right;\">\n",
       "      <th></th>\n",
       "      <th>id</th>\n",
       "      <th>title</th>\n",
       "      <th>tags</th>\n",
       "    </tr>\n",
       "  </thead>\n",
       "  <tbody>\n",
       "    <tr>\n",
       "      <th>12493</th>\n",
       "      <td>2066889.0</td>\n",
       "      <td>Fourier and Laplace Transforms</td>\n",
       "      <td>Fourier and Laplace Transforms The Mathematics...</td>\n",
       "    </tr>\n",
       "    <tr>\n",
       "      <th>17291</th>\n",
       "      <td>2731840.0</td>\n",
       "      <td>Facebook (Live) For (Beginners): Fast Track Tr...</td>\n",
       "      <td>Facebook (Live) For (Beginners): Fast Track Tr...</td>\n",
       "    </tr>\n",
       "    <tr>\n",
       "      <th>2843</th>\n",
       "      <td>595196.0</td>\n",
       "      <td>SDLC and Gating for Testing Professionals</td>\n",
       "      <td>SDLC and Gating for Testing Professionals Expl...</td>\n",
       "    </tr>\n",
       "    <tr>\n",
       "      <th>15293</th>\n",
       "      <td>2479420.0</td>\n",
       "      <td>Create an eCommerce Site With No Inventory Usi...</td>\n",
       "      <td>Create an eCommerce Site With No Inventory Usi...</td>\n",
       "    </tr>\n",
       "    <tr>\n",
       "      <th>10789</th>\n",
       "      <td>1787830.0</td>\n",
       "      <td>Rejection:   Prevention, Therapy  and Personal...</td>\n",
       "      <td>Rejection:   Prevention, Therapy  and Personal...</td>\n",
       "    </tr>\n",
       "    <tr>\n",
       "      <th>2133</th>\n",
       "      <td>477634.0</td>\n",
       "      <td>Adobe Illustrator CC - Print Design for Beginners</td>\n",
       "      <td>Adobe Illustrator CC - Print Design for Beginn...</td>\n",
       "    </tr>\n",
       "    <tr>\n",
       "      <th>10410</th>\n",
       "      <td>1725034.0</td>\n",
       "      <td>ROS For Beginners (ROS Noetic, Melodic, Kinetic)</td>\n",
       "      <td>ROS For Beginners (ROS Noetic, Melodic, Kineti...</td>\n",
       "    </tr>\n",
       "    <tr>\n",
       "      <th>14310</th>\n",
       "      <td>2352502.0</td>\n",
       "      <td>Maintaining Your Energy as a Psychic Medium</td>\n",
       "      <td>Maintaining Your Energy as a Psychic Medium Su...</td>\n",
       "    </tr>\n",
       "    <tr>\n",
       "      <th>6994</th>\n",
       "      <td>1269254.0</td>\n",
       "      <td>MBA in a Box: Business Lessons from a CEO</td>\n",
       "      <td>MBA in a Box: Business Lessons from a CEO A Co...</td>\n",
       "    </tr>\n",
       "    <tr>\n",
       "      <th>16695</th>\n",
       "      <td>2654722.0</td>\n",
       "      <td>The Visual System and Concussion</td>\n",
       "      <td>The Visual System and Concussion Understanding...</td>\n",
       "    </tr>\n",
       "  </tbody>\n",
       "</table>\n",
       "</div>"
      ],
      "text/plain": [
       "              id                                              title  \\\n",
       "12493  2066889.0                     Fourier and Laplace Transforms   \n",
       "17291  2731840.0  Facebook (Live) For (Beginners): Fast Track Tr...   \n",
       "2843    595196.0          SDLC and Gating for Testing Professionals   \n",
       "15293  2479420.0  Create an eCommerce Site With No Inventory Usi...   \n",
       "10789  1787830.0  Rejection:   Prevention, Therapy  and Personal...   \n",
       "2133    477634.0  Adobe Illustrator CC - Print Design for Beginners   \n",
       "10410  1725034.0   ROS For Beginners (ROS Noetic, Melodic, Kinetic)   \n",
       "14310  2352502.0        Maintaining Your Energy as a Psychic Medium   \n",
       "6994   1269254.0          MBA in a Box: Business Lessons from a CEO   \n",
       "16695  2654722.0                   The Visual System and Concussion   \n",
       "\n",
       "                                                    tags  \n",
       "12493  Fourier and Laplace Transforms The Mathematics...  \n",
       "17291  Facebook (Live) For (Beginners): Fast Track Tr...  \n",
       "2843   SDLC and Gating for Testing Professionals Expl...  \n",
       "15293  Create an eCommerce Site With No Inventory Usi...  \n",
       "10789  Rejection:   Prevention, Therapy  and Personal...  \n",
       "2133   Adobe Illustrator CC - Print Design for Beginn...  \n",
       "10410  ROS For Beginners (ROS Noetic, Melodic, Kineti...  \n",
       "14310  Maintaining Your Energy as a Psychic Medium Su...  \n",
       "6994   MBA in a Box: Business Lessons from a CEO A Co...  \n",
       "16695  The Visual System and Concussion Understanding...  "
      ]
     },
     "execution_count": 55,
     "metadata": {},
     "output_type": "execute_result"
    }
   ],
   "source": [
    "new_df = popular_courses[['id', 'title', 'tags']]\n",
    "new_df.sample(10)"
   ]
  },
  {
   "cell_type": "code",
   "execution_count": 56,
   "metadata": {
    "executionInfo": {
     "elapsed": 1165,
     "status": "ok",
     "timestamp": 1697343183732,
     "user": {
      "displayName": "viswa prakash",
      "userId": "10526577877653073872"
     },
     "user_tz": -330
    },
    "id": "seg-BGa4LR90"
   },
   "outputs": [],
   "source": [
    "new_df['tags'] = new_df['tags'].apply(lambda x: x.lower())"
   ]
  },
  {
   "cell_type": "code",
   "execution_count": 57,
   "metadata": {
    "executionInfo": {
     "elapsed": 7,
     "status": "ok",
     "timestamp": 1697343183732,
     "user": {
      "displayName": "viswa prakash",
      "userId": "10526577877653073872"
     },
     "user_tz": -330
    },
    "id": "q8hm3UFiLfRl"
   },
   "outputs": [],
   "source": [
    "ps = PorterStemmer()"
   ]
  },
  {
   "cell_type": "code",
   "execution_count": 58,
   "metadata": {
    "executionInfo": {
     "elapsed": 7,
     "status": "ok",
     "timestamp": 1697343183733,
     "user": {
      "displayName": "viswa prakash",
      "userId": "10526577877653073872"
     },
     "user_tz": -330
    },
    "id": "7HhNKJ2LVgJN"
   },
   "outputs": [],
   "source": [
    "def stem(tags):\n",
    "  text = []\n",
    "\n",
    "  for i in tags.split():\n",
    "    text.append(ps.stem(i))\n",
    "\n",
    "  return \" \".join(text)"
   ]
  },
  {
   "cell_type": "code",
   "execution_count": 59,
   "metadata": {
    "executionInfo": {
     "elapsed": 18748,
     "status": "ok",
     "timestamp": 1697343202474,
     "user": {
      "displayName": "viswa prakash",
      "userId": "10526577877653073872"
     },
     "user_tz": -330
    },
    "id": "ys2JUeDcX3jm"
   },
   "outputs": [],
   "source": [
    "new_df['tags'] = new_df['tags'].apply(stem)"
   ]
  },
  {
   "cell_type": "code",
   "execution_count": 70,
   "metadata": {
    "executionInfo": {
     "elapsed": 1398,
     "status": "ok",
     "timestamp": 1697343203860,
     "user": {
      "displayName": "viswa prakash",
      "userId": "10526577877653073872"
     },
     "user_tz": -330
    },
    "id": "oyUL5R3AVgVd"
   },
   "outputs": [],
   "source": [
    "cv = CountVectorizer(max_features=1000, stop_words='english')\n",
    "vectors = cv.fit_transform(new_df['tags']).toarray()"
   ]
  },
  {
   "cell_type": "code",
   "execution_count": 71,
   "metadata": {
    "colab": {
     "base_uri": "https://localhost:8080/"
    },
    "executionInfo": {
     "elapsed": 39,
     "status": "ok",
     "timestamp": 1697343203861,
     "user": {
      "displayName": "viswa prakash",
      "userId": "10526577877653073872"
     },
     "user_tz": -330
    },
    "id": "jhDLwd27WINX",
    "outputId": "ad64219c-0893-4c21-c896-e5a2eff6dd40"
   },
   "outputs": [
    {
     "data": {
      "text/plain": [
       "(30000, 1000)"
      ]
     },
     "execution_count": 71,
     "metadata": {},
     "output_type": "execute_result"
    }
   ],
   "source": [
    "vectors.shape"
   ]
  },
  {
   "cell_type": "code",
   "execution_count": 72,
   "metadata": {
    "colab": {
     "base_uri": "https://localhost:8080/"
    },
    "executionInfo": {
     "elapsed": 34,
     "status": "ok",
     "timestamp": 1697343203861,
     "user": {
      "displayName": "viswa prakash",
      "userId": "10526577877653073872"
     },
     "user_tz": -330
    },
    "id": "58JeXI1gWNjU",
    "outputId": "6bcff2a5-3016-4c75-8c28-9a1be65a8429"
   },
   "outputs": [
    {
     "data": {
      "text/plain": [
       "array(['000', '10', '100', '101', '11', '12', '14', '15', '19', '20',\n",
       "       '200', '2013', '2016', '2018', '2019', '2020', '2021', '2022',\n",
       "       '21', '2d', '30', '300', '360', '365', '3d', '50', '70', '900',\n",
       "       'ableton', 'absolut', 'academ', 'academi', 'access', 'account',\n",
       "       'accredit', 'ace', 'achiev', 'acryl', 'act', 'action', 'activ',\n",
       "       'ad', 'add', 'administr', 'adob', 'advanc', 'advanced', 'advertis',\n",
       "       'affili', 'affin', 'age', 'agil', 'ahm', 'ai', 'alcohol', 'alex',\n",
       "       'algebra', 'algorithm', 'ali', 'amaz', 'amazon', 'american',\n",
       "       'analysi', 'analysis', 'analyst', 'analyt', 'analyz', 'ancient',\n",
       "       'andrew', 'android', 'angel', 'angular', 'ani', 'anim', 'answer',\n",
       "       'anxieti', 'anyon', 'apach', 'api', 'app', 'appli', 'applic',\n",
       "       'approach', 'arab', 'architect', 'architectur', 'arduino', 'art',\n",
       "       'artifici', 'artist', 'asp', 'asset', 'associ', 'astrolog',\n",
       "       'attract', 'audienc', 'audio', 'audit', 'authent', 'author',\n",
       "       'autocad', 'autom', 'avoid', 'aw', 'awar', 'awesom', 'az', 'azur',\n",
       "       'bake', 'balanc', 'band', 'bank', 'bas', 'base', 'basic', 'basics',\n",
       "       'bass', 'beat', 'beauti', 'becom', 'befor', 'begin', 'beginn',\n",
       "       'beginner', 'beginners', 'behavior', 'belt', 'ben', 'best',\n",
       "       'better', 'bi', 'bibl', 'big', 'bitcoin', 'black', 'blender',\n",
       "       'block', 'blockchain', 'blog', 'blue', 'blueprint', 'bodi', 'book',\n",
       "       'boost', 'boot', 'bootcamp', 'bootstrap', 'bradley', 'brain',\n",
       "       'brand', 'break', 'breath', 'brian', 'bring', 'budget', 'build',\n",
       "       'busi', 'business', 'buy', 'calcul', 'calculu', 'camera', 'canva',\n",
       "       'car', 'card', 'care', 'career', 'cartoon', 'case', 'cc', 'ccna',\n",
       "       'ccnp', 'center', 'certif', 'certifi', 'certification', 'cfa',\n",
       "       'chakra', 'challeng', 'chang', 'charact', 'chart', 'chemistri',\n",
       "       'chess', 'chi', 'child', 'children', 'chines', 'chord', 'chri',\n",
       "       'christian', 'christoph', 'circuit', 'cisco', 'cissp', 'class',\n",
       "       'classic', 'classroom', 'clean', 'clear', 'client', 'cloud',\n",
       "       'coach', 'code', 'colleg', 'color', 'combin', 'command', 'commerc',\n",
       "       'common', 'commun', 'compani', 'complet', 'complex', 'composit',\n",
       "       'comprehens', 'comptia', 'comput', 'concept', 'confid',\n",
       "       'confidence', 'configur', 'connect', 'construct', 'consult',\n",
       "       'content', 'control', 'convers', 'cook', 'core', 'corpor', 'cost',\n",
       "       'cours', 'course', 'cover', 'craft', 'crash', 'creat', 'creation',\n",
       "       'creativ', 'credit', 'critic', 'cryptocurr', 'crystal', 'css',\n",
       "       'css3', 'cultur', 'custom', 'cut', 'cyber', 'daili', 'dan', 'danc',\n",
       "       'daniel', 'dashboard', 'data', 'databas', 'david', 'day', 'deal',\n",
       "       'decis', 'deep', 'defens', 'deliv', 'demand', 'deploy', 'depth',\n",
       "       'design', 'desktop', 'develop', 'development', 'devop', 'diet',\n",
       "       'differ', 'digit', 'diploma', 'direct', 'discov', 'dive', 'django',\n",
       "       'docker', 'dog', 'don', 'dr', 'draw', 'dream', 'drive', 'driven',\n",
       "       'dropship', 'drum', 'dumitrascu', 'dynam', 'earn', 'easi',\n",
       "       'easili', 'easy', 'ecommerc', 'edit', 'educ', 'effect', 'effici',\n",
       "       'electr', 'electron', 'element', 'email', 'emot', 'employe', 'end',\n",
       "       'energi', 'engag', 'engin', 'english', 'enhanc', 'enjoy', 'enrol',\n",
       "       'enterpris', 'entrepreneur', 'entrepreneurship', 'environ', 'eric',\n",
       "       'essenti', 'estat', 'esteem', 'ethic', 'event', 'everi',\n",
       "       'everyday', 'everyth', 'exam', 'exampl', 'excel', 'execut',\n",
       "       'exercis', 'exercises', 'expand', 'experi', 'experience', 'expert',\n",
       "       'explain', 'explan', 'explor', 'express', 'face', 'facebook',\n",
       "       'famili', 'fashion', 'fast', 'faster', 'fat', 'fba', 'fear',\n",
       "       'featur', 'feel', 'figur', 'file', 'film', 'final', 'financ',\n",
       "       'financi', 'finish', 'fit', 'fiverr', 'fix', 'flow', 'focu',\n",
       "       'focus', 'follow', 'food', 'forex', 'form', 'formula', 'foundat',\n",
       "       'framework', 'free', 'freedom', 'freelanc', 'french', 'fulli',\n",
       "       'fun', 'function', 'fundament', 'futur', 'gain', 'game', 'garden',\n",
       "       'gener', 'german', 'git', 'github', 'global', 'goal', 'gong',\n",
       "       'good', 'googl', 'grade', 'grammar', 'graphic', 'great', 'green',\n",
       "       'ground', 'group', 'grow', 'growth', 'guid', 'guide', 'guitar',\n",
       "       'ha', 'habit', 'hack', 'hair', 'hand', 'hands', 'happi', 'heal',\n",
       "       'health', 'healthi', 'heart', 'help', 'hero', 'high', 'histori',\n",
       "       'home', 'host', 'hour', 'hours', 'hous', 'html', 'html5', 'human',\n",
       "       'hypnosi', 'hypnotherapi', 'idea', 'ielt', 'ii', 'illustr', 'imag',\n",
       "       'impact', 'implement', 'import', 'improv', 'includ', 'included',\n",
       "       'incom', 'increas', 'indian', 'industri', 'infinit', 'influenc',\n",
       "       'inform', 'ink', 'inner', 'innov', 'insid', 'insight', 'inspir',\n",
       "       'instagram', 'instal', 'institut', 'instruct', 'instructor',\n",
       "       'integr', 'intellig', 'interact', 'interfac', 'interior',\n",
       "       'intermedi', 'intern', 'internet', 'interview', 'intro',\n",
       "       'introduct', 'intuit', 'invest', 'io', 'ip', 'iphon', 'italian',\n",
       "       'jame', 'japanes', 'jason', 'java', 'javascript', 'jazz',\n",
       "       'jewelri', 'job', 'joe', 'john', 'joseph', 'journey', 'jqueri',\n",
       "       'js', 'just', 'kevin', 'key', 'keyboard', 'kid', 'kindl', 'know',\n",
       "       'knowledg', 'korean', 'kotlin', 'kubernet', 'kumar', 'lab', 'land',\n",
       "       'landscap', 'languag', 'language', 'laravel', 'latest', 'launch',\n",
       "       'laurenc', 'law', 'lead', 'leader', 'leadership', 'lean', 'learn',\n",
       "       'learning', 'lee', 'lesson', 'lessons', 'let', 'letter', 'level',\n",
       "       'life', 'light', 'like', 'line', 'linear', 'linkedin', 'linux',\n",
       "       'list', 'listen', 'live', 'll', 'llc', 'local', 'logic', 'logo',\n",
       "       'long', 'look', 'lose', 'loss', 'love', 'low', 'mac', 'machin',\n",
       "       'magic', 'make', 'makeup', 'manag', 'management', 'mani',\n",
       "       'manifest', 'map', 'mark', 'market', 'marketing', 'martial',\n",
       "       'martin', 'massag', 'master', 'masterclass', 'masteri', 'mastery',\n",
       "       'materi', 'math', 'mathemat', 'matlab', 'matthew', 'max', 'maya',\n",
       "       'mba', 'mechan', 'media', 'medic', 'medicin', 'medit', 'meet',\n",
       "       'memori', 'mental', 'method', 'michael', 'microsoft', 'mike',\n",
       "       'mikrotik', 'million', 'mind', 'mindset', 'minut', 'mix', 'mobil',\n",
       "       'model', 'modern', 'modul', 'money', 'mongodb', 'motion', 'motiv',\n",
       "       'movement', 'ms', 'muhammad', 'multipl', 'music', 'mysql', 'nativ',\n",
       "       'natur', 'need', 'negoti', 'net', 'network', 'new', 'nick', 'nlp',\n",
       "       'node', 'non', 'novel', 'number', 'nutrit', 'object', 'offic',\n",
       "       'offici', 'oil', 'onli', 'onlin', 'open', 'oper', 'optim',\n",
       "       'option', 'oracl', 'organ', 'orient', 'overcom', 'overview',\n",
       "       'owner', 'packt', 'page', 'pain', 'paint', 'painting', 'paper',\n",
       "       'parent', 'pass', 'passiv', 'past', 'path', 'pattern', 'paul',\n",
       "       'peac', 'pencil', 'penetr', 'peopl', 'perfect', 'perform',\n",
       "       'person', 'peter', 'ph', 'phd', 'photo', 'photographi',\n",
       "       'photoshop', 'php', 'physic', 'piano', 'pivot', 'plan', 'platform',\n",
       "       'play', 'plu', 'plugin', 'pmi', 'pmp', 'podcast', 'point',\n",
       "       'popular', 'portfolio', 'portrait', 'posit', 'post', 'power',\n",
       "       'powerpoint', 'practic', 'practition', 'pre', 'premier', 'prep',\n",
       "       'prepar', 'present', 'prevent', 'price', 'principl', 'print',\n",
       "       'privat', 'pro', 'probabl', 'problem', 'process', 'procreat',\n",
       "       'produc', 'product', 'prof', 'profession', 'profit', 'program',\n",
       "       'programm', 'programming', 'progress', 'project', 'projects',\n",
       "       'promot', 'pronunci', 'protect', 'proven', 'provid', 'psychic',\n",
       "       'psycholog', 'public', 'publish', 'purpos', 'python', 'qi',\n",
       "       'qigong', 'qualiti', 'queri', 'question', 'questions', 'quick',\n",
       "       'quickbook', 'quickli', 'quran', 'rais', 'ray', 'react', 'read',\n",
       "       'readi', 'real', 'realist', 'record', 'recoveri', 'reduc',\n",
       "       'regress', 'reiki', 'relat', 'relationship', 'relax', 'relief',\n",
       "       'remot', 'render', 'report', 'requir', 'research', 'resourc',\n",
       "       'respons', 'rest', 'result', 'resum', 'review', 'revit', 'rhythm',\n",
       "       'richard', 'right', 'risk', 'robert', 'robot', 'rock', 'rule',\n",
       "       'run', 'russian', 'safe', 'safeti', 'sale', 'salesforc', 'sap',\n",
       "       'save', 'scale', 'scene', 'school', 'scienc', 'science', 'score',\n",
       "       'scott', 'scratch', 'script', 'scrum', 'sculpt', 'search',\n",
       "       'second', 'secret', 'secur', 'security', 'selenium', 'self',\n",
       "       'sell', 'seo', 'seri', 'server', 'servic', 'servicenow', 'session',\n",
       "       'set', 'setup', 'sew', 'share', 'sheet', 'shopifi', 'short',\n",
       "       'sigma', 'sign', 'simon', 'simpl', 'simple', 'simplifi', 'simul',\n",
       "       'sing', 'singh', 'singl', 'site', 'sketch', 'skill', 'skills',\n",
       "       'sleep', 'small', 'smart', 'social', 'softwar', 'solid', 'solut',\n",
       "       'solv', 'song', 'sorin', 'soul', 'sound', 'sourc', 'space',\n",
       "       'spanish', 'spark', 'speak', 'speaker', 'special', 'specialist',\n",
       "       'speech', 'speed', 'spirit', 'spiritu', 'sport', 'spring', 'sql',\n",
       "       'stack', 'standard', 'start', 'startup', 'statement', 'statist',\n",
       "       'step', 'stephen', 'steve', 'stock', 'stop', 'store', 'stori',\n",
       "       'storytel', 'strategi', 'stream', 'strength', 'stress', 'strong',\n",
       "       'structur', 'student', 'studi', 'studio', 'stun', 'style',\n",
       "       'succeed', 'success', 'super', 'suppli', 'support', 'sveki',\n",
       "       'swift', 'tabl', 'tableau', 'tai', 'tarot', 'task', 'taught',\n",
       "       'tax', 'teach', 'teacher', 'team', 'tech', 'technic', 'techniqu',\n",
       "       'techniques', 'technolog', 'templat', 'term', 'test', 'testing',\n",
       "       'text', 'textur', 'thai', 'theme', 'theori', 'theory', 'therapi',\n",
       "       'thi', 'thing', 'think', 'thoma', 'tim', 'time', 'tip', 'tips',\n",
       "       'tj', 'today', 'tom', 'tool', 'topic', 'total', 'track', 'trade',\n",
       "       'tradit', 'traffic', 'train', 'trainer', 'training', 'transform',\n",
       "       'travel', 'trick', 'true', 'turn', 'tutori', 'twitter', 'type',\n",
       "       'udemi', 'ui', 'ultim', 'understand', 'uniqu', 'unit', 'uniti',\n",
       "       'univers', 'unlock', 'unreal', 'updat', 'use', 'user', 'ux',\n",
       "       'valu', 'vba', 'vector', 'verb', 'veri', 'version', 'video',\n",
       "       'vietnames', 'view', 'virtual', 'vision', 'visual', 'vmware',\n",
       "       'vocabulari', 'voic', 'vol', 'volum', 'vue', 'walker', 'want',\n",
       "       'watercolor', 'watercolour', 'way', 'web', 'websit', 'wed', 'week',\n",
       "       'weight', 'whi', 'white', 'william', 'win', 'window', 'wing',\n",
       "       'women', 'word', 'wordpress', 'work', 'workflow', 'workout',\n",
       "       'workplac', 'workshop', 'world', 'worldwid', 'write', 'writing',\n",
       "       'year', 'yoga', 'youtub', 'zbrush', 'zero'], dtype=object)"
      ]
     },
     "execution_count": 72,
     "metadata": {},
     "output_type": "execute_result"
    }
   ],
   "source": [
    "cv.get_feature_names_out()"
   ]
  },
  {
   "cell_type": "code",
   "execution_count": 73,
   "metadata": {
    "id": "rVUo0YIVWWV-"
   },
   "outputs": [],
   "source": [
    "similarity = cosine_similarity(vectors)"
   ]
  },
  {
   "cell_type": "code",
   "execution_count": 82,
   "metadata": {
    "id": "pH0UXm8ZeQ0z"
   },
   "outputs": [],
   "source": [
    "def recommend(course):\n",
    "  course_index = new_df[new_df['title'] == course].index[0]\n",
    "  distances = similarity[course_index]\n",
    "  course_list = sorted(list(enumerate(distances)), reverse = True, key = lambda x: x[1])[1:7]\n",
    "\n",
    "  for i in course_list:\n",
    "    print(new_df.iloc[i[0]].title)"
   ]
  },
  {
   "cell_type": "code",
   "execution_count": 83,
   "metadata": {
    "id": "KTRYdUXMjY75"
   },
   "outputs": [
    {
     "ename": "IndexError",
     "evalue": "index 0 is out of bounds for axis 0 with size 0",
     "output_type": "error",
     "traceback": [
      "\u001b[1;31m---------------------------------------------------------------------------\u001b[0m",
      "\u001b[1;31mIndexError\u001b[0m                                Traceback (most recent call last)",
      "\u001b[1;32m~\\AppData\\Local\\Temp/ipykernel_11548/1614885373.py\u001b[0m in \u001b[0;36m<module>\u001b[1;34m\u001b[0m\n\u001b[1;32m----> 1\u001b[1;33m \u001b[0mrecommend\u001b[0m\u001b[1;33m(\u001b[0m\u001b[1;34m'python'\u001b[0m\u001b[1;33m)\u001b[0m\u001b[1;33m\u001b[0m\u001b[1;33m\u001b[0m\u001b[0m\n\u001b[0m",
      "\u001b[1;32m~\\AppData\\Local\\Temp/ipykernel_11548/534810834.py\u001b[0m in \u001b[0;36mrecommend\u001b[1;34m(course)\u001b[0m\n\u001b[0;32m      1\u001b[0m \u001b[1;32mdef\u001b[0m \u001b[0mrecommend\u001b[0m\u001b[1;33m(\u001b[0m\u001b[0mcourse\u001b[0m\u001b[1;33m)\u001b[0m\u001b[1;33m:\u001b[0m\u001b[1;33m\u001b[0m\u001b[1;33m\u001b[0m\u001b[0m\n\u001b[1;32m----> 2\u001b[1;33m   \u001b[0mcourse_index\u001b[0m \u001b[1;33m=\u001b[0m \u001b[0mnew_df\u001b[0m\u001b[1;33m[\u001b[0m\u001b[0mnew_df\u001b[0m\u001b[1;33m[\u001b[0m\u001b[1;34m'tags'\u001b[0m\u001b[1;33m]\u001b[0m \u001b[1;33m==\u001b[0m \u001b[0mcourse\u001b[0m\u001b[1;33m]\u001b[0m\u001b[1;33m.\u001b[0m\u001b[0mindex\u001b[0m\u001b[1;33m[\u001b[0m\u001b[1;36m0\u001b[0m\u001b[1;33m]\u001b[0m\u001b[1;33m\u001b[0m\u001b[1;33m\u001b[0m\u001b[0m\n\u001b[0m\u001b[0;32m      3\u001b[0m   \u001b[0mdistances\u001b[0m \u001b[1;33m=\u001b[0m \u001b[0msimilarity\u001b[0m\u001b[1;33m[\u001b[0m\u001b[0mcourse_index\u001b[0m\u001b[1;33m]\u001b[0m\u001b[1;33m\u001b[0m\u001b[1;33m\u001b[0m\u001b[0m\n\u001b[0;32m      4\u001b[0m   \u001b[0mcourse_list\u001b[0m \u001b[1;33m=\u001b[0m \u001b[0msorted\u001b[0m\u001b[1;33m(\u001b[0m\u001b[0mlist\u001b[0m\u001b[1;33m(\u001b[0m\u001b[0menumerate\u001b[0m\u001b[1;33m(\u001b[0m\u001b[0mdistances\u001b[0m\u001b[1;33m)\u001b[0m\u001b[1;33m)\u001b[0m\u001b[1;33m,\u001b[0m \u001b[0mreverse\u001b[0m \u001b[1;33m=\u001b[0m \u001b[1;32mTrue\u001b[0m\u001b[1;33m,\u001b[0m \u001b[0mkey\u001b[0m \u001b[1;33m=\u001b[0m \u001b[1;32mlambda\u001b[0m \u001b[0mx\u001b[0m\u001b[1;33m:\u001b[0m \u001b[0mx\u001b[0m\u001b[1;33m[\u001b[0m\u001b[1;36m1\u001b[0m\u001b[1;33m]\u001b[0m\u001b[1;33m)\u001b[0m\u001b[1;33m[\u001b[0m\u001b[1;36m1\u001b[0m\u001b[1;33m:\u001b[0m\u001b[1;36m7\u001b[0m\u001b[1;33m]\u001b[0m\u001b[1;33m\u001b[0m\u001b[1;33m\u001b[0m\u001b[0m\n\u001b[0;32m      5\u001b[0m \u001b[1;33m\u001b[0m\u001b[0m\n",
      "\u001b[1;32m~\\anaconda3\\lib\\site-packages\\pandas\\core\\indexes\\base.py\u001b[0m in \u001b[0;36m__getitem__\u001b[1;34m(self, key)\u001b[0m\n\u001b[0;32m   5051\u001b[0m             \u001b[1;31m# GH#44051 exclude bool, which would return a 2d ndarray\u001b[0m\u001b[1;33m\u001b[0m\u001b[1;33m\u001b[0m\u001b[0m\n\u001b[0;32m   5052\u001b[0m             \u001b[0mkey\u001b[0m \u001b[1;33m=\u001b[0m \u001b[0mcom\u001b[0m\u001b[1;33m.\u001b[0m\u001b[0mcast_scalar_indexer\u001b[0m\u001b[1;33m(\u001b[0m\u001b[0mkey\u001b[0m\u001b[1;33m,\u001b[0m \u001b[0mwarn_float\u001b[0m\u001b[1;33m=\u001b[0m\u001b[1;32mTrue\u001b[0m\u001b[1;33m)\u001b[0m\u001b[1;33m\u001b[0m\u001b[1;33m\u001b[0m\u001b[0m\n\u001b[1;32m-> 5053\u001b[1;33m             \u001b[1;32mreturn\u001b[0m \u001b[0mgetitem\u001b[0m\u001b[1;33m(\u001b[0m\u001b[0mkey\u001b[0m\u001b[1;33m)\u001b[0m\u001b[1;33m\u001b[0m\u001b[1;33m\u001b[0m\u001b[0m\n\u001b[0m\u001b[0;32m   5054\u001b[0m \u001b[1;33m\u001b[0m\u001b[0m\n\u001b[0;32m   5055\u001b[0m         \u001b[1;32mif\u001b[0m \u001b[0misinstance\u001b[0m\u001b[1;33m(\u001b[0m\u001b[0mkey\u001b[0m\u001b[1;33m,\u001b[0m \u001b[0mslice\u001b[0m\u001b[1;33m)\u001b[0m\u001b[1;33m:\u001b[0m\u001b[1;33m\u001b[0m\u001b[1;33m\u001b[0m\u001b[0m\n",
      "\u001b[1;31mIndexError\u001b[0m: index 0 is out of bounds for axis 0 with size 0"
     ]
    }
   ],
   "source": [
    "recommend('python')"
   ]
  },
  {
   "cell_type": "code",
   "execution_count": 85,
   "metadata": {},
   "outputs": [
    {
     "data": {
      "text/plain": [
       "12493"
      ]
     },
     "execution_count": 85,
     "metadata": {},
     "output_type": "execute_result"
    }
   ],
   "source": [
    "new_df[new_df['title'] == 'Fourier and Laplace Transforms'].index[0]"
   ]
  },
  {
   "cell_type": "code",
   "execution_count": null,
   "metadata": {},
   "outputs": [],
   "source": []
  }
 ],
 "metadata": {
  "accelerator": "GPU",
  "colab": {
   "authorship_tag": "ABX9TyM/uQIxGUMkW3tSbobTvvdj",
   "gpuType": "T4",
   "mount_file_id": "1vVvIYDby9VPrS9vwlfFxA5wnQx-7wZFV",
   "provenance": []
  },
  "kernelspec": {
   "display_name": "Python 3 (ipykernel)",
   "language": "python",
   "name": "python3"
  },
  "language_info": {
   "codemirror_mode": {
    "name": "ipython",
    "version": 3
   },
   "file_extension": ".py",
   "mimetype": "text/x-python",
   "name": "python",
   "nbconvert_exporter": "python",
   "pygments_lexer": "ipython3",
   "version": "3.9.7"
  }
 },
 "nbformat": 4,
 "nbformat_minor": 1
}
