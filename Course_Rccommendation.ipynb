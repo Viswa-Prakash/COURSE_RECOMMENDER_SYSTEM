{
 "cells": [
  {
   "cell_type": "markdown",
   "metadata": {},
   "source": [
    "## COURSE RECOMMENDER SYSTEM"
   ]
  },
  {
   "cell_type": "code",
   "execution_count": null,
   "metadata": {
    "executionInfo": {
     "elapsed": 1561,
     "status": "ok",
     "timestamp": 1697343101816,
     "user": {
      "displayName": "viswa prakash",
      "userId": "10526577877653073872"
     },
     "user_tz": -330
    },
    "id": "yt589z_SYfOz"
   },
   "outputs": [],
   "source": [
    " # Importing Basic Libraries\n",
    "import pandas as pd\n",
    "import numpy as np\n",
    "import matplotlib.pyplot as plt\n",
    "%matplotlib inline\n",
    "import seaborn as sns\n",
    "from sklearn.feature_extraction.text import CountVectorizer\n",
    "import nltk\n",
    "from nltk.stem.porter import PorterStemmer\n",
    "from sklearn.metrics.pairwise import cosine_similarity\n",
    "import warnings\n",
    "warnings.filterwarnings('ignore')"
   ]
  },
  {
   "cell_type": "code",
   "execution_count": null,
   "metadata": {
    "executionInfo": {
     "elapsed": 3311,
     "status": "ok",
     "timestamp": 1697343105124,
     "user": {
      "displayName": "viswa prakash",
      "userId": "10526577877653073872"
     },
     "user_tz": -330
    },
    "id": "yTMUpQqLY8jt"
   },
   "outputs": [],
   "source": [
    "# Importing the course dataset\n",
    "courses = pd.read_csv(\"Course_info.csv\")"
   ]
  },
  {
   "cell_type": "code",
   "execution_count": null,
   "metadata": {
    "executionInfo": {
     "elapsed": 53729,
     "status": "ok",
     "timestamp": 1697343158848,
     "user": {
      "displayName": "viswa prakash",
      "userId": "10526577877653073872"
     },
     "user_tz": -330
    },
    "id": "dmTogIuxU3ex"
   },
   "outputs": [],
   "source": [
    "# Importing the comment dataset\n",
    "comments = pd.read_csv(\"Comments.csv\")"
   ]
  },
  {
   "cell_type": "code",
   "execution_count": null,
   "metadata": {
    "colab": {
     "base_uri": "https://localhost:8080/",
     "height": 271
    },
    "executionInfo": {
     "elapsed": 52,
     "status": "ok",
     "timestamp": 1697343158848,
     "user": {
      "displayName": "viswa prakash",
      "userId": "10526577877653073872"
     },
     "user_tz": -330
    },
    "id": "QkFgSNoNUft1",
    "outputId": "b5a97654-bbb4-4632-b82c-161736e5c610",
    "scrolled": true
   },
   "outputs": [],
   "source": [
    "# Checking the rows and columns of the dataset\n",
    "courses.head(2)"
   ]
  },
  {
   "cell_type": "code",
   "execution_count": null,
   "metadata": {},
   "outputs": [],
   "source": [
    "courses['course_url'] = 'https://www.udemy.com'+ courses['course_url']"
   ]
  },
  {
   "cell_type": "code",
   "execution_count": null,
   "metadata": {
    "colab": {
     "base_uri": "https://localhost:8080/",
     "height": 112
    },
    "executionInfo": {
     "elapsed": 46,
     "status": "ok",
     "timestamp": 1697343158848,
     "user": {
      "displayName": "viswa prakash",
      "userId": "10526577877653073872"
     },
     "user_tz": -330
    },
    "id": "bwVWFv6MVdUp",
    "outputId": "e0d3d07c-04dc-4329-c68c-197ab503f326"
   },
   "outputs": [],
   "source": [
    "# Checking the rows and columns of the dataset\n",
    "comments.head(2)"
   ]
  },
  {
   "cell_type": "code",
   "execution_count": null,
   "metadata": {
    "colab": {
     "base_uri": "https://localhost:8080/"
    },
    "executionInfo": {
     "elapsed": 781,
     "status": "ok",
     "timestamp": 1697343159586,
     "user": {
      "displayName": "viswa prakash",
      "userId": "10526577877653073872"
     },
     "user_tz": -330
    },
    "id": "pQ12U9leUm6b",
    "outputId": "6c7289fb-e10b-4147-fa6f-c806aa188b45"
   },
   "outputs": [],
   "source": [
    "# Checking the column types\n",
    "courses.info()"
   ]
  },
  {
   "cell_type": "code",
   "execution_count": null,
   "metadata": {
    "colab": {
     "base_uri": "https://localhost:8080/",
     "height": 300
    },
    "executionInfo": {
     "elapsed": 30,
     "status": "ok",
     "timestamp": 1697343159586,
     "user": {
      "displayName": "viswa prakash",
      "userId": "10526577877653073872"
     },
     "user_tz": -330
    },
    "id": "d1FlM5vJcIiD",
    "outputId": "f7dfca4a-f701-435e-c36a-130addf6e071"
   },
   "outputs": [],
   "source": [
    "# Checking the descriptive statistics of numerical columns\n",
    "courses.describe()"
   ]
  },
  {
   "cell_type": "code",
   "execution_count": null,
   "metadata": {
    "colab": {
     "base_uri": "https://localhost:8080/",
     "height": 227
    },
    "executionInfo": {
     "elapsed": 437,
     "status": "ok",
     "timestamp": 1697343159997,
     "user": {
      "displayName": "viswa prakash",
      "userId": "10526577877653073872"
     },
     "user_tz": -330
    },
    "id": "NQKrRB4lcUc_",
    "outputId": "1e18c199-77fc-4586-8269-eddbc1f0c2ff"
   },
   "outputs": [],
   "source": [
    "# Checking the descriptive statistics of categorical columns\n",
    "courses.describe(include='O')"
   ]
  },
  {
   "cell_type": "code",
   "execution_count": null,
   "metadata": {
    "colab": {
     "base_uri": "https://localhost:8080/"
    },
    "executionInfo": {
     "elapsed": 32,
     "status": "ok",
     "timestamp": 1697343159997,
     "user": {
      "displayName": "viswa prakash",
      "userId": "10526577877653073872"
     },
     "user_tz": -330
    },
    "id": "eWk1FoEA1zsO",
    "outputId": "cd82cf78-ad16-48f3-9776-67c0ef222809"
   },
   "outputs": [],
   "source": [
    "# Checking the column types\n",
    "comments.info()"
   ]
  },
  {
   "cell_type": "code",
   "execution_count": null,
   "metadata": {
    "colab": {
     "base_uri": "https://localhost:8080/"
    },
    "executionInfo": {
     "elapsed": 577,
     "status": "ok",
     "timestamp": 1697343160547,
     "user": {
      "displayName": "viswa prakash",
      "userId": "10526577877653073872"
     },
     "user_tz": -330
    },
    "id": "K4hnWVIz12Ih",
    "outputId": "ae899f70-a4ff-4cb6-9732-60cc98e27c80"
   },
   "outputs": [],
   "source": [
    "# Checking the missing values in the dataset\n",
    "courses.isnull().sum()"
   ]
  },
  {
   "cell_type": "code",
   "execution_count": null,
   "metadata": {
    "colab": {
     "base_uri": "https://localhost:8080/"
    },
    "executionInfo": {
     "elapsed": 3730,
     "status": "ok",
     "timestamp": 1697343164266,
     "user": {
      "displayName": "viswa prakash",
      "userId": "10526577877653073872"
     },
     "user_tz": -330
    },
    "id": "z5MrRX7h1946",
    "outputId": "e37ec167-eddb-44c0-da1c-8aab1e066c42"
   },
   "outputs": [],
   "source": [
    "# Checking the missing values in the dataset\n",
    "comments.isnull().sum()"
   ]
  },
  {
   "cell_type": "code",
   "execution_count": null,
   "metadata": {
    "colab": {
     "base_uri": "https://localhost:8080/"
    },
    "executionInfo": {
     "elapsed": 809,
     "status": "ok",
     "timestamp": 1697343165070,
     "user": {
      "displayName": "viswa prakash",
      "userId": "10526577877653073872"
     },
     "user_tz": -330
    },
    "id": "f7ZJFTIL2FMc",
    "outputId": "636c8503-9dcb-4fee-d15d-e9a17409c268"
   },
   "outputs": [],
   "source": [
    "# Checking the duplicates values in the dataset\n",
    "courses.duplicated().sum()"
   ]
  },
  {
   "cell_type": "markdown",
   "metadata": {
    "id": "nJ_vJs653KeP"
   },
   "source": [
    "# EXPLORATORY DATA ANALYSIS"
   ]
  },
  {
   "cell_type": "code",
   "execution_count": null,
   "metadata": {
    "executionInfo": {
     "elapsed": 42,
     "status": "ok",
     "timestamp": 1697343165071,
     "user": {
      "displayName": "viswa prakash",
      "userId": "10526577877653073872"
     },
     "user_tz": -330
    },
    "id": "AIKC8c5Y5nfm"
   },
   "outputs": [],
   "source": [
    "total_courses = len(courses)"
   ]
  },
  {
   "cell_type": "code",
   "execution_count": null,
   "metadata": {
    "executionInfo": {
     "elapsed": 41,
     "status": "ok",
     "timestamp": 1697343165071,
     "user": {
      "displayName": "viswa prakash",
      "userId": "10526577877653073872"
     },
     "user_tz": -330
    },
    "id": "BoP_oRvU3QaW"
   },
   "outputs": [],
   "source": [
    "paid_courses = courses[courses['is_paid']==True]\n",
    "free_courses = courses[courses['is_paid']==False]"
   ]
  },
  {
   "cell_type": "code",
   "execution_count": null,
   "metadata": {
    "executionInfo": {
     "elapsed": 41,
     "status": "ok",
     "timestamp": 1697343165072,
     "user": {
      "displayName": "viswa prakash",
      "userId": "10526577877653073872"
     },
     "user_tz": -330
    },
    "id": "Err8IjPO4op1"
   },
   "outputs": [],
   "source": [
    "total_enrollments = courses['num_subscribers'].sum()\n",
    "paid_enrollments = paid_courses['num_subscribers'].sum()\n",
    "free_enrollments = free_courses['num_subscribers'].sum()"
   ]
  },
  {
   "cell_type": "code",
   "execution_count": null,
   "metadata": {
    "colab": {
     "base_uri": "https://localhost:8080/"
    },
    "executionInfo": {
     "elapsed": 41,
     "status": "ok",
     "timestamp": 1697343165073,
     "user": {
      "displayName": "viswa prakash",
      "userId": "10526577877653073872"
     },
     "user_tz": -330
    },
    "id": "OHJ2DPUW7CAe",
    "outputId": "024c5eec-ff28-48c0-8e88-69b77498cf06"
   },
   "outputs": [],
   "source": [
    "print('Total Courses: ', total_courses)\n",
    "print('Total Enrollments: ', total_enrollments)\n",
    "print('Total Paid Courses: ', len(paid_courses))\n",
    "print('Total Free Courses: ', len(free_courses))\n",
    "print('Total Enrollments in Paid Courses: ', paid_enrollments)\n",
    "print('Total Enrollments in free Courses: ', free_enrollments)"
   ]
  },
  {
   "cell_type": "code",
   "execution_count": null,
   "metadata": {
    "colab": {
     "base_uri": "https://localhost:8080/",
     "height": 410
    },
    "executionInfo": {
     "elapsed": 36,
     "status": "ok",
     "timestamp": 1697343165074,
     "user": {
      "displayName": "viswa prakash",
      "userId": "10526577877653073872"
     },
     "user_tz": -330
    },
    "id": "QGlH-0rd8m2T",
    "outputId": "84affd2b-c4b7-457b-f93a-ecd19eb7233b"
   },
   "outputs": [],
   "source": [
    "# Distribution of free and paid courses\n",
    "plt.figure(figsize=(5,4))\n",
    "sns.countplot(x='is_paid', data=courses)\n",
    "\n",
    "#ax = sns.countplot(x='is_paid', data=courses)\n",
    "#for p in ax.patches: ax.annotate(f'{p.get_height()}', (p.get_x() + p.get_width()/2. + p.get_height()), ha='center', va='baselaine')\n",
    "\n",
    "plt.title('Distribution of Paid and Free Courses')\n",
    "plt.xlabel('Price (True: Paid, False: Free)')\n",
    "plt.ylabel('Number of Courses')\n",
    "plt.show()"
   ]
  },
  {
   "cell_type": "code",
   "execution_count": null,
   "metadata": {
    "colab": {
     "base_uri": "https://localhost:8080/",
     "height": 410
    },
    "executionInfo": {
     "elapsed": 1857,
     "status": "ok",
     "timestamp": 1697343166898,
     "user": {
      "displayName": "viswa prakash",
      "userId": "10526577877653073872"
     },
     "user_tz": -330
    },
    "id": "vrzkQyT_AgwF",
    "outputId": "e4786439-788c-4fd3-9620-cee134161523"
   },
   "outputs": [],
   "source": [
    "# Price distribution for Paid Courses\n",
    "plt.figure(figsize=(12,4))\n",
    "sns.histplot(paid_courses['price'], bins=100, kde=True)\n",
    "plt.title('Distribution of Prices of Paid Courses')\n",
    "plt.xlabel('Price')\n",
    "plt.ylabel('Frequency')\n",
    "plt.show()"
   ]
  },
  {
   "cell_type": "code",
   "execution_count": null,
   "metadata": {
    "colab": {
     "base_uri": "https://localhost:8080/",
     "height": 424
    },
    "executionInfo": {
     "elapsed": 51,
     "status": "ok",
     "timestamp": 1697343166899,
     "user": {
      "displayName": "viswa prakash",
      "userId": "10526577877653073872"
     },
     "user_tz": -330
    },
    "id": "hzlCtu5dSQA5",
    "outputId": "67179ea9-10ab-402d-bb3d-a7e47ef06e95"
   },
   "outputs": [],
   "source": [
    "# Courses with Hightest Price\n",
    "courses[courses['price'] == courses.price.max()][['title','price','instructor_name','language']]"
   ]
  },
  {
   "cell_type": "code",
   "execution_count": null,
   "metadata": {
    "colab": {
     "base_uri": "https://localhost:8080/",
     "height": 425
    },
    "executionInfo": {
     "elapsed": 50,
     "status": "ok",
     "timestamp": 1697343166900,
     "user": {
      "displayName": "viswa prakash",
      "userId": "10526577877653073872"
     },
     "user_tz": -330
    },
    "id": "VTSqs6NoCXd0",
    "outputId": "1bd3ac40-91a6-4b01-a092-d197fa5a4254"
   },
   "outputs": [],
   "source": [
    "# Distribution of Number of Subscribers based on Paid and Free Courses\n",
    "plt.figure(figsize=(8,4))\n",
    "sns.barplot(x= 'is_paid', y='num_subscribers', data= courses, estimator='sum', errorbar=None)\n",
    "\n",
    "plt.title('Distribution of Number of Subscribers based on Paid and Free Courses')\n",
    "plt.xlabel('Price (True: Paid, False: Free)')\n",
    "plt.ylabel('Number of Subscribers')\n",
    "plt.show()"
   ]
  },
  {
   "cell_type": "code",
   "execution_count": null,
   "metadata": {
    "colab": {
     "base_uri": "https://localhost:8080/",
     "height": 546
    },
    "executionInfo": {
     "elapsed": 1421,
     "status": "ok",
     "timestamp": 1697343168273,
     "user": {
      "displayName": "viswa prakash",
      "userId": "10526577877653073872"
     },
     "user_tz": -330
    },
    "id": "z7OdhVMYxI6y",
    "outputId": "576a0d4f-efa7-485b-fdaf-6a3c9a5b1da7"
   },
   "outputs": [],
   "source": [
    "plt.figure(figsize=(10,6))\n",
    "sns.displot(courses['avg_rating'])\n",
    "plt.xlabel('Average Rating Distribution')\n",
    "plt.title('Distribution of Average Ratings')\n",
    "plt.show()"
   ]
  },
  {
   "cell_type": "code",
   "execution_count": null,
   "metadata": {
    "colab": {
     "base_uri": "https://localhost:8080/",
     "height": 410
    },
    "executionInfo": {
     "elapsed": 58,
     "status": "ok",
     "timestamp": 1697343168274,
     "user": {
      "displayName": "viswa prakash",
      "userId": "10526577877653073872"
     },
     "user_tz": -330
    },
    "id": "youl4yWSDlX2",
    "outputId": "9fb3559a-1320-4213-9f43-d39835187996"
   },
   "outputs": [],
   "source": [
    "# Top Five Courses with Maximum Subscriber\n",
    "courses_sorted = courses.sort_values(by = 'num_subscribers', ascending = False)\n",
    "top_5_courses = courses_sorted.head()\n",
    "\n",
    "plt.figure(figsize=(5,4))\n",
    "plt.barh(top_5_courses['title'], top_5_courses['num_subscribers'])\n",
    "plt.xlabel('Number of Subscribers')\n",
    "plt.ylabel('Courses Title')\n",
    "plt.title('Top Five Courses with Maximum Subscriber')\n",
    "plt.gca().invert_yaxis()\n",
    "plt.show()"
   ]
  },
  {
   "cell_type": "code",
   "execution_count": null,
   "metadata": {
    "colab": {
     "base_uri": "https://localhost:8080/",
     "height": 410
    },
    "executionInfo": {
     "elapsed": 55,
     "status": "ok",
     "timestamp": 1697343168274,
     "user": {
      "displayName": "viswa prakash",
      "userId": "10526577877653073872"
     },
     "user_tz": -330
    },
    "id": "w2LqHfXEHGJm",
    "outputId": "a70cc38e-05df-4951-c643-e60b12add4d0"
   },
   "outputs": [],
   "source": [
    "# Top Five Courses with Maximum Reviews\n",
    "courses_sorted = courses.sort_values(by = 'num_reviews', ascending = False)\n",
    "top_5_courses = courses_sorted.head()\n",
    "\n",
    "plt.figure(figsize=(5,4))\n",
    "plt.barh(top_5_courses['title'], top_5_courses['num_reviews'], color ='red')\n",
    "plt.xlabel('Number of Reviews')\n",
    "plt.ylabel('Courses Title')\n",
    "plt.title('Top Five Courses with Maximum Reviews')\n",
    "plt.gca().invert_yaxis()\n",
    "plt.show()"
   ]
  },
  {
   "cell_type": "code",
   "execution_count": null,
   "metadata": {
    "colab": {
     "base_uri": "https://localhost:8080/",
     "height": 410
    },
    "executionInfo": {
     "elapsed": 1529,
     "status": "ok",
     "timestamp": 1697343169751,
     "user": {
      "displayName": "viswa prakash",
      "userId": "10526577877653073872"
     },
     "user_tz": -330
    },
    "id": "j282iOloIYbr",
    "outputId": "74cb8e69-21a4-42b7-92b6-6b16ce09e40b"
   },
   "outputs": [],
   "source": [
    "# Top Five Courses with Maximum Comments\n",
    "courses_sorted = courses.sort_values(by = 'num_comments', ascending = False)\n",
    "top_5_courses = courses_sorted.head()\n",
    "\n",
    "plt.figure(figsize=(5,4))\n",
    "plt.barh(top_5_courses['title'], top_5_courses['num_comments'], color = 'red')\n",
    "plt.xlabel('Number of Comments')\n",
    "plt.ylabel('Courses Title')\n",
    "plt.title('Top Five Courses with Maximum Comments')\n",
    "plt.gca().invert_yaxis()\n",
    "plt.show()"
   ]
  },
  {
   "cell_type": "code",
   "execution_count": null,
   "metadata": {
    "colab": {
     "base_uri": "https://localhost:8080/",
     "height": 410
    },
    "executionInfo": {
     "elapsed": 61,
     "status": "ok",
     "timestamp": 1697343169753,
     "user": {
      "displayName": "viswa prakash",
      "userId": "10526577877653073872"
     },
     "user_tz": -330
    },
    "id": "Okg3dVX4OzdI",
    "outputId": "57ab1372-44c8-4a97-8768-d127599f42ad"
   },
   "outputs": [],
   "source": [
    "# Top Five Courses with Maximum Lectures\n",
    "courses_sorted = courses.sort_values(by = 'num_lectures', ascending = False)\n",
    "top_5_courses = courses_sorted.head()\n",
    "\n",
    "plt.figure(figsize=(5,4))\n",
    "plt.barh(top_5_courses['title'], top_5_courses['num_lectures'], color = 'red')\n",
    "plt.xlabel('Number of Lectures')\n",
    "plt.ylabel('Courses Title')\n",
    "plt.title('Top Five Courses with Maximum Lectures')\n",
    "plt.gca().invert_yaxis()\n",
    "plt.show()"
   ]
  },
  {
   "cell_type": "code",
   "execution_count": null,
   "metadata": {
    "colab": {
     "base_uri": "https://localhost:8080/",
     "height": 410
    },
    "executionInfo": {
     "elapsed": 58,
     "status": "ok",
     "timestamp": 1697343169753,
     "user": {
      "displayName": "viswa prakash",
      "userId": "10526577877653073872"
     },
     "user_tz": -330
    },
    "id": "ACfnyj2DQxsr",
    "outputId": "364fffe6-3f67-4c49-e5f5-19687713b790"
   },
   "outputs": [],
   "source": [
    "# Top Five Courses with Highest Content Length\n",
    "courses_sorted = courses.sort_values(by = 'content_length_min', ascending = False)\n",
    "top_5_courses = courses_sorted.head()\n",
    "\n",
    "plt.figure(figsize=(5,4))\n",
    "plt.barh(top_5_courses['title'], top_5_courses['content_length_min'], color = 'orange')\n",
    "plt.xlabel('Content Length in Minutes')\n",
    "plt.ylabel('Courses Title')\n",
    "plt.title('Top Five Courses with Highest Content Length')\n",
    "plt.gca().invert_yaxis()\n",
    "plt.show()"
   ]
  },
  {
   "cell_type": "code",
   "execution_count": null,
   "metadata": {
    "colab": {
     "base_uri": "https://localhost:8080/"
    },
    "executionInfo": {
     "elapsed": 55,
     "status": "ok",
     "timestamp": 1697343169754,
     "user": {
      "displayName": "viswa prakash",
      "userId": "10526577877653073872"
     },
     "user_tz": -330
    },
    "id": "Vkz4kaY_MP-l",
    "outputId": "fc9ae2de-137a-4987-c6c3-dccb73deaacf"
   },
   "outputs": [],
   "source": [
    "# Summary statistics for Average Rating\n",
    "rating_stats = courses['avg_rating'].describe()\n",
    "print(rating_stats)"
   ]
  },
  {
   "cell_type": "code",
   "execution_count": null,
   "metadata": {
    "colab": {
     "base_uri": "https://localhost:8080/"
    },
    "executionInfo": {
     "elapsed": 49,
     "status": "ok",
     "timestamp": 1697343169754,
     "user": {
      "displayName": "viswa prakash",
      "userId": "10526577877653073872"
     },
     "user_tz": -330
    },
    "id": "-TMWINYWjvs-",
    "outputId": "f03bebb0-7a86-48fa-893b-ac7708de9f2e"
   },
   "outputs": [],
   "source": [
    "courses['avg_rating'].max()"
   ]
  },
  {
   "cell_type": "code",
   "execution_count": null,
   "metadata": {
    "colab": {
     "base_uri": "https://localhost:8080/",
     "height": 539
    },
    "executionInfo": {
     "elapsed": 46,
     "status": "ok",
     "timestamp": 1697343169754,
     "user": {
      "displayName": "viswa prakash",
      "userId": "10526577877653073872"
     },
     "user_tz": -330
    },
    "id": "aPSJMsebkIgT",
    "outputId": "4f929541-5351-495d-89c7-c33311453789"
   },
   "outputs": [],
   "source": [
    "courses_with_5_rating = courses[courses['avg_rating'] == 5]\n",
    "courses_with_5_rating.sample(5)"
   ]
  },
  {
   "cell_type": "code",
   "execution_count": null,
   "metadata": {
    "colab": {
     "base_uri": "https://localhost:8080/"
    },
    "executionInfo": {
     "elapsed": 45,
     "status": "ok",
     "timestamp": 1697343169755,
     "user": {
      "displayName": "viswa prakash",
      "userId": "10526577877653073872"
     },
     "user_tz": -330
    },
    "id": "yYWd-otElcx9",
    "outputId": "3a8fefba-9be4-4199-9fdf-5fcd61dc6fff"
   },
   "outputs": [],
   "source": [
    "print(courses_with_5_rating.shape)"
   ]
  },
  {
   "cell_type": "code",
   "execution_count": null,
   "metadata": {
    "colab": {
     "base_uri": "https://localhost:8080/",
     "height": 424
    },
    "executionInfo": {
     "elapsed": 479,
     "status": "ok",
     "timestamp": 1697343170192,
     "user": {
      "displayName": "viswa prakash",
      "userId": "10526577877653073872"
     },
     "user_tz": -330
    },
    "id": "m8GfEgitLoOu",
    "outputId": "53158a33-0420-49de-ee67-2f66fb71f609"
   },
   "outputs": [],
   "source": [
    "courses[courses['avg_rating'] == courses.avg_rating.max()][['title','instructor_name','language']]"
   ]
  },
  {
   "cell_type": "code",
   "execution_count": null,
   "metadata": {
    "colab": {
     "base_uri": "https://localhost:8080/"
    },
    "executionInfo": {
     "elapsed": 48,
     "status": "ok",
     "timestamp": 1697343170192,
     "user": {
      "displayName": "viswa prakash",
      "userId": "10526577877653073872"
     },
     "user_tz": -330
    },
    "id": "ds3bnOioT6A8",
    "outputId": "f308d333-9e32-4d5c-8d2e-2977a9c9eb44"
   },
   "outputs": [],
   "source": [
    "courses['category'].unique()"
   ]
  },
  {
   "cell_type": "code",
   "execution_count": null,
   "metadata": {
    "colab": {
     "base_uri": "https://localhost:8080/"
    },
    "executionInfo": {
     "elapsed": 43,
     "status": "ok",
     "timestamp": 1697343170193,
     "user": {
      "displayName": "viswa prakash",
      "userId": "10526577877653073872"
     },
     "user_tz": -330
    },
    "id": "uBM0A3Vahhya",
    "outputId": "bbc08ed4-dfd4-4812-90a1-09cf0972dd6c",
    "scrolled": true
   },
   "outputs": [],
   "source": [
    "courses['subcategory'].unique()"
   ]
  },
  {
   "cell_type": "code",
   "execution_count": null,
   "metadata": {
    "colab": {
     "base_uri": "https://localhost:8080/"
    },
    "executionInfo": {
     "elapsed": 38,
     "status": "ok",
     "timestamp": 1697343170193,
     "user": {
      "displayName": "viswa prakash",
      "userId": "10526577877653073872"
     },
     "user_tz": -330
    },
    "id": "sHmbfl7NiTxs",
    "outputId": "f73323ac-876b-4c42-e960-873a4d4063e6"
   },
   "outputs": [],
   "source": [
    "categories_counts = courses['category'].value_counts()\n",
    "print(\"Course Categories Distribution: \", categories_counts)\n",
    "\n",
    "# Add a pie plot"
   ]
  },
  {
   "cell_type": "code",
   "execution_count": null,
   "metadata": {
    "colab": {
     "base_uri": "https://localhost:8080/"
    },
    "executionInfo": {
     "elapsed": 35,
     "status": "ok",
     "timestamp": 1697343170193,
     "user": {
      "displayName": "viswa prakash",
      "userId": "10526577877653073872"
     },
     "user_tz": -330
    },
    "id": "y0yeidI0jY7w",
    "outputId": "3f6fe453-d16a-4381-e1ae-52f2e3304147"
   },
   "outputs": [],
   "source": [
    "subcategories_counts = courses.groupby(['category','subcategory']).size()\n",
    "subcategories_counts\n",
    "\n",
    "# Add a pie plot"
   ]
  },
  {
   "cell_type": "code",
   "execution_count": null,
   "metadata": {
    "colab": {
     "base_uri": "https://localhost:8080/",
     "height": 663
    },
    "executionInfo": {
     "elapsed": 1479,
     "status": "ok",
     "timestamp": 1697343171640,
     "user": {
      "displayName": "viswa prakash",
      "userId": "10526577877653073872"
     },
     "user_tz": -330
    },
    "id": "V2kOqXPEyVLE",
    "outputId": "a040b69f-a3a1-43bb-860c-32d48667dfdb"
   },
   "outputs": [],
   "source": [
    "# Count plot for the number of courses in different langauges\n",
    "plt.figure(figsize=(14, 6))\n",
    "sns.countplot(data=courses, x='language', order=courses['language'].value_counts().index)\n",
    "plt.xlabel(\"\")\n",
    "plt.ylabel(\"Number of courses in every language\")\n",
    "plt.title(\"Udemy Courses offered in different languages\")\n",
    "plt.xticks(rotation=90);"
   ]
  },
  {
   "cell_type": "code",
   "execution_count": null,
   "metadata": {
    "colab": {
     "base_uri": "https://localhost:8080/"
    },
    "executionInfo": {
     "elapsed": 21,
     "status": "ok",
     "timestamp": 1697343171640,
     "user": {
      "displayName": "viswa prakash",
      "userId": "10526577877653073872"
     },
     "user_tz": -330
    },
    "id": "XfixSRbGMs-3",
    "outputId": "4d0aab08-a076-4bd2-d512-d90f31a999e3"
   },
   "outputs": [],
   "source": [
    "courses.language.value_counts()"
   ]
  },
  {
   "cell_type": "code",
   "execution_count": null,
   "metadata": {
    "colab": {
     "base_uri": "https://localhost:8080/",
     "height": 1000
    },
    "executionInfo": {
     "elapsed": 1941,
     "status": "ok",
     "timestamp": 1697343173564,
     "user": {
      "displayName": "viswa prakash",
      "userId": "10526577877653073872"
     },
     "user_tz": -330
    },
    "id": "iCbZWt0dyVZk",
    "outputId": "86675e17-9112-4178-fa5a-6e062e44eed4"
   },
   "outputs": [],
   "source": [
    "courses.groupby(['language'])[['avg_rating', 'num_reviews', 'num_comments']].agg('mean').style.background_gradient(cmap='Wistia')"
   ]
  },
  {
   "cell_type": "code",
   "execution_count": null,
   "metadata": {
    "colab": {
     "base_uri": "https://localhost:8080/",
     "height": 697
    },
    "executionInfo": {
     "elapsed": 43,
     "status": "ok",
     "timestamp": 1697343173564,
     "user": {
      "displayName": "viswa prakash",
      "userId": "10526577877653073872"
     },
     "user_tz": -330
    },
    "id": "SOV1mSEs0L_5",
    "outputId": "67d8e142-609e-42cd-fe85-cb8b548637ea"
   },
   "outputs": [],
   "source": [
    "plt.figure(figsize = (14,6))\n",
    "sns.countplot(x='instructor_name', data = courses,\n",
    "              order = courses['instructor_name'].value_counts().iloc[:10].index)\n",
    "plt.title('Top 10 Instructor with maximum Courses')\n",
    "plt.xlabel('Instructor Name')\n",
    "plt.ylabel('Number of Courses')\n",
    "plt.xticks(rotation = 45)\n",
    "plt.show()"
   ]
  },
  {
   "cell_type": "code",
   "execution_count": null,
   "metadata": {
    "executionInfo": {
     "elapsed": 40,
     "status": "ok",
     "timestamp": 1697343173565,
     "user": {
      "displayName": "viswa prakash",
      "userId": "10526577877653073872"
     },
     "user_tz": -330
    },
    "id": "FUU1SRCFOC1u"
   },
   "outputs": [],
   "source": [
    "courses['published_time'] = pd.to_datetime(courses['published_time'].str[0:10])\n",
    "courses['published_year'] = courses['published_time'].dt.year"
   ]
  },
  {
   "cell_type": "code",
   "execution_count": null,
   "metadata": {
    "colab": {
     "base_uri": "https://localhost:8080/",
     "height": 523
    },
    "executionInfo": {
     "elapsed": 38,
     "status": "ok",
     "timestamp": 1697343173565,
     "user": {
      "displayName": "viswa prakash",
      "userId": "10526577877653073872"
     },
     "user_tz": -330
    },
    "id": "X489I-yPT4xM",
    "outputId": "7bad64e7-3348-44c4-a571-feafac9b9992"
   },
   "outputs": [],
   "source": [
    "# Group the year column and perform operations for data visualization\n",
    "courses_year_count = courses['published_year'].value_counts()\n",
    "\n",
    "courses_num_subs = courses.groupby('published_year')['num_subscribers'].sum()\n",
    "\n",
    "courses_num_reviews = courses.groupby('published_year')['num_reviews'].sum()\n",
    "\n",
    "courses_num_comments = courses.groupby('published_year')['num_comments'].sum()\n",
    "\n",
    "courses_num_lectures = courses.groupby('published_year')['num_lectures'].sum()\n",
    "\n",
    "group_courses_year = pd.pivot_table(courses, index='published_year',\n",
    "                               values=['id', 'num_subscribers', 'num_reviews', 'num_comments', 'num_lectures'],\n",
    "                               aggfunc={'id': len, 'num_subscribers': np.sum, 'num_reviews':np.sum,\n",
    "                                        'num_comments':np.sum, 'num_lectures':np.sum})\n",
    "\n",
    "print('Year-wise count and sum values for different features: \\n')\n",
    "group_courses_year"
   ]
  },
  {
   "cell_type": "code",
   "execution_count": null,
   "metadata": {
    "colab": {
     "base_uri": "https://localhost:8080/",
     "height": 1000
    },
    "executionInfo": {
     "elapsed": 1127,
     "status": "ok",
     "timestamp": 1697343174658,
     "user": {
      "displayName": "viswa prakash",
      "userId": "10526577877653073872"
     },
     "user_tz": -330
    },
    "id": "xNhlDwM6UUrc",
    "outputId": "d791088c-8c77-4719-84a7-0a17a2712f98"
   },
   "outputs": [],
   "source": [
    "# Visualization of year-wise feature data\n",
    "dict_cols = dict({'id': 'Number of courses published', 'num_subscribers': 'Total subscribers',\n",
    "                  'num_comments': 'Total comments', 'num_reviews': 'Total reviews',\n",
    "                 'num_lectures': 'Total lectures'})\n",
    "\n",
    "for key, val in dict_cols.items():\n",
    "    df = group_courses_year\n",
    "    fig, ax = plt.subplots(figsize=(10,4))\n",
    "    sns.barplot(data=df, x=df.index, y=df[key], palette='hls')\n",
    "    ax.set_xlabel(\"Year\")\n",
    "    ax.set_ylabel(val)\n",
    "    ax.set_title(f'{val} per year')\n",
    "    plt.show()"
   ]
  },
  {
   "cell_type": "code",
   "execution_count": null,
   "metadata": {
    "executionInfo": {
     "elapsed": 4315,
     "status": "ok",
     "timestamp": 1697343178966,
     "user": {
      "displayName": "viswa prakash",
      "userId": "10526577877653073872"
     },
     "user_tz": -330
    },
    "id": "SXsAaXroVknf"
   },
   "outputs": [],
   "source": [
    "# Dropping rows with any column having NaN.\n",
    "comments = comments.dropna(axis=0).reset_index(drop=True)"
   ]
  },
  {
   "cell_type": "code",
   "execution_count": null,
   "metadata": {
    "executionInfo": {
     "elapsed": 676,
     "status": "ok",
     "timestamp": 1697343179605,
     "user": {
      "displayName": "viswa prakash",
      "userId": "10526577877653073872"
     },
     "user_tz": -330
    },
    "id": "WnqUHmUrXcHP"
   },
   "outputs": [],
   "source": [
    "# Mapping the course title from the courses dataframe to comments dataframe\n",
    "dict_id = dict(zip(courses['id'], courses['title']))\n",
    "comments['title'] = comments['course_id'].map(dict_id)"
   ]
  },
  {
   "cell_type": "code",
   "execution_count": null,
   "metadata": {
    "colab": {
     "base_uri": "https://localhost:8080/",
     "height": 293
    },
    "executionInfo": {
     "elapsed": 2195,
     "status": "ok",
     "timestamp": 1697343181788,
     "user": {
      "displayName": "viswa prakash",
      "userId": "10526577877653073872"
     },
     "user_tz": -330
    },
    "id": "MVsNn-ieXgX6",
    "outputId": "07510595-6166-44dd-af06-06e0885fb790"
   },
   "outputs": [],
   "source": [
    "# New column 'review' based on 'rate' column.\n",
    "comments['review'] = pd.cut(comments['rate'], bins=[0, 2.5, 3.0, 5.0], labels=['Negative', 'Neutral', 'Positive'])\n",
    "comments.sample(5)"
   ]
  },
  {
   "cell_type": "code",
   "execution_count": null,
   "metadata": {
    "colab": {
     "base_uri": "https://localhost:8080/",
     "height": 510
    },
    "executionInfo": {
     "elapsed": 40,
     "status": "ok",
     "timestamp": 1697343181790,
     "user": {
      "displayName": "viswa prakash",
      "userId": "10526577877653073872"
     },
     "user_tz": -330
    },
    "id": "TO-v9gkLXlBK",
    "outputId": "d1a63492-fe22-44b7-ee36-6022d130f202"
   },
   "outputs": [],
   "source": [
    "# Share of positive and negative reviews\n",
    "def autopct_format(values):\n",
    "        def my_format(pct):\n",
    "            total = sum(values)\n",
    "            val = int(round(pct*total/100.0))\n",
    "            return '{:.0f}%'.format(pct, v=val)\n",
    "        return my_format\n",
    "\n",
    "reviews_counts = comments['review'].value_counts()\n",
    "explode= [0,0.1,0.1]\n",
    "plt.pie(reviews_counts,labels = reviews_counts.index, explode=explode, autopct=autopct_format(reviews_counts))\n",
    "plt.show()\n",
    "print(f\"\\nNumber of Positive, Negative and Neutral Reviews:\\n{reviews_counts}\")"
   ]
  },
  {
   "cell_type": "markdown",
   "metadata": {
    "id": "rEK-5xvEM29c"
   },
   "source": [
    "## POPULARITY BASED COURSE RECOMMENDER SYSTEM"
   ]
  },
  {
   "cell_type": "code",
   "execution_count": null,
   "metadata": {
    "executionInfo": {
     "elapsed": 846,
     "status": "ok",
     "timestamp": 1697343182604,
     "user": {
      "displayName": "viswa prakash",
      "userId": "10526577877653073872"
     },
     "user_tz": -330
    },
    "id": "O3bxz6ClPS8g"
   },
   "outputs": [],
   "source": [
    "# Dropping rows with any columns having Nan\n",
    "courses = courses.dropna(axis=0).reset_index(drop=True)"
   ]
  },
  {
   "cell_type": "code",
   "execution_count": null,
   "metadata": {
    "executionInfo": {
     "elapsed": 51,
     "status": "ok",
     "timestamp": 1697343182604,
     "user": {
      "displayName": "viswa prakash",
      "userId": "10526577877653073872"
     },
     "user_tz": -330
    },
    "id": "dQX727l-qKdb"
   },
   "outputs": [],
   "source": [
    "# Filering courses for 4.5 and above ratings\n",
    "popular_courses = courses.loc[courses['avg_rating']>=4.5]"
   ]
  },
  {
   "cell_type": "code",
   "execution_count": null,
   "metadata": {
    "executionInfo": {
     "elapsed": 48,
     "status": "ok",
     "timestamp": 1697343182605,
     "user": {
      "displayName": "viswa prakash",
      "userId": "10526577877653073872"
     },
     "user_tz": -330
    },
    "id": "V4KVf0FhnQgV"
   },
   "outputs": [],
   "source": [
    "# Filtering with english language courses\n",
    "languages_to_keep = ['English']\n",
    "popular_courses = popular_courses.loc[popular_courses['language'].isin(languages_to_keep)].reset_index()"
   ]
  },
  {
   "cell_type": "code",
   "execution_count": null,
   "metadata": {
    "executionInfo": {
     "elapsed": 48,
     "status": "ok",
     "timestamp": 1697343182605,
     "user": {
      "displayName": "viswa prakash",
      "userId": "10526577877653073872"
     },
     "user_tz": -330
    },
    "id": "1cC5F7utLRQY"
   },
   "outputs": [],
   "source": [
    "popular_50_courses = popular_courses.sort_values('num_subscribers', ascending=False).head(50)"
   ]
  },
  {
   "cell_type": "code",
   "execution_count": null,
   "metadata": {
    "executionInfo": {
     "elapsed": 47,
     "status": "ok",
     "timestamp": 1697343182606,
     "user": {
      "displayName": "viswa prakash",
      "userId": "10526577877653073872"
     },
     "user_tz": -330
    },
    "id": "rSZTsjimUGJU"
   },
   "outputs": [],
   "source": [
    "popular_50_courses = popular_50_courses[['id', 'title', 'price', 'course_url', 'num_subscribers', 'avg_rating', 'content_length_min', 'published_time','instructor_name']]"
   ]
  },
  {
   "cell_type": "code",
   "execution_count": null,
   "metadata": {},
   "outputs": [],
   "source": [
    "popular_50_courses.head()"
   ]
  },
  {
   "cell_type": "markdown",
   "metadata": {
    "id": "nr2bzeHhVl1N"
   },
   "source": [
    "## CONTENT BASED COURSE RECOMMENDER SYSTEM"
   ]
  },
  {
   "cell_type": "code",
   "execution_count": null,
   "metadata": {
    "colab": {
     "base_uri": "https://localhost:8080/",
     "height": 318
    },
    "executionInfo": {
     "elapsed": 47,
     "status": "ok",
     "timestamp": 1697343182607,
     "user": {
      "displayName": "viswa prakash",
      "userId": "10526577877653073872"
     },
     "user_tz": -330
    },
    "id": "eFOaLf50mWB8",
    "outputId": "68a8c150-f35b-4f0f-d5e5-6c1bde991f8e"
   },
   "outputs": [],
   "source": [
    "popular_courses.head()"
   ]
  },
  {
   "cell_type": "code",
   "execution_count": null,
   "metadata": {
    "executionInfo": {
     "elapsed": 45,
     "status": "ok",
     "timestamp": 1697343182607,
     "user": {
      "displayName": "viswa prakash",
      "userId": "10526577877653073872"
     },
     "user_tz": -330
    },
    "id": "MKIvoLS7J67l"
   },
   "outputs": [],
   "source": [
    "popular_courses['tags'] = popular_courses['title'] + ' ' + popular_courses['headline'] + ' ' + popular_courses['instructor_name'] + ' ' + popular_courses['topic']"
   ]
  },
  {
   "cell_type": "code",
   "execution_count": null,
   "metadata": {
    "colab": {
     "base_uri": "https://localhost:8080/",
     "height": 318
    },
    "executionInfo": {
     "elapsed": 45,
     "status": "ok",
     "timestamp": 1697343182608,
     "user": {
      "displayName": "viswa prakash",
      "userId": "10526577877653073872"
     },
     "user_tz": -330
    },
    "id": "nt6LmGlXKtPk",
    "outputId": "75b55157-ea04-4a9c-840a-fae1296a77a0"
   },
   "outputs": [],
   "source": [
    "popular_courses = popular_courses.head(5000)"
   ]
  },
  {
   "cell_type": "code",
   "execution_count": null,
   "metadata": {
    "colab": {
     "base_uri": "https://localhost:8080/",
     "height": 206
    },
    "executionInfo": {
     "elapsed": 43,
     "status": "ok",
     "timestamp": 1697343182608,
     "user": {
      "displayName": "viswa prakash",
      "userId": "10526577877653073872"
     },
     "user_tz": -330
    },
    "id": "RIVpa5WHKvk6",
    "outputId": "9d8ea237-232e-4bb5-98db-e77ace4e476b"
   },
   "outputs": [],
   "source": [
    "courses_crs = popular_courses[['id', 'title', 'tags']]\n",
    "courses_crs.sample(10)"
   ]
  },
  {
   "cell_type": "code",
   "execution_count": null,
   "metadata": {
    "executionInfo": {
     "elapsed": 1165,
     "status": "ok",
     "timestamp": 1697343183732,
     "user": {
      "displayName": "viswa prakash",
      "userId": "10526577877653073872"
     },
     "user_tz": -330
    },
    "id": "seg-BGa4LR90"
   },
   "outputs": [],
   "source": [
    "courses_crs['tags'] = courses_crs['tags'].apply(lambda x: x.lower())\n",
    "courses_crs['tags'] = courses_crs['tags'].str.replace(\"[^\\w\\s]\",\"\")"
   ]
  },
  {
   "cell_type": "code",
   "execution_count": null,
   "metadata": {
    "executionInfo": {
     "elapsed": 7,
     "status": "ok",
     "timestamp": 1697343183732,
     "user": {
      "displayName": "viswa prakash",
      "userId": "10526577877653073872"
     },
     "user_tz": -330
    },
    "id": "q8hm3UFiLfRl"
   },
   "outputs": [],
   "source": [
    "ps = PorterStemmer()"
   ]
  },
  {
   "cell_type": "code",
   "execution_count": null,
   "metadata": {
    "executionInfo": {
     "elapsed": 7,
     "status": "ok",
     "timestamp": 1697343183733,
     "user": {
      "displayName": "viswa prakash",
      "userId": "10526577877653073872"
     },
     "user_tz": -330
    },
    "id": "7HhNKJ2LVgJN"
   },
   "outputs": [],
   "source": [
    "def stem(tags):\n",
    "  text = []\n",
    "\n",
    "  for i in tags.split():\n",
    "    text.append(ps.stem(i))\n",
    "\n",
    "  return \" \".join(text)"
   ]
  },
  {
   "cell_type": "code",
   "execution_count": null,
   "metadata": {
    "executionInfo": {
     "elapsed": 18748,
     "status": "ok",
     "timestamp": 1697343202474,
     "user": {
      "displayName": "viswa prakash",
      "userId": "10526577877653073872"
     },
     "user_tz": -330
    },
    "id": "ys2JUeDcX3jm"
   },
   "outputs": [],
   "source": [
    "courses_crs['tags'] = courses_crs['tags'].apply(stem)"
   ]
  },
  {
   "cell_type": "code",
   "execution_count": null,
   "metadata": {
    "executionInfo": {
     "elapsed": 1398,
     "status": "ok",
     "timestamp": 1697343203860,
     "user": {
      "displayName": "viswa prakash",
      "userId": "10526577877653073872"
     },
     "user_tz": -330
    },
    "id": "oyUL5R3AVgVd"
   },
   "outputs": [],
   "source": [
    "cv = CountVectorizer(max_features=500, stop_words='english')\n",
    "vectors = cv.fit_transform(courses_crs['tags']).toarray()"
   ]
  },
  {
   "cell_type": "code",
   "execution_count": null,
   "metadata": {
    "colab": {
     "base_uri": "https://localhost:8080/"
    },
    "executionInfo": {
     "elapsed": 39,
     "status": "ok",
     "timestamp": 1697343203861,
     "user": {
      "displayName": "viswa prakash",
      "userId": "10526577877653073872"
     },
     "user_tz": -330
    },
    "id": "jhDLwd27WINX",
    "outputId": "ad64219c-0893-4c21-c896-e5a2eff6dd40"
   },
   "outputs": [],
   "source": [
    "vectors.shape"
   ]
  },
  {
   "cell_type": "code",
   "execution_count": null,
   "metadata": {
    "colab": {
     "base_uri": "https://localhost:8080/"
    },
    "executionInfo": {
     "elapsed": 34,
     "status": "ok",
     "timestamp": 1697343203861,
     "user": {
      "displayName": "viswa prakash",
      "userId": "10526577877653073872"
     },
     "user_tz": -330
    },
    "id": "58JeXI1gWNjU",
    "outputId": "6bcff2a5-3016-4c75-8c28-9a1be65a8429"
   },
   "outputs": [],
   "source": [
    "cv.get_feature_names_out()"
   ]
  },
  {
   "cell_type": "code",
   "execution_count": null,
   "metadata": {
    "id": "rVUo0YIVWWV-"
   },
   "outputs": [],
   "source": [
    "similarity = cosine_similarity(vectors)"
   ]
  },
  {
   "cell_type": "code",
   "execution_count": null,
   "metadata": {
    "id": "pH0UXm8ZeQ0z"
   },
   "outputs": [],
   "source": [
    "def recommend(course):\n",
    "    course_index = courses_crs[courses_crs['title'] == course].index[0]\n",
    "    distances = similarity[course_index]\n",
    "    course_list = sorted(list(enumerate(distances)), reverse = True, key = lambda x: x[1])[1:7]\n",
    "    data = []\n",
    "    \n",
    "    for i in course_list:\n",
    "        item =[]\n",
    "        temp_df = popular_courses[popular_courses['title'] == popular_courses.iloc[i[0]].title]\n",
    "        item.extend(list(temp_df['title'].values))\n",
    "        item.extend(list(temp_df['instructor_name'].values))\n",
    "        item.extend(list(temp_df['course_url'].values))\n",
    "        \n",
    "        data.append(item)\n",
    "        \n",
    "    return data"
   ]
  },
  {
   "cell_type": "code",
   "execution_count": null,
   "metadata": {
    "id": "KTRYdUXMjY75"
   },
   "outputs": [],
   "source": [
    "recommend('How to Train a Puppy')"
   ]
  },
  {
   "cell_type": "code",
   "execution_count": null,
   "metadata": {},
   "outputs": [],
   "source": [
    "import pickle\n",
    "pickle.dump(popular_50_courses, open('popular_50_courses.pkl', 'wb'))"
   ]
  },
  {
   "cell_type": "code",
   "execution_count": null,
   "metadata": {},
   "outputs": [],
   "source": [
    "pickle.dump(popular_courses, open('popular_courses.pkl', 'wb'))\n",
    "pickle.dump(courses_crs, open('courses_crs.pkl', 'wb'))\n",
    "pickle.dump(vectors, open('vectors.pkl', 'wb'))"
   ]
  },
  {
   "cell_type": "code",
   "execution_count": null,
   "metadata": {},
   "outputs": [],
   "source": [
    "def searchterm(keyword, df):\n",
    "    result_df = df[df['title'].str.lower().str.contains(keyword)]\n",
    "    top6 = result_df.sort_values(by='num_subscribers', ascending=False).head(6)\n",
    "    return top6"
   ]
  },
  {
   "cell_type": "code",
   "execution_count": null,
   "metadata": {},
   "outputs": [],
   "source": [
    "user_input = 'Python'\n",
    "user_input = user_input.lower()\n",
    "resultdf = searchterm(user_input, popular_courses)\n",
    "data1 = []\n",
    "\n",
    "course_title = resultdf['title'].unique()[:7]\n",
    "    \n",
    "for title in course_title:\n",
    "    item1 = []\n",
    "    temp_df = resultdf.loc[resultdf['title'] == title]\n",
    "\n",
    "    item1.extend(list(temp_df['title'].values))\n",
    "    item1.extend(list(temp_df['instructor_name'].values))\n",
    "    item1.extend(list(temp_df['course_url'].values))\n",
    "        \n",
    "    data1.append(item1)\n",
    "    "
   ]
  },
  {
   "cell_type": "code",
   "execution_count": null,
   "metadata": {},
   "outputs": [],
   "source": [
    "data1"
   ]
  },
  {
   "cell_type": "code",
   "execution_count": null,
   "metadata": {},
   "outputs": [],
   "source": []
  }
 ],
 "metadata": {
  "accelerator": "GPU",
  "colab": {
   "authorship_tag": "ABX9TyM/uQIxGUMkW3tSbobTvvdj",
   "gpuType": "T4",
   "mount_file_id": "1vVvIYDby9VPrS9vwlfFxA5wnQx-7wZFV",
   "provenance": []
  },
  "kernelspec": {
   "display_name": "Python 3 (ipykernel)",
   "language": "python",
   "name": "python3"
  },
  "language_info": {
   "codemirror_mode": {
    "name": "ipython",
    "version": 3
   },
   "file_extension": ".py",
   "mimetype": "text/x-python",
   "name": "python",
   "nbconvert_exporter": "python",
   "pygments_lexer": "ipython3",
   "version": "3.9.7"
  }
 },
 "nbformat": 4,
 "nbformat_minor": 1
}
